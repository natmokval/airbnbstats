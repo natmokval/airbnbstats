{
 "cells": [
  {
   "cell_type": "markdown",
   "id": "d06954b3-9ca5-4007-9663-f6bf1edd930f",
   "metadata": {},
   "source": [
    "<a id=\"0.1\"></a>\n",
    "<h1 style=\"background-color:#38ACEC;font-family:newtimeroman;font-size:350%;text-align:center;border-radius: 15px 50px;\">Inhaltsverzeichnis</h1>\n",
    "\n",
    "* [1. Einführung](#1)\n",
    "    * [1.1 Datenquelle](#1.1)\n",
    "    * [1.2 Anforderungen](#1.2)\n",
    "    * [1.3 Datensatz und Datenwörterbuch](#1.3)\n",
    "* [2. Aufbereitung der Daten](#2)\n",
    "    * [2.1 Einlesen der Daten](#2.1)\n",
    "    * [2.2 Datenverständnis](#2.2)\n",
    "    * [2.3 Fehlende Werte und Duplikate](#2.3)\n",
    "* [3. Deskriptive Statistik](#3)\n",
    "    * [3.1 Mittelwert, Median, Ausreißer](#3.1)"
   ]
  },
  {
   "cell_type": "markdown",
   "id": "0ba92fd8-ae9a-459e-b17c-4be229dc5912",
   "metadata": {},
   "source": [
    "<a class=\"anchor\" id=\"1.1\"></a>\n",
    "<h3 style=\"background-color:#38ACEC;font-family:newtimeroman;font-size:180%;text-align:center;border-radius: 15px 50px;\">1.1 Datenquelle</h3>\n",
    "\n",
    "**Inside Airbnb** ist ein gemeinwohlorientiertes Projekt. Es sammelt Daten zu Airbnb zur Analyse der Wirkung auf **Wohngebiete**.\n",
    "*[_About – Inside Airbnb_](https://insideairbnb.com/about/)*\n",
    "                           \n",
    "[**Inhaltsverzeichnis**](#0.1)"
   ]
  },
  {
   "cell_type": "markdown",
   "id": "f8429737-aed0-4eb1-a5e8-967ce0c88030",
   "metadata": {},
   "source": [
    "<a class=\"anchor\" id=\"1.2\"></a>\n",
    "<h3 style=\"background-color:#38ACEC;font-family:newtimeroman;font-size:180%;text-align:center;border-radius: 15px 50px;\">1.2 Anforderungen</h3>\n",
    "\n",
    "\n",
    "**Liste der erforderlichen Bibliotheken:**\n",
    "- *`pandas`* — Daten laden, aufbereiten, zusammenfassen\n",
    "\n",
    "[**Inhaltsverzeichnis**](#0.1)"
   ]
  },
  {
   "cell_type": "code",
   "execution_count": 1,
   "id": "845bd3ac-9d34-4c7b-a27b-a4db51beff9c",
   "metadata": {},
   "outputs": [],
   "source": [
    "import re\n",
    "\n",
    "import numpy as np\n",
    "import pandas as pd"
   ]
  },
  {
   "cell_type": "markdown",
   "id": "5d63f3f2-db51-43cd-9b64-204ce13517aa",
   "metadata": {},
   "source": [
    "<a class=\"anchor\" id=\"1.3\"></a>\n",
    "<h3 style=\"background-color:#38ACEC;font-family:newtimeroman;font-size:180%;text-align:center;border-radius: 15px 50px;\">1.3 Datensatz & Datenwörterbuch</h3>\n",
    "\n",
    "\n",
    "- **Stadt:** New York City, New York, USA  \n",
    "- **Datei:** `listings.csv.gz` — *Detailed Listings*  \n",
    "- **Daten-Seite:** *[_Get the Data_](https://insideairbnb.com/get-the-data/)*  \n",
    "- **Datenwörterbuch:** *[Inside Airbnb Data Dictionary (Google Sheet)](https://docs.google.com/spreadsheets/d/1iWCNJcSutYqpULSQHlNyGInUvHg2BoUGoNRIGa6Szc4/edit?gid=1322284596#gid=1322284596)*\n",
    "\n",
    "[**Inhaltsverzeichnis**](#0.1)"
   ]
  },
  {
   "cell_type": "markdown",
   "id": "b86e4f41-f6cc-4ad8-b87c-399f268f666e",
   "metadata": {},
   "source": [
    "<a class=\"anchor\" id=\"2.1\"></a>\n",
    "<h3 style=\"background-color:#38ACEC;font-family:newtimeroman;font-size:180%;text-align:center;border-radius: 15px 50px;\">2.1 Einlesen der Daten</h3>\n",
    "\n",
    "                           \n",
    "[**Inhaltsverzeichnis**](#0.1)"
   ]
  },
  {
   "cell_type": "code",
   "execution_count": 2,
   "id": "e87accf3-e212-4206-b2d4-f786c8f8598b",
   "metadata": {},
   "outputs": [],
   "source": [
    "file = \"data/12/NewYorkCity/listings_big.csv\" \n",
    "\n",
    "df_orig = pd.read_csv(file, low_memory=False)"
   ]
  },
  {
   "cell_type": "markdown",
   "id": "d5a3c71c-4bf4-4805-9abc-a474921bdce8",
   "metadata": {},
   "source": [
    "<a class=\"anchor\" id=\"2.2\"></a>\n",
    "<h3 style=\"background-color:blue;font-family:newtimeroman;font-size:180%;text-align:center;border-radius: 15px 50px;\">2.2 Datenverständnis</h3>\n",
    "\n",
    "[**Inhaltsverzeichnis**](#0.1)"
   ]
  },
  {
   "cell_type": "code",
   "execution_count": 3,
   "id": "7c57995a-562a-4b7e-8da6-b5edc8414a04",
   "metadata": {},
   "outputs": [
    {
     "name": "stdout",
     "output_type": "stream",
     "text": [
      "<class 'pandas.core.frame.DataFrame'>\n",
      "RangeIndex: 36322 entries, 0 to 36321\n",
      "Data columns (total 65 columns):\n",
      " #   Column                                        Non-Null Count  Dtype  \n",
      "---  ------                                        --------------  -----  \n",
      " 0   id                                            36322 non-null  int64  \n",
      " 1   name                                          36320 non-null  object \n",
      " 2   host_id                                       36322 non-null  int64  \n",
      " 3   host_name                                     36307 non-null  object \n",
      " 4   host_since                                    36307 non-null  object \n",
      " 5   host_location                                 28913 non-null  object \n",
      " 6   host_response_time                            21550 non-null  object \n",
      " 7   host_response_rate                            21550 non-null  object \n",
      " 8   host_acceptance_rate                          21720 non-null  object \n",
      " 9   host_is_superhost                             35830 non-null  object \n",
      " 10  host_neighbourhood                            29034 non-null  object \n",
      " 11  host_listings_count                           36307 non-null  float64\n",
      " 12  host_total_listings_count                     36307 non-null  float64\n",
      " 13  host_verifications                            36307 non-null  object \n",
      " 14  host_has_profile_pic                          36307 non-null  object \n",
      " 15  host_identity_verified                        36307 non-null  object \n",
      " 16  neighbourhood                                 19085 non-null  object \n",
      " 17  neighbourhood_cleansed                        36322 non-null  object \n",
      " 18  neighbourhood_group_cleansed                  36322 non-null  object \n",
      " 19  latitude                                      36322 non-null  float64\n",
      " 20  longitude                                     36322 non-null  float64\n",
      " 21  property_type                                 36322 non-null  object \n",
      " 22  room_type                                     36322 non-null  object \n",
      " 23  accommodates                                  36322 non-null  int64  \n",
      " 24  bathrooms                                     21682 non-null  float64\n",
      " 25  bathrooms_text                                36286 non-null  object \n",
      " 26  bedrooms                                      30274 non-null  float64\n",
      " 27  beds                                          21620 non-null  float64\n",
      " 28  amenities                                     36322 non-null  object \n",
      " 29  price                                         21459 non-null  object \n",
      " 30  minimum_nights                                36322 non-null  int64  \n",
      " 31  maximum_nights                                36322 non-null  int64  \n",
      " 32  minimum_minimum_nights                        36322 non-null  int64  \n",
      " 33  maximum_minimum_nights                        36322 non-null  int64  \n",
      " 34  minimum_maximum_nights                        36322 non-null  int64  \n",
      " 35  maximum_maximum_nights                        36322 non-null  int64  \n",
      " 36  minimum_nights_avg_ntm                        36322 non-null  float64\n",
      " 37  maximum_nights_avg_ntm                        36322 non-null  float64\n",
      " 38  has_availability                              30705 non-null  object \n",
      " 39  availability_30                               36322 non-null  int64  \n",
      " 40  availability_60                               36322 non-null  int64  \n",
      " 41  availability_90                               36322 non-null  int64  \n",
      " 42  availability_365                              36322 non-null  int64  \n",
      " 43  number_of_reviews                             36322 non-null  int64  \n",
      " 44  number_of_reviews_ltm                         36322 non-null  int64  \n",
      " 45  number_of_reviews_l30d                        36322 non-null  int64  \n",
      " 46  availability_eoy                              36322 non-null  int64  \n",
      " 47  number_of_reviews_ly                          36322 non-null  int64  \n",
      " 48  estimated_occupancy_l365d                     36322 non-null  int64  \n",
      " 49  estimated_revenue_l365d                       21459 non-null  float64\n",
      " 50  first_review                                  25171 non-null  object \n",
      " 51  last_review                                   25171 non-null  object \n",
      " 52  review_scores_rating                          25171 non-null  float64\n",
      " 53  review_scores_accuracy                        25161 non-null  float64\n",
      " 54  review_scores_cleanliness                     25170 non-null  float64\n",
      " 55  review_scores_checkin                         25157 non-null  float64\n",
      " 56  review_scores_communication                   25165 non-null  float64\n",
      " 57  review_scores_location                        25154 non-null  float64\n",
      " 58  review_scores_value                           25155 non-null  float64\n",
      " 59  instant_bookable                              36322 non-null  object \n",
      " 60  calculated_host_listings_count                36322 non-null  int64  \n",
      " 61  calculated_host_listings_count_entire_homes   36322 non-null  int64  \n",
      " 62  calculated_host_listings_count_private_rooms  36322 non-null  int64  \n",
      " 63  calculated_host_listings_count_shared_rooms   36322 non-null  int64  \n",
      " 64  reviews_per_month                             25171 non-null  float64\n",
      "dtypes: float64(18), int64(23), object(24)\n",
      "memory usage: 18.0+ MB\n",
      "None\n"
     ]
    }
   ],
   "source": [
    "drop_columns = [\"listing_url\", \n",
    "                \"scrape_id\", \n",
    "                \"last_scraped\", \n",
    "                \"source\",\n",
    "                \"description\",\n",
    "                \"neighborhood_overview\", \n",
    "                \"picture_url\",\n",
    "                \"host_url\",\n",
    "                \"host_about\",\n",
    "                \"host_thumbnail_url\",\n",
    "                \"host_picture_url\",\n",
    "                \"calendar_last_scraped\",\n",
    "                \"license\", \n",
    "                \"calendar_updated\",\n",
    "                ]\n",
    "\n",
    "df = df_orig.drop(columns=drop_columns, axis=1)\n",
    "print(df.info())"
   ]
  },
  {
   "cell_type": "markdown",
   "id": "7aa6ace2-840d-475a-9a0d-46001dde9872",
   "metadata": {},
   "source": [
    "<a class=\"anchor\" id=\"2.3\"></a>\n",
    "<h3 style=\"background-color:#38ACEC;font-family:newtimeroman;font-size:180%;text-align:center;border-radius: 15px 50px;\">2.3 Fehlende Werte und Duplikate</h3>\n",
    "\n",
    "[**Inhaltsverzeichnis**](#0.1)"
   ]
  },
  {
   "cell_type": "code",
   "execution_count": null,
   "id": "e4d12917-4a09-41a1-8e8d-5cb054f15ad0",
   "metadata": {},
   "outputs": [],
   "source": [
    "PLAN:\n",
    "1. all column containing Datum convert to datetime type\n",
    "2. all columns containing \"boolean\" 't' and 'f' values convert to True/False boolean type\n",
    "3. check type for numeruc columns and convert object type to flot/int (\"price\" col)\n",
    "4. all columns object type containing strings convert to type string\n",
    "3. investigate columns with a lot of missing values to decide which we can drop\n",
    "name                            0.005506\n",
    "host_name                       0.041297\n",
    "host_since                      0.041297\n",
    "host_location                  20.398106 ==> drop\n",
    "host_response_time             40.669567\n",
    "host_response_rate             40.669567\n",
    "host_acceptance_rate           40.201531\n",
    "host_is_superhost               1.354551\n",
    "host_neighbourhood             20.064974\n",
    "host_listings_count             0.041297\n",
    "host_total_listings_count       0.041297\n",
    "host_verifications              0.041297\n",
    "host_has_profile_pic            0.041297\n",
    "host_identity_verified          0.041297\n",
    "neighbourhood                  47.456087 ==> drop\n",
    "bathrooms                       0.068829\n",
    "bathrooms_text                  0.099113 ==> drop\n",
    "bedrooms                       16.651065\n",
    "beds                           40.476846 ==> drop\n",
    "price                          40.920104 currency '$' \n",
    "has_availability               15.464457\n",
    "estimated_revenue_l365d        40.920104\n",
    "first_review                   30.700402\n",
    "last_review                    30.700402\n",
    "review_scores_rating           30.700402\n",
    "review_scores_accuracy         30.727933\n",
    "review_scores_cleanliness      30.703155\n",
    "review_scores_checkin          30.738946\n",
    "review_scores_communication    30.716921\n",
    "review_scores_location         30.747206\n",
    "review_scores_value            30.744452\n",
    "reviews_per_month              30.700402\n",
    "\n",
    "\n",
    "3.1 drop the column \"bathrooms_text\": columns \"bathrooms\" and \"bathrooms_text\" contain similar info, \n",
    "so we can fill missing values in \"bathrooms\" with the corresponding values from \"bathrooms_text\" (it has 0.1% missing values)\n",
    "4. fill missing values in columns with numeric type which we do not want to drop with mean value   \n",
    "5. fill missing values in columns with dtype 'object' which we do not want to drop with \"unknown\" value\n",
    "6. do not drop columns:\n",
    "7. drop columns:\n",
    "8. convert columns with dtype 'object' to the type 'category'\n",
    "9. save the final dataframe to file\n",
    "\n",
    "\n",
    "STATISTIC:\n",
    "1. Room type: Airbnb hosts can list entire homes/apartments, private, shared rooms, and more recently hotel rooms.\n",
    "   room_type:  ['Private room', 'Entire home/apt', 'Hotel room', 'Shared room']\n"
   ]
  },
  {
   "cell_type": "code",
   "execution_count": 4,
   "id": "47089f1c-67c0-4f8c-b9e2-52acfa586021",
   "metadata": {},
   "outputs": [],
   "source": [
    "# 1) Datums- und Bool-Typen bearbeiten\n",
    "if \"host_since\" in df.columns:\n",
    "    df[\"host_since\"] = pd.to_datetime(df[\"host_since\"], errors=\"coerce\")\n",
    "\n",
    "def to_bool(x):\n",
    "    if pd.isna(x):\n",
    "        return pd.NA\n",
    "    s = str(x).strip().lower()\n",
    "    if s == \"t\" or x == True: return True\n",
    "    if s == \"f\" or x == False:  return False\n",
    "    return pd.NA\n",
    "\n",
    "col_bool = [\"host_is_superhost\",\"host_has_profile_pic\",\"host_identity_verified\",\"instant_bookable\",\"has_availability\"]\n",
    "# for c in col_bol:\n",
    "#     print(df[c].unique())\n",
    "# ['f' 't' nan]\n",
    "# ['t' 'f' nan]\n",
    "# ['t' 'f' nan]\n",
    "# ['f' 't']\n",
    "# ['t' nan]\n",
    "    \n",
    "for c in [\"host_is_superhost\",\"host_has_profile_pic\",\"host_identity_verified\",\n",
    "          \"instant_bookable\",\"has_availability\"]:\n",
    "    if c in df.columns:\n",
    "        df[c] = df[c].map(to_bool).astype(\"boolean\")"
   ]
  },
  {
   "cell_type": "code",
   "execution_count": 5,
   "id": "9d619cd1-15f6-425c-923c-5112687a5eb5",
   "metadata": {},
   "outputs": [],
   "source": [
    "# Definition\n",
    "missing = df.isnull().sum().to_frame()\n",
    "\n",
    "def missing_values(df):\n",
    "    missing[\"Missing_values\"] = df.isnull().sum().to_frame()\n",
    "    missing[\"Total_perc\"] = (missing[\"Missing_values\"] / len(df)) * 100\n",
    "    return missing"
   ]
  },
  {
   "cell_type": "code",
   "execution_count": 6,
   "id": "1c57d9e5-0571-4c55-9fe6-ebc74fbf69fe",
   "metadata": {},
   "outputs": [
    {
     "data": {
      "text/plain": [
       "{'$'}"
      ]
     },
     "execution_count": 6,
     "metadata": {},
     "output_type": "execute_result"
    }
   ],
   "source": [
    "# Definition\n",
    "# Investigate \"price\" column\n",
    "\n",
    "def find_currency(df):\n",
    "    currency = []\n",
    "    for i in df[\"price\"].unique():\n",
    "        currency.append(str(i)[0])\n",
    "    currency.remove('n')\n",
    "    return set(currency)\n",
    "\n",
    "find_currency(df) # {'$'}"
   ]
  },
  {
   "cell_type": "code",
   "execution_count": 7,
   "id": "f1783985-9d66-4c27-bb6d-2faef574849d",
   "metadata": {},
   "outputs": [],
   "source": [
    "# df[df[\"price\"].isna() == True].loc[24]\n",
    "# df[\"price\"].loc[20:29]"
   ]
  },
  {
   "cell_type": "code",
   "execution_count": 8,
   "id": "3ddef2ea-4d34-43c2-8557-ced8544ae6fd",
   "metadata": {},
   "outputs": [
    {
     "data": {
      "text/plain": [
       "name                            0.005506\n",
       "host_name                       0.041297\n",
       "host_since                      0.041297\n",
       "host_location                  20.398106\n",
       "host_response_time             40.669567\n",
       "host_response_rate             40.669567\n",
       "host_acceptance_rate           40.201531\n",
       "host_is_superhost               1.354551\n",
       "host_neighbourhood             20.064974\n",
       "host_listings_count             0.041297\n",
       "host_total_listings_count       0.041297\n",
       "host_verifications              0.041297\n",
       "host_has_profile_pic            0.041297\n",
       "host_identity_verified          0.041297\n",
       "neighbourhood                  47.456087\n",
       "bathrooms                      40.306151\n",
       "bathrooms_text                  0.099113\n",
       "bedrooms                       16.651065\n",
       "beds                           40.476846\n",
       "price                          40.920104\n",
       "has_availability               15.464457\n",
       "estimated_revenue_l365d        40.920104\n",
       "first_review                   30.700402\n",
       "last_review                    30.700402\n",
       "review_scores_rating           30.700402\n",
       "review_scores_accuracy         30.727933\n",
       "review_scores_cleanliness      30.703155\n",
       "review_scores_checkin          30.738946\n",
       "review_scores_communication    30.716921\n",
       "review_scores_location         30.747206\n",
       "review_scores_value            30.744452\n",
       "reviews_per_month              30.700402\n",
       "Name: Total_perc, dtype: float64"
      ]
     },
     "execution_count": 8,
     "metadata": {},
     "output_type": "execute_result"
    }
   ],
   "source": [
    "# Investigate: Fehlende Werte\n",
    "\n",
    "# missing[\"Missing Values\"] = df.isnull().sum().to_frame()\n",
    "# missing[\"Total_perc\"] = (missing[\"Missing Values\"] / len(df)) * 100\n",
    "# missing[missing[\"Total_perc\"] > 10].Total_perc\n",
    "\n",
    "missing = missing_values(df)\n",
    "cols_to_drop = missing[missing[\"Total_perc\"] > 0].Total_perc\n",
    "cols_to_drop"
   ]
  },
  {
   "cell_type": "code",
   "execution_count": 9,
   "id": "cbf66c37-2bcd-4fc0-950d-a804ef12fe44",
   "metadata": {},
   "outputs": [
    {
     "data": {
      "text/plain": [
       "array([ 1. ,  1.5,  nan,  2. ,  2.5,  3. ,  5. ,  0. ,  0.5,  3.5, 15.5,\n",
       "       10.5,  4. ,  4.5,  5.5,  6. ,  7. ,  7.5,  9. ,  6.5])"
      ]
     },
     "execution_count": 9,
     "metadata": {},
     "output_type": "execute_result"
    }
   ],
   "source": [
    "# Investigate\n",
    "df[\"bathrooms\"].unique()\n",
    "# array([ 1. ,  1.5,  nan,  2. ,  2.5,  3. ,  5. ,  0. ,  0.5,  3.5, 15.5,\n",
    "#        10.5,  4. ,  4.5,  5.5,  6. ,  7. ,  7.5,  9. ,  6.5])"
   ]
  },
  {
   "cell_type": "code",
   "execution_count": 10,
   "id": "ac5baa26-e42b-4452-b07d-625851e5fc60",
   "metadata": {},
   "outputs": [
    {
     "data": {
      "text/plain": [
       "array(['1 private bath', '1 bath', '1.5 baths', '1 shared bath',\n",
       "       '1.5 shared baths', '2 baths', '2.5 baths', nan, '3 baths',\n",
       "       '5 baths', '0 shared baths', '2 shared baths', 'Shared half-bath',\n",
       "       '3.5 baths', '2.5 shared baths', 'Half-bath', 'Private half-bath',\n",
       "       '0 baths', '15.5 baths', '3 shared baths', '10.5 baths', '4 baths',\n",
       "       '4.5 baths', '3.5 shared baths', '4 shared baths',\n",
       "       '4.5 shared baths', '5.5 baths', '6 baths', '7 baths',\n",
       "       '6 shared baths', '7.5 baths', '9 baths', '5 shared baths',\n",
       "       '6.5 baths'], dtype=object)"
      ]
     },
     "execution_count": 10,
     "metadata": {},
     "output_type": "execute_result"
    }
   ],
   "source": [
    "# Investigate\n",
    "df[\"bathrooms_text\"].unique()\n",
    "# array(['1 private bath', '1 bath', '1.5 baths', '1 shared bath',\n",
    "#        '1.5 shared baths', '2 baths', '2.5 baths', nan, '3 baths',\n",
    "#        '5 baths', '0 shared baths', '2 shared baths', 'Shared half-bath',\n",
    "#        '3.5 baths', '2.5 shared baths', 'Half-bath', 'Private half-bath',\n",
    "#        '0 baths', '15.5 baths', '3 shared baths', '10.5 baths', '4 baths',\n",
    "#        '4.5 baths', '3.5 shared baths', '4 shared baths',\n",
    "#        '4.5 shared baths', '5.5 baths', '6 baths', '7 baths',\n",
    "#        '6 shared baths', '7.5 baths', '9 baths', '5 shared baths',\n",
    "#        '6.5 baths'], dtype=object)"
   ]
  },
  {
   "cell_type": "code",
   "execution_count": 11,
   "id": "69f3b077-11fc-4500-a06d-14f0f3aaaa2a",
   "metadata": {},
   "outputs": [
    {
     "data": {
      "text/plain": [
       "array([    4,     6,     9, ..., 36141, 36181, 36217], shape=(14640,))"
      ]
     },
     "execution_count": 11,
     "metadata": {},
     "output_type": "execute_result"
    }
   ],
   "source": [
    "# Investigate \"bathrooms\", \"bathrooms_text\"\n",
    "df_bathrooms_null_bathrooms_text = df[df[\"bathrooms\"].isnull()][[\"bathrooms\", \"bathrooms_text\"]]\n",
    "\n",
    "df_bathrooms_null_bathrooms_text\n",
    "idx = df_bathrooms_null_bathrooms_text.index.values\n",
    "idx\n",
    "# bathrooms\tbathrooms_text\n",
    "# 4\tNaN\t1 shared bath\n",
    "# 6\tNaN\t1 shared bath\n",
    "# 9\tNaN\t1 bath\n",
    "# 10\tNaN\t1 bath\n",
    "# 12\tNaN\t1.5 baths\n",
    "# ...\t...\t...\n",
    "# 36059\tNaN\t1 bath\n",
    "# 36088\tNaN\t1 private bath\n",
    "# 36141\tNaN\t1 private bath\n",
    "# 36181\tNaN\t2 shared baths\n",
    "# 36217\tNaN\t1 shared bath\n",
    "# 14640 rows × 2 columns"
   ]
  },
  {
   "cell_type": "code",
   "execution_count": 12,
   "id": "66a00a26-0f61-4b76-bafc-6bc9cbaf0eb4",
   "metadata": {},
   "outputs": [
    {
     "data": {
      "text/plain": [
       "array(['Private room', 'Entire home/apt', 'Hotel room', 'Shared room'],\n",
       "      dtype=object)"
      ]
     },
     "execution_count": 12,
     "metadata": {},
     "output_type": "execute_result"
    }
   ],
   "source": [
    "# Investigate Room Type\n",
    "df[\"room_type\"].unique()"
   ]
  },
  {
   "cell_type": "code",
   "execution_count": 13,
   "id": "dafabaa2-e265-4efb-8b03-abcd2b65f7bb",
   "metadata": {},
   "outputs": [
    {
     "name": "stdout",
     "output_type": "stream",
     "text": [
      "Missing-Rate gesamt: 0.409\n",
      "\n",
      "room_type – Missing-Rate:\n",
      "room_type\n",
      "Private room       0.460602\n",
      "Entire home/apt    0.367790\n",
      "Hotel room         0.358209\n",
      "Shared room        0.320388\n",
      "Name: price, dtype: float64\n",
      "\n",
      "neighbourhood_group_cleansed – Missing-Rate:\n",
      "neighbourhood_group_cleansed\n",
      "Brooklyn         0.449921\n",
      "Manhattan        0.406567\n",
      "Queens           0.372736\n",
      "Bronx            0.239094\n",
      "Staten Island    0.128767\n",
      "Name: price, dtype: float64\n",
      "\n",
      "accommodates – Missing-Rate:\n",
      "accommodates\n",
      "3     0.451167\n",
      "1     0.438180\n",
      "2     0.426719\n",
      "4     0.387290\n",
      "12    0.352273\n",
      "5     0.336921\n",
      "15    0.333333\n",
      "7     0.326087\n",
      "6     0.286585\n",
      "14    0.238095\n",
      "Name: price, dtype: float64\n",
      "\n",
      "accommodates Median (price vorhanden vs. fehlend): 2.0 vs 2.0\n"
     ]
    }
   ],
   "source": [
    "# Fill missing price\n",
    "miss = df[\"price\"].isna()\n",
    "\n",
    "print(\"Missing-Rate gesamt:\", miss.mean().round(3))\n",
    "\n",
    "# Missing-Rate nach Segmenten\n",
    "for col in [\"room_type\",\"neighbourhood_group_cleansed\",\"accommodates\"]:\n",
    "    if col in df.columns:\n",
    "        print(f\"\\n{col} – Missing-Rate:\")\n",
    "        print(df.groupby(col)[\"price\"].apply(lambda s: s.isna().mean()).sort_values(ascending=False).head(10))\n",
    "\n",
    "# Vergleich zentraler Maße (nur grob)\n",
    "print(\"\\naccommodates Median (price vorhanden vs. fehlend):\",\n",
    "      df.loc[~miss,\"accommodates\"].median(), \"vs\", df.loc[miss,\"accommodates\"].median())\n"
   ]
  },
  {
   "cell_type": "code",
   "execution_count": 14,
   "id": "15badb8e-2436-47aa-b86c-024e42099480",
   "metadata": {},
   "outputs": [
    {
     "name": "stdout",
     "output_type": "stream",
     "text": [
      "\n",
      "room_type – Anteil je Kategorie (price vorhanden vs. fehlend)\n",
      "                 present  missing\n",
      "room_type                        \n",
      "Entire home/apt    0.573    0.481\n",
      "Private room       0.411    0.507\n",
      "Hotel room         0.010    0.008\n",
      "Shared room        0.007    0.004\n",
      "\n",
      "neighbourhood_group_cleansed – Anteil je Kategorie (price vorhanden vs. fehlend)\n",
      "                              present  missing\n",
      "neighbourhood_group_cleansed                  \n",
      "Manhattan                       0.445    0.440\n",
      "Brooklyn                        0.342    0.403\n",
      "Queens                          0.157    0.134\n",
      "Bronx                           0.042    0.019\n",
      "Staten Island                   0.015    0.003\n",
      "\n",
      "accommodates – Anteil je Kategorie (price vorhanden vs. fehlend)\n",
      "              present  missing\n",
      "accommodates                  \n",
      "2               0.460    0.494\n",
      "1               0.171    0.192\n",
      "4               0.153    0.139\n",
      "3               0.078    0.092\n",
      "6               0.055    0.032\n",
      "5               0.037    0.027\n",
      "8               0.021    0.009\n",
      "7               0.009    0.006\n",
      "10              0.005    0.002\n",
      "16              0.005    0.002\n",
      "9               0.003    0.001\n",
      "12              0.003    0.002\n",
      "11              0.001    0.000\n",
      "14              0.001    0.000\n",
      "15              0.000    0.000\n",
      "13              0.000    0.000\n"
     ]
    }
   ],
   "source": [
    "# Vergleich der Verteilungen: vorhandener Preis vs. fehlender Preis\n",
    "miss = df[\"price\"].isna()\n",
    "\n",
    "for col in [\"room_type\",\"neighbourhood_group_cleansed\",\"accommodates\"]:\n",
    "    if col in df.columns:\n",
    "        print(f\"\\n{col} – Anteil je Kategorie (price vorhanden vs. fehlend)\")\n",
    "        print(pd.concat({\n",
    "            \"present\": df.loc[~miss, col].value_counts(normalize=True),\n",
    "            \"missing\": df.loc[ miss, col].value_counts(normalize=True)\n",
    "        }, axis=1).fillna(0).round(3))\n"
   ]
  },
  {
   "cell_type": "code",
   "execution_count": 15,
   "id": "ac684425-7b9c-4c8d-a3df-b30fbbc7f58c",
   "metadata": {},
   "outputs": [],
   "source": [
    "# price säubern => Zahl\n",
    "\n",
    "df[\"price\"] = (df[\"price\"].astype(str)\n",
    "                .str.replace(r\"[^\\d.\\-]\", \"\", regex=True)\n",
    "                .replace({\"\": np.nan}).astype(float))"
   ]
  },
  {
   "cell_type": "code",
   "execution_count": 16,
   "id": "7f1752b9-ef61-4fb5-8997-40df0472f400",
   "metadata": {},
   "outputs": [],
   "source": [
    "# Fill missing price: hierarchische Median-Imputation\n",
    "groupings = [\n",
    "    [\"neighbourhood_group_cleansed\",\"room_type\",\"accommodates\"],\n",
    "    [\"neighbourhood_group_cleansed\",\"room_type\"],\n",
    "    [\"room_type\",\"accommodates\"],\n",
    "    [\"room_type\"],\n",
    "]\n",
    "\n",
    "mask = df[\"price\"].isna()\n",
    "for cols in groupings:\n",
    "    cols = [c for c in cols if c in df.columns]\n",
    "    if not cols: \n",
    "        continue\n",
    "    med = df.groupby(cols)[\"price\"].transform(\"median\")\n",
    "    fill = df[\"price\"].isna() & med.notna()\n",
    "    df.loc[fill, \"price\"] = med[fill]\n",
    "\n",
    "# Fallback: globaler Median\n",
    "# if df[\"price\"].isna().any():\n",
    "#     df[\"price\"] = df[\"price\"].fillna(df[\"price\"].median())"
   ]
  },
  {
   "cell_type": "code",
   "execution_count": 17,
   "id": "f099609f-cbc6-4a2f-aa57-b414eb6be402",
   "metadata": {},
   "outputs": [
    {
     "name": "stdout",
     "output_type": "stream",
     "text": [
      "Fehlende Preise nach Imputation: 0\n"
     ]
    }
   ],
   "source": [
    "print(\"Fehlende Preise nach Imputation:\", df[\"price\"].isna().sum())"
   ]
  },
  {
   "cell_type": "code",
   "execution_count": 18,
   "id": "1ec5eb6e-3a07-4cca-950d-eed68dd04cbb",
   "metadata": {},
   "outputs": [
    {
     "data": {
      "text/plain": [
       "name                            0.005506\n",
       "host_name                       0.041297\n",
       "host_since                      0.041297\n",
       "host_location                  20.398106\n",
       "host_response_time             40.669567\n",
       "host_response_rate             40.669567\n",
       "host_acceptance_rate           40.201531\n",
       "host_is_superhost               1.354551\n",
       "host_neighbourhood             20.064974\n",
       "host_listings_count             0.041297\n",
       "host_total_listings_count       0.041297\n",
       "host_verifications              0.041297\n",
       "host_has_profile_pic            0.041297\n",
       "host_identity_verified          0.041297\n",
       "neighbourhood                  47.456087\n",
       "bathrooms                      40.306151\n",
       "bathrooms_text                  0.099113\n",
       "bedrooms                       16.651065\n",
       "beds                           40.476846\n",
       "has_availability               15.464457\n",
       "estimated_revenue_l365d        40.920104\n",
       "first_review                   30.700402\n",
       "last_review                    30.700402\n",
       "review_scores_rating           30.700402\n",
       "review_scores_accuracy         30.727933\n",
       "review_scores_cleanliness      30.703155\n",
       "review_scores_checkin          30.738946\n",
       "review_scores_communication    30.716921\n",
       "review_scores_location         30.747206\n",
       "review_scores_value            30.744452\n",
       "reviews_per_month              30.700402\n",
       "Name: Total_perc, dtype: float64"
      ]
     },
     "execution_count": 18,
     "metadata": {},
     "output_type": "execute_result"
    }
   ],
   "source": [
    "# Fehlende Werte: Analyse\n",
    "\n",
    "# missing[\"Missing_values\"] = df.isnull().sum().to_frame()\n",
    "# missing[\"% of Total\"] = (missing[\"Missing_values\"] / len(df)) * 100\n",
    "# missing[missing[\"Missing_values\"] > 0]\n",
    "    \n",
    "missing = missing_values(df)\n",
    "cols_to_drop = missing[missing[\"Total_perc\"] > 0].Total_perc\n",
    "cols_to_drop"
   ]
  },
  {
   "cell_type": "code",
   "execution_count": 19,
   "id": "2b45d194-e04a-4f5a-a830-a15d3dfded78",
   "metadata": {},
   "outputs": [],
   "source": [
    "# fill df[\"bathrooms\"] from df[\"bathrooms_text\"] only where it’s missing \n",
    "# (handles “1 bath”, “1.5 baths”, “Half-bath”, “shared half-bath”, “2 bathrooms”, etc.):\n",
    "\n",
    "pattern = re.compile(r\"\"\"(?ix)\n",
    "    ^\\s*                                                          # allow leading spaces\n",
    "    (?:                                                           # start alternation\n",
    "        (?P<num>\\d+(?:\\.\\d+)?)\\s*                                 # 1, 1.5, 0, 15.5\n",
    "        (?: (?:private|shared)\\s+ )?                              # optional qualifier after number\n",
    "        bath(?:room)?s?                                           # bath / bathroom(s)\n",
    "      |\n",
    "        (?: (?:private|shared)\\s+ )?                              # optional qualifier before 'half'\n",
    "        half[-\\s]?bath(?:room)?s?                                 # half-bath / half bathroom(s)\n",
    "    )\n",
    "    \\s*$                                                          # allow trailing spaces\n",
    "\"\"\")\n",
    "\n",
    "def parse_bath(text: str):\n",
    "    \"\"\"Parse bath count from bathrooms_text (your listed formats).\"\"\"\n",
    "    if not isinstance(text, str) or not text.strip():\n",
    "        return np.nan\n",
    "    m = pattern.match(text.strip())\n",
    "    if not m:\n",
    "        return np.nan\n",
    "    if m.group('num') is not None:        # numeric forms: '1 bath', '1.5 shared baths', '0 baths'\n",
    "        return float(m.group('num'))\n",
    "    else:                                  # 'half-bath', 'shared half-bath', 'private half-bath'\n",
    "        return 0.5\n",
    "\n",
    "# fill only missing bathrooms from parsed bathrooms_text\n",
    "df[\"bathrooms\"] = df[\"bathrooms\"].fillna(df[\"bathrooms_text\"].apply(parse_bath))\n"
   ]
  },
  {
   "cell_type": "code",
   "execution_count": 20,
   "id": "e0f29ee1-1477-4c31-9bc7-a41e35f9f925",
   "metadata": {},
   "outputs": [
    {
     "data": {
      "text/plain": [
       "25"
      ]
     },
     "execution_count": 20,
     "metadata": {},
     "output_type": "execute_result"
    }
   ],
   "source": [
    "df_bathrooms_null_bathrooms_text_filled = df[df[\"bathrooms\"].isnull()][[\"bathrooms\", \"bathrooms_text\"]]\n",
    "\n",
    "len(df_bathrooms_null_bathrooms_text_filled)"
   ]
  },
  {
   "cell_type": "code",
   "execution_count": 21,
   "id": "f17741c2-0ab0-4914-b3f6-b1dfd4cb2ce0",
   "metadata": {},
   "outputs": [
    {
     "data": {
      "text/plain": [
       "array([   59,   389,   443,   457,   469,   828,   849,  2347,  2503,\n",
       "        3018,  5822, 14940, 17366, 17367, 17381, 20029, 20054, 20057,\n",
       "       28437, 30861, 33572, 34513, 34973, 35625, 35811])"
      ]
     },
     "execution_count": 21,
     "metadata": {},
     "output_type": "execute_result"
    }
   ],
   "source": [
    "df_bathrooms_null_bathrooms_text_filled.index.values"
   ]
  },
  {
   "cell_type": "code",
   "execution_count": 22,
   "id": "bc6975a3-d89b-4ab4-8e38-21d898a876a0",
   "metadata": {},
   "outputs": [],
   "source": [
    "# Check\n",
    "for i in df_bathrooms_null_bathrooms_text_filled.index.values:\n",
    "    if i not in df_bathrooms_null_bathrooms_text.index.values:\n",
    "        print(\"Error: \", i)"
   ]
  },
  {
   "cell_type": "code",
   "execution_count": 23,
   "id": "71a8eb53-8188-4466-8f6f-f0f5092a1400",
   "metadata": {},
   "outputs": [],
   "source": [
    "# Check\n",
    "# df[[\"bathrooms\", \"bathrooms_text\"]].loc[idx[0:15]]\n",
    "\n",
    "# bathrooms\tbathrooms_text\n",
    "# 4\t1.0\t1 shared bath\n",
    "# 6\t1.0\t1 shared bath\n",
    "# 9\t1.0\t1 bath\n",
    "# 10\t1.0\t1 bath\n",
    "# 12\t1.5\t1.5 baths\n",
    "# 13\t1.0\t1 bath\n",
    "# 15\t1.0\t1 bath\n",
    "# 18\t2.0\t2 baths\n",
    "# 22\t2.5\t2.5 baths\n",
    "# 24\t1.0\t1 shared bath\n",
    "# 25\t2.0\t2 baths\n",
    "# 34\t1.0\t1 bath\n",
    "# 35\t1.0\t1 bath\n",
    "# 38\t1.0\t1 bath\n",
    "# 39\t1.0\t1 bath"
   ]
  },
  {
   "cell_type": "code",
   "execution_count": 24,
   "id": "c18adb8e-8efa-4052-b97a-fbe2c7b9cb83",
   "metadata": {},
   "outputs": [
    {
     "data": {
      "text/plain": [
       "array(['Neighborhood highlights', nan], dtype=object)"
      ]
     },
     "execution_count": 24,
     "metadata": {},
     "output_type": "execute_result"
    }
   ],
   "source": [
    "# Investigate: drop Yes\n",
    "df[\"neighbourhood\"].unique()\n",
    "\n",
    "# array(['Neighborhood highlights', nan], dtype=object)"
   ]
  },
  {
   "cell_type": "code",
   "execution_count": 25,
   "id": "cd0e48c7-46ea-4237-91e4-46741f5f6ef3",
   "metadata": {},
   "outputs": [],
   "source": [
    "# Drop \"neighbourhood\"\n",
    "df = df.drop(\"neighbourhood\", axis=1)"
   ]
  },
  {
   "cell_type": "code",
   "execution_count": 26,
   "id": "de914204-201e-4abd-84b3-3de78b49ff0b",
   "metadata": {},
   "outputs": [
    {
     "data": {
      "text/plain": [
       "536"
      ]
     },
     "execution_count": 26,
     "metadata": {},
     "output_type": "execute_result"
    }
   ],
   "source": [
    "# Investigate: drop No\n",
    "len(df[\"host_neighbourhood\"].unique())\n",
    "\n",
    "# array(['Gravesend', 'Midtown', 'Greenwood Heights', 'Williamsburg',\n",
    "#        'East Harlem', 'Fort Greene', 'Ridgewood', 'Alphabet City',\n",
    "#        'Greenwich Village', 'Harlem', ...], dtype=object)"
   ]
  },
  {
   "cell_type": "code",
   "execution_count": 27,
   "id": "59d45233-f7b1-400f-9a1c-6c8dddf1cb70",
   "metadata": {},
   "outputs": [],
   "source": [
    "# Investigate: drop No\n",
    "# df[\"host_location\"].unique()\n",
    "\n",
    "# array(['New York, NY', 'Woodstock, NY', ...])"
   ]
  },
  {
   "cell_type": "code",
   "execution_count": 28,
   "id": "b70f5e3d-615b-4879-891e-f23315e3b7c4",
   "metadata": {},
   "outputs": [],
   "source": [
    "# bathrooms aus Text -> Zahl\n",
    "\n",
    "def parse_bath(text: str):\n",
    "    if not isinstance(text, str):\n",
    "        return None\n",
    "    total = 0.0\n",
    "    found = False\n",
    "    for m in pattern.finditer(text):\n",
    "        s = m.group(0).lower()\n",
    "        if \"half\" in s:         \n",
    "            total += 0.5\n",
    "            found = True\n",
    "        else:\n",
    "            num = re.search(r'\\d+(?:\\.\\d+)?|\\d+\\s*/\\s*\\d+|½', s).group(0)\n",
    "            if '/' in num:\n",
    "                a, b = num.split('/')\n",
    "                total += float(a) / float(b)\n",
    "            elif num == '½':\n",
    "                total += 0.5\n",
    "            else:\n",
    "                total += float(num)\n",
    "            found = True\n",
    "    return total if found else None\n",
    "\n",
    "df[\"bathrooms_from_text\"] = df[\"bathrooms_text\"].apply(parse_bath)\n",
    "\n",
    "# bedrooms mit Mittelwert füllen\n"
   ]
  },
  {
   "cell_type": "code",
   "execution_count": 29,
   "id": "aef5d72f-b1f3-46f4-aefa-fc7f0ea87856",
   "metadata": {},
   "outputs": [
    {
     "data": {
      "text/plain": [
       "array([ 1. ,  1.5,  2. ,  2.5,  nan,  3. ,  5. ,  0. ,  0.5,  3.5, 15.5,\n",
       "       10.5,  4. ,  4.5,  5.5,  6. ,  7. ,  7.5,  9. ,  6.5])"
      ]
     },
     "execution_count": 29,
     "metadata": {},
     "output_type": "execute_result"
    }
   ],
   "source": [
    "df[\"bathrooms_from_text\"].unique()"
   ]
  },
  {
   "cell_type": "code",
   "execution_count": 30,
   "id": "88f160db-3d59-42b4-b2dc-935f5825f6bc",
   "metadata": {},
   "outputs": [
    {
     "data": {
      "text/plain": [
       "array([ 1. ,  1.5,  2. ,  2.5,  nan,  3. ,  5. ,  0. ,  0.5,  3.5, 15.5,\n",
       "       10.5,  4. ,  4.5,  5.5,  6. ,  7. ,  7.5,  9. ,  6.5])"
      ]
     },
     "execution_count": 30,
     "metadata": {},
     "output_type": "execute_result"
    }
   ],
   "source": [
    "df[\"bathrooms\"].unique()"
   ]
  },
  {
   "cell_type": "code",
   "execution_count": 31,
   "id": "c74df2e2-a642-4592-8af6-9ef4b86aa7b9",
   "metadata": {},
   "outputs": [],
   "source": [
    "# Drop \"bathrooms_text\"\n",
    "df = df.drop(\"bathrooms_text\", axis=1)"
   ]
  },
  {
   "cell_type": "code",
   "execution_count": 32,
   "id": "69a2f79f-9621-4941-abde-590e127f9cf5",
   "metadata": {},
   "outputs": [
    {
     "data": {
      "text/html": [
       "<div>\n",
       "<style scoped>\n",
       "    .dataframe tbody tr th:only-of-type {\n",
       "        vertical-align: middle;\n",
       "    }\n",
       "\n",
       "    .dataframe tbody tr th {\n",
       "        vertical-align: top;\n",
       "    }\n",
       "\n",
       "    .dataframe thead th {\n",
       "        text-align: right;\n",
       "    }\n",
       "</style>\n",
       "<table border=\"1\" class=\"dataframe\">\n",
       "  <thead>\n",
       "    <tr style=\"text-align: right;\">\n",
       "      <th></th>\n",
       "      <th>host_location</th>\n",
       "      <th>latitude</th>\n",
       "      <th>longitude</th>\n",
       "    </tr>\n",
       "  </thead>\n",
       "  <tbody>\n",
       "    <tr>\n",
       "      <th>0</th>\n",
       "      <td>New York, NY</td>\n",
       "      <td>40.64529</td>\n",
       "      <td>-73.97238</td>\n",
       "    </tr>\n",
       "    <tr>\n",
       "      <th>1</th>\n",
       "      <td>Woodstock, NY</td>\n",
       "      <td>40.75356</td>\n",
       "      <td>-73.98559</td>\n",
       "    </tr>\n",
       "    <tr>\n",
       "      <th>2</th>\n",
       "      <td>New York, NY</td>\n",
       "      <td>40.66265</td>\n",
       "      <td>-73.99454</td>\n",
       "    </tr>\n",
       "    <tr>\n",
       "      <th>3</th>\n",
       "      <td>New York, NY</td>\n",
       "      <td>40.70935</td>\n",
       "      <td>-73.95342</td>\n",
       "    </tr>\n",
       "    <tr>\n",
       "      <th>4</th>\n",
       "      <td>New York, NY</td>\n",
       "      <td>40.80107</td>\n",
       "      <td>-73.94255</td>\n",
       "    </tr>\n",
       "    <tr>\n",
       "      <th>5</th>\n",
       "      <td>New York, NY</td>\n",
       "      <td>40.78778</td>\n",
       "      <td>-73.94759</td>\n",
       "    </tr>\n",
       "    <tr>\n",
       "      <th>6</th>\n",
       "      <td>New York, NY</td>\n",
       "      <td>40.71248</td>\n",
       "      <td>-73.95881</td>\n",
       "    </tr>\n",
       "    <tr>\n",
       "      <th>7</th>\n",
       "      <td>New York, NY</td>\n",
       "      <td>40.69194</td>\n",
       "      <td>-73.97389</td>\n",
       "    </tr>\n",
       "    <tr>\n",
       "      <th>8</th>\n",
       "      <td>New York, NY</td>\n",
       "      <td>40.70271</td>\n",
       "      <td>-73.89930</td>\n",
       "    </tr>\n",
       "    <tr>\n",
       "      <th>9</th>\n",
       "      <td>New York, NY</td>\n",
       "      <td>40.72530</td>\n",
       "      <td>-73.98028</td>\n",
       "    </tr>\n",
       "  </tbody>\n",
       "</table>\n",
       "</div>"
      ],
      "text/plain": [
       "   host_location  latitude  longitude\n",
       "0   New York, NY  40.64529  -73.97238\n",
       "1  Woodstock, NY  40.75356  -73.98559\n",
       "2   New York, NY  40.66265  -73.99454\n",
       "3   New York, NY  40.70935  -73.95342\n",
       "4   New York, NY  40.80107  -73.94255\n",
       "5   New York, NY  40.78778  -73.94759\n",
       "6   New York, NY  40.71248  -73.95881\n",
       "7   New York, NY  40.69194  -73.97389\n",
       "8   New York, NY  40.70271  -73.89930\n",
       "9   New York, NY  40.72530  -73.98028"
      ]
     },
     "execution_count": 32,
     "metadata": {},
     "output_type": "execute_result"
    }
   ],
   "source": [
    "# Investigate: \n",
    "df[df[\"host_location\"].notnull()][[\"host_location\", \"latitude\", \"longitude\"]].head(10)"
   ]
  },
  {
   "cell_type": "code",
   "execution_count": 33,
   "id": "1443658e-41d3-4b20-8b23-d1e50e805656",
   "metadata": {},
   "outputs": [],
   "source": [
    "# df[\"host_location\"].unique()\n",
    "# array(['New York, NY', 'Woodstock, NY', 'Las Vegas, NV',\n",
    "       # 'New York, United States', 'Great Neck, NY', dtype=object...])"
   ]
  },
  {
   "cell_type": "code",
   "execution_count": 34,
   "id": "bc92a9bc-8931-4463-ab49-9b593098fe1d",
   "metadata": {},
   "outputs": [
    {
     "data": {
      "text/html": [
       "<div>\n",
       "<style scoped>\n",
       "    .dataframe tbody tr th:only-of-type {\n",
       "        vertical-align: middle;\n",
       "    }\n",
       "\n",
       "    .dataframe tbody tr th {\n",
       "        vertical-align: top;\n",
       "    }\n",
       "\n",
       "    .dataframe thead th {\n",
       "        text-align: right;\n",
       "    }\n",
       "</style>\n",
       "<table border=\"1\" class=\"dataframe\">\n",
       "  <thead>\n",
       "    <tr style=\"text-align: right;\">\n",
       "      <th></th>\n",
       "      <th>host_location</th>\n",
       "      <th>latitude</th>\n",
       "      <th>longitude</th>\n",
       "    </tr>\n",
       "  </thead>\n",
       "  <tbody>\n",
       "    <tr>\n",
       "      <th>35999</th>\n",
       "      <td>Vila Velha, Brazil</td>\n",
       "      <td>40.730115</td>\n",
       "      <td>-73.982319</td>\n",
       "    </tr>\n",
       "  </tbody>\n",
       "</table>\n",
       "</div>"
      ],
      "text/plain": [
       "            host_location   latitude  longitude\n",
       "35999  Vila Velha, Brazil  40.730115 -73.982319"
      ]
     },
     "execution_count": 34,
     "metadata": {},
     "output_type": "execute_result"
    }
   ],
   "source": [
    "# Investigate df[\"host_location\"]\n",
    "# Convert type df[\"host_location\"] to string\n",
    "df[\"host_location\"] = df[\"host_location\"].astype(\"string\") \n",
    "\n",
    "df[df[\"host_location\"] == \"Calgary, Canada\"][[\"host_location\", \"latitude\", \"longitude\"]]\n",
    "#         host_location\tlatitude\tlongitude\n",
    "# 34152\tCalgary, Canada\t40.678622\t-73.946671\n",
    "# BUT IT\"S NY !!!!\n",
    "\n",
    "df[df[\"host_location\"] == \"Vila Velha, Brazil\"][[\"host_location\", \"latitude\", \"longitude\"]]\n",
    "#         host_location\tlatitude\tlongitude\n",
    "# 35999\tVila Velha, Brazil\t40.730115\t-73.982319\n",
    "# BUT IT\"S NY !!!!\n",
    "# DROP df[\"host_location\"] - a lot of "
   ]
  },
  {
   "cell_type": "code",
   "execution_count": 35,
   "id": "ab58d029-f16e-46e7-8c50-feea00d1b9f8",
   "metadata": {},
   "outputs": [],
   "source": [
    "# Drop \"host_location\"\n",
    "df = df.drop(\"host_location\", axis=1)"
   ]
  },
  {
   "cell_type": "code",
   "execution_count": 37,
   "id": "73ee64e0-28e9-4959-8ab0-8e14bd7661b5",
   "metadata": {},
   "outputs": [
    {
     "data": {
      "text/plain": [
       "array([    0., 23280.,    nan, ..., 32768.,  1326.,  8823.], shape=(2442,))"
      ]
     },
     "execution_count": 37,
     "metadata": {},
     "output_type": "execute_result"
    }
   ],
   "source": [
    "# Investigate: drop Yes - not in the dictionary !!!!!\n",
    "df[\"estimated_revenue_l365d\"].unique()"
   ]
  },
  {
   "cell_type": "code",
   "execution_count": 38,
   "id": "af83c088-38c0-47cb-9960-6a376160b13a",
   "metadata": {},
   "outputs": [],
   "source": [
    "# Drop \"estimated_revenue_l365d\" missing values > 40%\n",
    "df = df.drop(\"estimated_revenue_l365d\", axis=1)"
   ]
  },
  {
   "cell_type": "code",
   "execution_count": 39,
   "id": "4d2b3665-ddb0-41f7-9795-f8e326a93717",
   "metadata": {},
   "outputs": [
    {
     "data": {
      "text/plain": [
       "name                            0.005506\n",
       "host_name                       0.041297\n",
       "host_since                      0.041297\n",
       "host_response_time             40.669567\n",
       "host_response_rate             40.669567\n",
       "host_acceptance_rate           40.201531\n",
       "host_is_superhost               1.354551\n",
       "host_neighbourhood             20.064974\n",
       "host_listings_count             0.041297\n",
       "host_total_listings_count       0.041297\n",
       "host_verifications              0.041297\n",
       "host_has_profile_pic            0.041297\n",
       "host_identity_verified          0.041297\n",
       "bathrooms                       0.068829\n",
       "bedrooms                       16.651065\n",
       "beds                           40.476846\n",
       "has_availability               15.464457\n",
       "first_review                   30.700402\n",
       "last_review                    30.700402\n",
       "review_scores_rating           30.700402\n",
       "review_scores_accuracy         30.727933\n",
       "review_scores_cleanliness      30.703155\n",
       "review_scores_checkin          30.738946\n",
       "review_scores_communication    30.716921\n",
       "review_scores_location         30.747206\n",
       "review_scores_value            30.744452\n",
       "reviews_per_month              30.700402\n",
       "Name: Total_perc, dtype: float64"
      ]
     },
     "execution_count": 39,
     "metadata": {},
     "output_type": "execute_result"
    }
   ],
   "source": [
    "missing = missing_values(df)\n",
    "cols_to_drop = missing[missing[\"Total_perc\"] > 0].Total_perc\n",
    "cols_to_drop"
   ]
  },
  {
   "cell_type": "code",
   "execution_count": 41,
   "id": "efb3aaed-f3ec-4a5b-9e0a-0f457551daf1",
   "metadata": {},
   "outputs": [
    {
     "data": {
      "text/plain": [
       "<BooleanArray>\n",
       "[True, <NA>]\n",
       "Length: 2, dtype: boolean"
      ]
     },
     "execution_count": 41,
     "metadata": {},
     "output_type": "execute_result"
    }
   ],
   "source": [
    "# Investigate \"has_availability \"\n",
    "df[\"has_availability\"].unique()\n",
    "# >>>\n",
    "# <BooleanArray>\n",
    "# [True, <NA>]\n",
    "# Length: 2, dtype: boolean\n",
    "\n",
    "df[df[\"has_availability\"].isnull()][[\"has_availability\", \"bathrooms_text\"]]"
   ]
  },
  {
   "cell_type": "code",
   "execution_count": null,
   "id": "864c8067-4171-4d9a-a2b7-f491dd747aad",
   "metadata": {},
   "outputs": [],
   "source": [
    "# Drop \"has_availability \"\n",
    "# df = df.drop(\"has_availability\", axis=1)"
   ]
  },
  {
   "cell_type": "code",
   "execution_count": null,
   "id": "52615765-21ef-43ae-9752-82b604b51cbb",
   "metadata": {},
   "outputs": [],
   "source": [
    "# Bevor dropping fill missing cells !!!!!"
   ]
  },
  {
   "cell_type": "code",
   "execution_count": null,
   "id": "5c6b64a4-7e13-4826-9723-52245bd85518",
   "metadata": {},
   "outputs": [],
   "source": [
    "# Bevor dropping fill missing cells !!!!!"
   ]
  },
  {
   "cell_type": "code",
   "execution_count": null,
   "id": "4133b9f0-d7ef-4c8c-9e5a-a9afa3aebd55",
   "metadata": {},
   "outputs": [],
   "source": [
    "# Fehlende Werte: Spalten mit hoher als 20% Fehlrate droppen.\n",
    "\n",
    "cols = df.columns[df.isna().mean() > 0.20]\n",
    "df1 = df.drop(columns=cols, axis=1)\n",
    "df1.info()"
   ]
  },
  {
   "cell_type": "code",
   "execution_count": null,
   "id": "1ccbc5a4-a8c2-4247-bd8e-56cf3763f349",
   "metadata": {},
   "outputs": [],
   "source": [
    "missing = missing_values(df1)\n",
    "cols_to_drop = missing[missing[\"Total_perc\"] > 0].Total_perc\n",
    "cols_to_drop"
   ]
  },
  {
   "cell_type": "code",
   "execution_count": null,
   "id": "c58e95cf-b357-4458-9e27-877b23d593aa",
   "metadata": {},
   "outputs": [],
   "source": [
    "df1.info()"
   ]
  },
  {
   "cell_type": "code",
   "execution_count": null,
   "id": "e1d44eeb-bed8-4eec-b9a3-e17cbbb07772",
   "metadata": {},
   "outputs": [],
   "source": [
    "df1.host_since.head(10)"
   ]
  },
  {
   "cell_type": "code",
   "execution_count": null,
   "id": "333b98dc-932a-4a4a-b047-3595f700a937",
   "metadata": {},
   "outputs": [],
   "source": []
  }
 ],
 "metadata": {
  "kernelspec": {
   "display_name": "Python 3 (ipykernel)",
   "language": "python",
   "name": "python3"
  },
  "language_info": {
   "codemirror_mode": {
    "name": "ipython",
    "version": 3
   },
   "file_extension": ".py",
   "mimetype": "text/x-python",
   "name": "python",
   "nbconvert_exporter": "python",
   "pygments_lexer": "ipython3",
   "version": "3.12.10"
  }
 },
 "nbformat": 4,
 "nbformat_minor": 5
}
