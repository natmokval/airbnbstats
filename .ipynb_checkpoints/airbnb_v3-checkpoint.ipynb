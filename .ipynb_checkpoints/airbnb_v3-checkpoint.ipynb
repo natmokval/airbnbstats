{
 "cells": [
  {
   "cell_type": "markdown",
   "id": "d06954b3-9ca5-4007-9663-f6bf1edd930f",
   "metadata": {},
   "source": [
    "<a id=\"0.1\"></a>\n",
    "<h1 style=\"background-color:#38ACEC;font-family:newtimeroman;font-size:350%;text-align:center;border-radius: 15px 50px;\">Inhaltsverzeichnis</h1>\n",
    "\n",
    "* [1. Einführung](#1)\n",
    "    * [1.1 Datenquelle](#1.1)\n",
    "    * [1.2 Anforderungen](#1.2)\n",
    "    * [1.3 Datensatz und Datenwörterbuch](#1.3)\n",
    "* [2. Aufbereitung der Daten](#2)\n",
    "    * [2.1 Einlesen der Daten](#2.1)\n",
    "    * [2.2 Datenverständnis](#2.2)\n",
    "    * [2.3 Fehlende Werte und Duplikate](#2.3)\n",
    "* [3. Deskriptive Statistik](#3)\n",
    "    * [3.1 Mittelwert, Median, Ausreißer](#3.1)"
   ]
  },
  {
   "cell_type": "markdown",
   "id": "0ba92fd8-ae9a-459e-b17c-4be229dc5912",
   "metadata": {},
   "source": [
    "<a class=\"anchor\" id=\"1.1\"></a>\n",
    "<h3 style=\"background-color:#38ACEC;font-family:newtimeroman;font-size:180%;text-align:center;border-radius: 15px 50px;\">1.1 Datenquelle</h3>\n",
    "\n",
    "**Inside Airbnb** ist ein gemeinwohlorientiertes Projekt. Es sammelt Daten zu Airbnb zur Analyse der Wirkung auf **Wohngebiete**.\n",
    "*[_About – Inside Airbnb_](https://insideairbnb.com/about/)*\n",
    "                           \n",
    "[**Inhaltsverzeichnis**](#0.1)"
   ]
  },
  {
   "cell_type": "markdown",
   "id": "f8429737-aed0-4eb1-a5e8-967ce0c88030",
   "metadata": {},
   "source": [
    "<a class=\"anchor\" id=\"1.2\"></a>\n",
    "<h3 style=\"background-color:#38ACEC;font-family:newtimeroman;font-size:180%;text-align:center;border-radius: 15px 50px;\">1.2 Anforderungen</h3>\n",
    "\n",
    "\n",
    "**Liste der erforderlichen Bibliotheken:**\n",
    "- *`pandas`* — Daten laden, aufbereiten, zusammenfassen\n",
    "\n",
    "[**Inhaltsverzeichnis**](#0.1)"
   ]
  },
  {
   "cell_type": "code",
   "execution_count": null,
   "id": "845bd3ac-9d34-4c7b-a27b-a4db51beff9c",
   "metadata": {},
   "outputs": [],
   "source": [
    "import re\n",
    "\n",
    "import numpy as np\n",
    "import pandas as pd"
   ]
  },
  {
   "cell_type": "markdown",
   "id": "5d63f3f2-db51-43cd-9b64-204ce13517aa",
   "metadata": {},
   "source": [
    "<a class=\"anchor\" id=\"1.3\"></a>\n",
    "<h3 style=\"background-color:#38ACEC;font-family:newtimeroman;font-size:180%;text-align:center;border-radius: 15px 50px;\">1.3 Datensatz & Datenwörterbuch</h3>\n",
    "\n",
    "\n",
    "- **Stadt:** New York City, New York, USA  \n",
    "- **Datei:** `listings.csv.gz` — *Detailed Listings*  \n",
    "- **Daten-Seite:** *[_Get the Data_](https://insideairbnb.com/get-the-data/)*  \n",
    "- **Datenwörterbuch:** *[Inside Airbnb Data Dictionary (Google Sheet)](https://docs.google.com/spreadsheets/d/1iWCNJcSutYqpULSQHlNyGInUvHg2BoUGoNRIGa6Szc4/edit?gid=1322284596#gid=1322284596)*\n",
    "\n",
    "[**Inhaltsverzeichnis**](#0.1)"
   ]
  },
  {
   "cell_type": "markdown",
   "id": "b86e4f41-f6cc-4ad8-b87c-399f268f666e",
   "metadata": {},
   "source": [
    "<a class=\"anchor\" id=\"2.1\"></a>\n",
    "<h3 style=\"background-color:#38ACEC;font-family:newtimeroman;font-size:180%;text-align:center;border-radius: 15px 50px;\">2.1 Einlesen der Daten</h3>\n",
    "\n",
    "                           \n",
    "[**Inhaltsverzeichnis**](#0.1)"
   ]
  },
  {
   "cell_type": "code",
   "execution_count": null,
   "id": "e87accf3-e212-4206-b2d4-f786c8f8598b",
   "metadata": {},
   "outputs": [],
   "source": [
    "file = \"data/12/NewYorkCity/listings_big.csv\" \n",
    "\n",
    "df_orig = pd.read_csv(file, low_memory=False)"
   ]
  },
  {
   "cell_type": "markdown",
   "id": "d5a3c71c-4bf4-4805-9abc-a474921bdce8",
   "metadata": {},
   "source": [
    "<a class=\"anchor\" id=\"2.2\"></a>\n",
    "<h3 style=\"background-color:blue;font-family:newtimeroman;font-size:180%;text-align:center;border-radius: 15px 50px;\">2.2 Datenverständnis</h3>\n",
    "\n",
    "[**Inhaltsverzeichnis**](#0.1)"
   ]
  },
  {
   "cell_type": "code",
   "execution_count": null,
   "id": "7c57995a-562a-4b7e-8da6-b5edc8414a04",
   "metadata": {},
   "outputs": [],
   "source": [
    "drop_columns = [\"listing_url\", \n",
    "                \"scrape_id\", \n",
    "                \"last_scraped\", \n",
    "                \"source\",\n",
    "                \"description\",\n",
    "                \"neighborhood_overview\", \n",
    "                \"picture_url\",\n",
    "                \"host_url\",\n",
    "                \"host_about\",\n",
    "                \"host_thumbnail_url\",\n",
    "                \"host_picture_url\",\n",
    "                \"calendar_last_scraped\",\n",
    "                \"license\", \n",
    "                \"calendar_updated\",\n",
    "                ]\n",
    "\n",
    "df = df_orig.drop(columns=drop_columns, axis=1)\n",
    "print(df.info())"
   ]
  },
  {
   "cell_type": "markdown",
   "id": "7aa6ace2-840d-475a-9a0d-46001dde9872",
   "metadata": {},
   "source": [
    "<a class=\"anchor\" id=\"2.3\"></a>\n",
    "<h3 style=\"background-color:#38ACEC;font-family:newtimeroman;font-size:180%;text-align:center;border-radius: 15px 50px;\">2.3 Fehlende Werte und Duplikate</h3>\n",
    "\n",
    "[**Inhaltsverzeichnis**](#0.1)"
   ]
  },
  {
   "cell_type": "code",
   "execution_count": null,
   "id": "e4d12917-4a09-41a1-8e8d-5cb054f15ad0",
   "metadata": {},
   "outputs": [],
   "source": [
    "PLAN:\n",
    "1. all column containing Datum convert to datetime type\n",
    "2. all columns containing \"boolean\" 't' and 'f' values convert to True/False boolean type\n",
    "3. check type for numeruc columns and convert object type to flot/int (\"price\" col)\n",
    "4. all columns object type containing strings convert to type string\n",
    "3. investigate columns with a lot of missing values to decide which we can drop\n",
    "name                            0.005506\n",
    "host_name                       0.041297\n",
    "host_since                      0.041297\n",
    "host_location                  20.398106 ==> drop\n",
    "host_response_time             40.669567\n",
    "host_response_rate             40.669567\n",
    "host_acceptance_rate           40.201531\n",
    "host_is_superhost               1.354551\n",
    "host_neighbourhood             20.064974\n",
    "host_listings_count             0.041297\n",
    "host_total_listings_count       0.041297\n",
    "host_verifications              0.041297\n",
    "host_has_profile_pic            0.041297\n",
    "host_identity_verified          0.041297\n",
    "neighbourhood                  47.456087 ==> drop\n",
    "bathrooms                       0.068829\n",
    "bathrooms_text                  0.099113 ==> drop\n",
    "bedrooms                       16.651065\n",
    "beds                           40.476846 ==> drop\n",
    "price                          40.920104 currency '$' \n",
    "has_availability               15.464457\n",
    "estimated_revenue_l365d        40.920104\n",
    "first_review                   30.700402\n",
    "last_review                    30.700402\n",
    "review_scores_rating           30.700402\n",
    "review_scores_accuracy         30.727933\n",
    "review_scores_cleanliness      30.703155\n",
    "review_scores_checkin          30.738946\n",
    "review_scores_communication    30.716921\n",
    "review_scores_location         30.747206\n",
    "review_scores_value            30.744452\n",
    "reviews_per_month              30.700402\n",
    "\n",
    "\n",
    "3.1 drop the column \"bathrooms_text\": columns \"bathrooms\" and \"bathrooms_text\" contain similar info, \n",
    "so we can fill missing values in \"bathrooms\" with the corresponding values from \"bathrooms_text\" (it has 0.1% missing values)\n",
    "4. fill missing values in columns with numeric type which we do not want to drop with mean value   \n",
    "5. fill missing values in columns with dtype 'object' which we do not want to drop with \"unknown\" value\n",
    "6. do not drop columns:\n",
    "7. drop columns:\n",
    "8. convert columns with dtype 'object' to the type 'category'\n",
    "9. save the final dataframe to file\n",
    "\n",
    "\n",
    "STATISTIC:\n",
    "1. Room type: Airbnb hosts can list entire homes/apartments, private, shared rooms, and more recently hotel rooms.\n",
    "   room_type:  ['Private room', 'Entire home/apt', 'Hotel room', 'Shared room']\n"
   ]
  },
  {
   "cell_type": "code",
   "execution_count": null,
   "id": "47089f1c-67c0-4f8c-b9e2-52acfa586021",
   "metadata": {},
   "outputs": [],
   "source": [
    "# 1) Datums- und Bool-Typen bearbeiten\n",
    "if \"host_since\" in df.columns:\n",
    "    df[\"host_since\"] = pd.to_datetime(df[\"host_since\"], errors=\"coerce\")\n",
    "\n",
    "def to_bool(x):\n",
    "    if pd.isna(x):\n",
    "        return pd.NA\n",
    "    s = str(x).strip().lower()\n",
    "    if s == \"t\" or x == True: return True\n",
    "    if s == \"f\" or x == False:  return False\n",
    "    return pd.NA\n",
    "\n",
    "col_bool = [\"host_is_superhost\",\"host_has_profile_pic\",\"host_identity_verified\",\"instant_bookable\",\"has_availability\"]\n",
    "# for c in col_bol:\n",
    "#     print(df[c].unique())\n",
    "# ['f' 't' nan]\n",
    "# ['t' 'f' nan]\n",
    "# ['t' 'f' nan]\n",
    "# ['f' 't']\n",
    "# ['t' nan]\n",
    "    \n",
    "for c in [\"host_is_superhost\",\"host_has_profile_pic\",\"host_identity_verified\",\n",
    "          \"instant_bookable\",\"has_availability\"]:\n",
    "    if c in df.columns:\n",
    "        df[c] = df[c].map(to_bool).astype(\"boolean\")"
   ]
  },
  {
   "cell_type": "code",
   "execution_count": null,
   "id": "9d619cd1-15f6-425c-923c-5112687a5eb5",
   "metadata": {},
   "outputs": [],
   "source": [
    "# Definition\n",
    "missing = df.isnull().sum().to_frame()\n",
    "\n",
    "def missing_values(df):\n",
    "    missing[\"Missing_values\"] = df.isnull().sum().to_frame()\n",
    "    missing[\"Total_perc\"] = (missing[\"Missing_values\"] / len(df)) * 100\n",
    "    return missing"
   ]
  },
  {
   "cell_type": "code",
   "execution_count": null,
   "id": "1c57d9e5-0571-4c55-9fe6-ebc74fbf69fe",
   "metadata": {},
   "outputs": [],
   "source": [
    "# Definition\n",
    "# Investigate \"price\" column\n",
    "\n",
    "def find_currency(df):\n",
    "    currency = []\n",
    "    for i in df[\"price\"].unique():\n",
    "        currency.append(str(i)[0])\n",
    "    currency.remove('n')\n",
    "    return set(currency)\n",
    "\n",
    "find_currency(df) # {'$'}"
   ]
  },
  {
   "cell_type": "code",
   "execution_count": null,
   "id": "f1783985-9d66-4c27-bb6d-2faef574849d",
   "metadata": {},
   "outputs": [],
   "source": [
    "# df[df[\"price\"].isna() == True].loc[24]\n",
    "# df[\"price\"].loc[20:29]"
   ]
  },
  {
   "cell_type": "code",
   "execution_count": null,
   "id": "3ddef2ea-4d34-43c2-8557-ced8544ae6fd",
   "metadata": {},
   "outputs": [],
   "source": [
    "# Investigate: Fehlende Werte\n",
    "\n",
    "# missing[\"Missing Values\"] = df.isnull().sum().to_frame()\n",
    "# missing[\"Total_perc\"] = (missing[\"Missing Values\"] / len(df)) * 100\n",
    "# missing[missing[\"Total_perc\"] > 10].Total_perc\n",
    "\n",
    "missing = missing_values(df)\n",
    "cols_to_drop = missing[missing[\"Total_perc\"] > 0].Total_perc\n",
    "cols_to_drop"
   ]
  },
  {
   "cell_type": "code",
   "execution_count": null,
   "id": "cbf66c37-2bcd-4fc0-950d-a804ef12fe44",
   "metadata": {},
   "outputs": [],
   "source": [
    "# Investigate\n",
    "df[\"bathrooms\"].unique()\n",
    "# array([ 1. ,  1.5,  nan,  2. ,  2.5,  3. ,  5. ,  0. ,  0.5,  3.5, 15.5,\n",
    "#        10.5,  4. ,  4.5,  5.5,  6. ,  7. ,  7.5,  9. ,  6.5])"
   ]
  },
  {
   "cell_type": "code",
   "execution_count": null,
   "id": "ac5baa26-e42b-4452-b07d-625851e5fc60",
   "metadata": {},
   "outputs": [],
   "source": [
    "# Investigate\n",
    "df[\"bathrooms_text\"].unique()\n",
    "# array(['1 private bath', '1 bath', '1.5 baths', '1 shared bath',\n",
    "#        '1.5 shared baths', '2 baths', '2.5 baths', nan, '3 baths',\n",
    "#        '5 baths', '0 shared baths', '2 shared baths', 'Shared half-bath',\n",
    "#        '3.5 baths', '2.5 shared baths', 'Half-bath', 'Private half-bath',\n",
    "#        '0 baths', '15.5 baths', '3 shared baths', '10.5 baths', '4 baths',\n",
    "#        '4.5 baths', '3.5 shared baths', '4 shared baths',\n",
    "#        '4.5 shared baths', '5.5 baths', '6 baths', '7 baths',\n",
    "#        '6 shared baths', '7.5 baths', '9 baths', '5 shared baths',\n",
    "#        '6.5 baths'], dtype=object)"
   ]
  },
  {
   "cell_type": "code",
   "execution_count": null,
   "id": "69f3b077-11fc-4500-a06d-14f0f3aaaa2a",
   "metadata": {},
   "outputs": [],
   "source": [
    "# Investigate \"bathrooms\", \"bathrooms_text\"\n",
    "df_bathrooms_null_bathrooms_text = df[df[\"bathrooms\"].isnull()][[\"bathrooms\", \"bathrooms_text\"]]\n",
    "\n",
    "df_bathrooms_null_bathrooms_text\n",
    "idx = df_bathrooms_null_bathrooms_text.index.values\n",
    "idx\n",
    "# bathrooms\tbathrooms_text\n",
    "# 4\tNaN\t1 shared bath\n",
    "# 6\tNaN\t1 shared bath\n",
    "# 9\tNaN\t1 bath\n",
    "# 10\tNaN\t1 bath\n",
    "# 12\tNaN\t1.5 baths\n",
    "# ...\t...\t...\n",
    "# 36059\tNaN\t1 bath\n",
    "# 36088\tNaN\t1 private bath\n",
    "# 36141\tNaN\t1 private bath\n",
    "# 36181\tNaN\t2 shared baths\n",
    "# 36217\tNaN\t1 shared bath\n",
    "# 14640 rows × 2 columns"
   ]
  },
  {
   "cell_type": "code",
   "execution_count": null,
   "id": "66a00a26-0f61-4b76-bafc-6bc9cbaf0eb4",
   "metadata": {},
   "outputs": [],
   "source": [
    "# Investigate Room Type\n",
    "\n",
    "df[\"room_type\"].unique()"
   ]
  },
  {
   "cell_type": "code",
   "execution_count": null,
   "id": "dafabaa2-e265-4efb-8b03-abcd2b65f7bb",
   "metadata": {},
   "outputs": [],
   "source": [
    "# Fill missing price\n",
    "miss = df[\"price\"].isna()\n",
    "\n",
    "print(\"Missing-Rate gesamt:\", miss.mean().round(3))\n",
    "\n",
    "# Missing-Rate nach Segmenten\n",
    "for col in [\"room_type\",\"neighbourhood_group_cleansed\",\"accommodates\"]:\n",
    "    if col in df.columns:\n",
    "        print(f\"\\n{col} – Missing-Rate:\")\n",
    "        print(df.groupby(col)[\"price\"].apply(lambda s: s.isna().mean()).sort_values(ascending=False).head(10))\n",
    "\n",
    "# Vergleich zentraler Maße (nur grob)\n",
    "print(\"\\naccommodates Median (price vorhanden vs. fehlend):\",\n",
    "      df.loc[~miss,\"accommodates\"].median(), \"vs\", df.loc[miss,\"accommodates\"].median())\n"
   ]
  },
  {
   "cell_type": "code",
   "execution_count": null,
   "id": "15badb8e-2436-47aa-b86c-024e42099480",
   "metadata": {},
   "outputs": [],
   "source": [
    "# Vergleich der Verteilungen: vorhandener Preis vs. fehlender Preis\n",
    "miss = df[\"price\"].isna()\n",
    "\n",
    "for col in [\"room_type\",\"neighbourhood_group_cleansed\",\"accommodates\"]:\n",
    "    if col in df.columns:\n",
    "        print(f\"\\n{col} – Anteil je Kategorie (price vorhanden vs. fehlend)\")\n",
    "        print(pd.concat({\n",
    "            \"present\": df.loc[~miss, col].value_counts(normalize=True),\n",
    "            \"missing\": df.loc[ miss, col].value_counts(normalize=True)\n",
    "        }, axis=1).fillna(0).round(3))\n"
   ]
  },
  {
   "cell_type": "code",
   "execution_count": null,
   "id": "ac684425-7b9c-4c8d-a3df-b30fbbc7f58c",
   "metadata": {},
   "outputs": [],
   "source": [
    "# price säubern => Zahl\n",
    "\n",
    "df[\"price\"] = (df[\"price\"].astype(str)\n",
    "                .str.replace(r\"[^\\d.\\-]\", \"\", regex=True)\n",
    "                .replace({\"\": np.nan}).astype(float))"
   ]
  },
  {
   "cell_type": "code",
   "execution_count": null,
   "id": "7f1752b9-ef61-4fb5-8997-40df0472f400",
   "metadata": {},
   "outputs": [],
   "source": [
    "# Fill missing price: hierarchische Median-Imputation\n",
    "groupings = [\n",
    "    [\"neighbourhood_group_cleansed\",\"room_type\",\"accommodates\"],\n",
    "    [\"neighbourhood_group_cleansed\",\"room_type\"],\n",
    "    [\"room_type\",\"accommodates\"],\n",
    "    [\"room_type\"],\n",
    "]\n",
    "\n",
    "mask = df[\"price\"].isna()\n",
    "for cols in groupings:\n",
    "    cols = [c for c in cols if c in df.columns]\n",
    "    if not cols: \n",
    "        continue\n",
    "    med = df.groupby(cols)[\"price\"].transform(\"median\")\n",
    "    fill = df[\"price\"].isna() & med.notna()\n",
    "    df.loc[fill, \"price\"] = med[fill]\n",
    "\n",
    "# Fallback: globaler Median\n",
    "# if df[\"price\"].isna().any():\n",
    "#     df[\"price\"] = df[\"price\"].fillna(df[\"price\"].median())"
   ]
  },
  {
   "cell_type": "code",
   "execution_count": null,
   "id": "f099609f-cbc6-4a2f-aa57-b414eb6be402",
   "metadata": {},
   "outputs": [],
   "source": [
    "print(\"Fehlende Preise nach Imputation:\", df[\"price\"].isna().sum())"
   ]
  },
  {
   "cell_type": "code",
   "execution_count": null,
   "id": "1ec5eb6e-3a07-4cca-950d-eed68dd04cbb",
   "metadata": {},
   "outputs": [],
   "source": [
    "# Fehlende Werte: Analyse\n",
    "\n",
    "# missing[\"Missing_values\"] = df.isnull().sum().to_frame()\n",
    "# missing[\"% of Total\"] = (missing[\"Missing_values\"] / len(df)) * 100\n",
    "# missing[missing[\"Missing_values\"] > 0]\n",
    "    \n",
    "missing = missing_values(df)\n",
    "cols_to_drop = missing[missing[\"Total_perc\"] > 0].Total_perc\n",
    "cols_to_drop"
   ]
  },
  {
   "cell_type": "code",
   "execution_count": null,
   "id": "2b45d194-e04a-4f5a-a830-a15d3dfded78",
   "metadata": {},
   "outputs": [],
   "source": [
    "# fill df[\"bathrooms\"] from df[\"bathrooms_text\"] only where it’s missing \n",
    "# (handles “1 bath”, “1.5 baths”, “Half-bath”, “shared half-bath”, “2 bathrooms”, etc.):\n",
    "\n",
    "pattern = re.compile(r\"\"\"(?ix)\n",
    "    ^\\s*                                                          # allow leading spaces\n",
    "    (?:                                                           # start alternation\n",
    "        (?P<num>\\d+(?:\\.\\d+)?)\\s*                                 # 1, 1.5, 0, 15.5\n",
    "        (?: (?:private|shared)\\s+ )?                              # optional qualifier after number\n",
    "        bath(?:room)?s?                                           # bath / bathroom(s)\n",
    "      |\n",
    "        (?: (?:private|shared)\\s+ )?                              # optional qualifier before 'half'\n",
    "        half[-\\s]?bath(?:room)?s?                                 # half-bath / half bathroom(s)\n",
    "    )\n",
    "    \\s*$                                                          # allow trailing spaces\n",
    "\"\"\")\n",
    "\n",
    "def parse_bath(text: str):\n",
    "    \"\"\"Parse bath count from bathrooms_text (your listed formats).\"\"\"\n",
    "    if not isinstance(text, str) or not text.strip():\n",
    "        return np.nan\n",
    "    m = pattern.match(text.strip())\n",
    "    if not m:\n",
    "        return np.nan\n",
    "    if m.group('num') is not None:        # numeric forms: '1 bath', '1.5 shared baths', '0 baths'\n",
    "        return float(m.group('num'))\n",
    "    else:                                  # 'half-bath', 'shared half-bath', 'private half-bath'\n",
    "        return 0.5\n",
    "\n",
    "# fill only missing bathrooms from parsed bathrooms_text\n",
    "df[\"bathrooms\"] = df[\"bathrooms\"].fillna(df[\"bathrooms_text\"].apply(parse_bath))\n"
   ]
  },
  {
   "cell_type": "code",
   "execution_count": null,
   "id": "e0f29ee1-1477-4c31-9bc7-a41e35f9f925",
   "metadata": {},
   "outputs": [],
   "source": [
    "df_bathrooms_null_bathrooms_text_filled = df[df[\"bathrooms\"].isnull()][[\"bathrooms\", \"bathrooms_text\"]]\n",
    "\n",
    "len(df_bathrooms_null_bathrooms_text_filled)"
   ]
  },
  {
   "cell_type": "code",
   "execution_count": null,
   "id": "f17741c2-0ab0-4914-b3f6-b1dfd4cb2ce0",
   "metadata": {},
   "outputs": [],
   "source": [
    "df_bathrooms_null_bathrooms_text_filled.index.values"
   ]
  },
  {
   "cell_type": "code",
   "execution_count": null,
   "id": "bc6975a3-d89b-4ab4-8e38-21d898a876a0",
   "metadata": {},
   "outputs": [],
   "source": [
    "# Check\n",
    "for i in df_bathrooms_null_bathrooms_text_filled.index.values:\n",
    "    if i not in df_bathrooms_null_bathrooms_text.index.values:\n",
    "        print(\"Error: \", i)"
   ]
  },
  {
   "cell_type": "code",
   "execution_count": null,
   "id": "71a8eb53-8188-4466-8f6f-f0f5092a1400",
   "metadata": {},
   "outputs": [],
   "source": [
    "# Check\n",
    "# df[[\"bathrooms\", \"bathrooms_text\"]].loc[idx[0:15]]\n",
    "\n",
    "# bathrooms\tbathrooms_text\n",
    "# 4\t1.0\t1 shared bath\n",
    "# 6\t1.0\t1 shared bath\n",
    "# 9\t1.0\t1 bath\n",
    "# 10\t1.0\t1 bath\n",
    "# 12\t1.5\t1.5 baths\n",
    "# 13\t1.0\t1 bath\n",
    "# 15\t1.0\t1 bath\n",
    "# 18\t2.0\t2 baths\n",
    "# 22\t2.5\t2.5 baths\n",
    "# 24\t1.0\t1 shared bath\n",
    "# 25\t2.0\t2 baths\n",
    "# 34\t1.0\t1 bath\n",
    "# 35\t1.0\t1 bath\n",
    "# 38\t1.0\t1 bath\n",
    "# 39\t1.0\t1 bath"
   ]
  },
  {
   "cell_type": "code",
   "execution_count": null,
   "id": "a251d842-7100-4816-b5c0-e2c4382bb837",
   "metadata": {},
   "outputs": [],
   "source": [
    "# Drop \"bathrooms_text\"\n",
    "df = df.drop(\"bathrooms_text\", axis=1)"
   ]
  },
  {
   "cell_type": "code",
   "execution_count": null,
   "id": "c18adb8e-8efa-4052-b97a-fbe2c7b9cb83",
   "metadata": {},
   "outputs": [],
   "source": [
    "# Investigate: drop Yes\n",
    "df[\"neighbourhood\"].unique()\n",
    "\n",
    "# array(['Neighborhood highlights', nan], dtype=object)"
   ]
  },
  {
   "cell_type": "code",
   "execution_count": null,
   "id": "cd0e48c7-46ea-4237-91e4-46741f5f6ef3",
   "metadata": {},
   "outputs": [],
   "source": [
    "# Drop \"neighbourhood\"\n",
    "df = df.drop(\"neighbourhood\", axis=1)"
   ]
  },
  {
   "cell_type": "code",
   "execution_count": null,
   "id": "de914204-201e-4abd-84b3-3de78b49ff0b",
   "metadata": {},
   "outputs": [],
   "source": [
    "# Investigate: drop No\n",
    "len(df[\"host_neighbourhood\"].unique())\n",
    "\n",
    "# array(['Gravesend', 'Midtown', 'Greenwood Heights', 'Williamsburg',\n",
    "#        'East Harlem', 'Fort Greene', 'Ridgewood', 'Alphabet City',\n",
    "#        'Greenwich Village', 'Harlem', ...], dtype=object)"
   ]
  },
  {
   "cell_type": "code",
   "execution_count": null,
   "id": "59d45233-f7b1-400f-9a1c-6c8dddf1cb70",
   "metadata": {},
   "outputs": [],
   "source": [
    "# Investigate: drop No\n",
    "# df[\"host_location\"].unique()\n",
    "\n",
    "# array(['New York, NY', 'Woodstock, NY', ...])"
   ]
  },
  {
   "cell_type": "code",
   "execution_count": null,
   "id": "b70f5e3d-615b-4879-891e-f23315e3b7c4",
   "metadata": {},
   "outputs": [],
   "source": [
    "# bathrooms aus Text -> Zahl\n",
    "\n",
    "def parse_bath(text: str):\n",
    "    if not isinstance(text, str):\n",
    "        return None\n",
    "    total = 0.0\n",
    "    found = False\n",
    "    for m in pattern.finditer(text):\n",
    "        s = m.group(0).lower()\n",
    "        if \"half\" in s:         \n",
    "            total += 0.5\n",
    "            found = True\n",
    "        else:\n",
    "            num = re.search(r'\\d+(?:\\.\\d+)?|\\d+\\s*/\\s*\\d+|½', s).group(0)\n",
    "            if '/' in num:\n",
    "                a, b = num.split('/')\n",
    "                total += float(a) / float(b)\n",
    "            elif num == '½':\n",
    "                total += 0.5\n",
    "            else:\n",
    "                total += float(num)\n",
    "            found = True\n",
    "    return total if found else None\n",
    "\n",
    "df[\"bathrooms_from_text\"] = df[\"bathrooms_text\"].apply(parse_bath)\n",
    "\n",
    "# bedrooms mit Mittelwert füllen\n"
   ]
  },
  {
   "cell_type": "code",
   "execution_count": null,
   "id": "aef5d72f-b1f3-46f4-aefa-fc7f0ea87856",
   "metadata": {},
   "outputs": [],
   "source": [
    "df[\"bathrooms_from_text\"].unique()"
   ]
  },
  {
   "cell_type": "code",
   "execution_count": null,
   "id": "88f160db-3d59-42b4-b2dc-935f5825f6bc",
   "metadata": {},
   "outputs": [],
   "source": [
    "df[\"bathrooms\"].unique()"
   ]
  },
  {
   "cell_type": "code",
   "execution_count": null,
   "id": "69a2f79f-9621-4941-abde-590e127f9cf5",
   "metadata": {},
   "outputs": [],
   "source": [
    "# Investigate: \n",
    "df[df[\"host_location\"].notnull()][[\"host_location\", \"latitude\", \"longitude\"]].head(10)"
   ]
  },
  {
   "cell_type": "code",
   "execution_count": null,
   "id": "1443658e-41d3-4b20-8b23-d1e50e805656",
   "metadata": {},
   "outputs": [],
   "source": [
    "# df[\"host_location\"].unique()\n",
    "# array(['New York, NY', 'Woodstock, NY', 'Las Vegas, NV',\n",
    "       # 'New York, United States', 'Great Neck, NY', dtype=object...])"
   ]
  },
  {
   "cell_type": "code",
   "execution_count": null,
   "id": "bc92a9bc-8931-4463-ab49-9b593098fe1d",
   "metadata": {},
   "outputs": [],
   "source": [
    "# Investigate df[\"host_location\"]\n",
    "# Convert type df[\"host_location\"] to string\n",
    "df[\"host_location\"] = df[\"host_location\"].astype(\"string\") \n",
    "\n",
    "df[df[\"host_location\"] == \"Calgary, Canada\"][[\"host_location\", \"latitude\", \"longitude\"]]\n",
    "#         host_location\tlatitude\tlongitude\n",
    "# 34152\tCalgary, Canada\t40.678622\t-73.946671\n",
    "# BUT IT\"S NY !!!!\n",
    "\n",
    "df[df[\"host_location\"] == \"Vila Velha, Brazil\"][[\"host_location\", \"latitude\", \"longitude\"]]\n",
    "#         host_location\tlatitude\tlongitude\n",
    "# 35999\tVila Velha, Brazil\t40.730115\t-73.982319\n",
    "# BUT IT\"S NY !!!!\n",
    "# DROP df[\"host_location\"] - a lot of "
   ]
  },
  {
   "cell_type": "code",
   "execution_count": null,
   "id": "ab58d029-f16e-46e7-8c50-feea00d1b9f8",
   "metadata": {},
   "outputs": [],
   "source": [
    "# Drop \"host_location\"\n",
    "df = df.drop(\"host_location\", axis=1)"
   ]
  },
  {
   "cell_type": "code",
   "execution_count": null,
   "id": "a9decd17-8e2f-4214-924a-ab11d7f9ab23",
   "metadata": {},
   "outputs": [],
   "source": [
    "missing = missing_values(df)\n",
    "cols_to_drop = missing[missing[\"Total_perc\"] > 0].Total_perc\n",
    "cols_to_drop"
   ]
  },
  {
   "cell_type": "code",
   "execution_count": null,
   "id": "52615765-21ef-43ae-9752-82b604b51cbb",
   "metadata": {},
   "outputs": [],
   "source": [
    "# Bevor dropping fill missing cells !!!!!"
   ]
  },
  {
   "cell_type": "code",
   "execution_count": null,
   "id": "5c6b64a4-7e13-4826-9723-52245bd85518",
   "metadata": {},
   "outputs": [],
   "source": [
    "# Bevor dropping fill missing cells !!!!!"
   ]
  },
  {
   "cell_type": "code",
   "execution_count": null,
   "id": "4133b9f0-d7ef-4c8c-9e5a-a9afa3aebd55",
   "metadata": {},
   "outputs": [],
   "source": [
    "# Fehlende Werte: Spalten mit hoher als 20% Fehlrate droppen.\n",
    "\n",
    "cols = df.columns[df.isna().mean() > 0.20]\n",
    "df1 = df.drop(columns=cols, axis=1)\n",
    "df1.info()"
   ]
  },
  {
   "cell_type": "code",
   "execution_count": null,
   "id": "1ccbc5a4-a8c2-4247-bd8e-56cf3763f349",
   "metadata": {},
   "outputs": [],
   "source": [
    "missing = missing_values(df1)\n",
    "cols_to_drop = missing[missing[\"Total_perc\"] > 0].Total_perc\n",
    "cols_to_drop"
   ]
  },
  {
   "cell_type": "code",
   "execution_count": null,
   "id": "c58e95cf-b357-4458-9e27-877b23d593aa",
   "metadata": {},
   "outputs": [],
   "source": [
    "df1.info()"
   ]
  },
  {
   "cell_type": "code",
   "execution_count": null,
   "id": "e1d44eeb-bed8-4eec-b9a3-e17cbbb07772",
   "metadata": {},
   "outputs": [],
   "source": [
    "df1.host_since.head(10)"
   ]
  },
  {
   "cell_type": "code",
   "execution_count": null,
   "id": "333b98dc-932a-4a4a-b047-3595f700a937",
   "metadata": {},
   "outputs": [],
   "source": []
  }
 ],
 "metadata": {
  "kernelspec": {
   "display_name": "Python 3 (ipykernel)",
   "language": "python",
   "name": "python3"
  },
  "language_info": {
   "codemirror_mode": {
    "name": "ipython",
    "version": 3
   },
   "file_extension": ".py",
   "mimetype": "text/x-python",
   "name": "python",
   "nbconvert_exporter": "python",
   "pygments_lexer": "ipython3",
   "version": "3.12.10"
  }
 },
 "nbformat": 4,
 "nbformat_minor": 5
}
