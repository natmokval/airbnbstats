{
 "cells": [
  {
   "cell_type": "markdown",
   "id": "14c84580-642b-4b35-927c-76872826ced3",
   "metadata": {},
   "source": [
    "<a id=\"0.1\"></a>\n",
    "<h1 style=\"background-color:#38ACEC;font-family:newtimeroman;font-size:350%;text-align:center;border-radius: 15px 50px;\">Inhaltsverzeichnis: Visualisierung</h1>\n",
    "\n",
    "* [1. Einführung](#1)\n",
    "    * [1.1 Datenquelle](#1.1)\n",
    "    * [1.2 Anforderungen](#1.2)\n",
    "    * [1.3 Datensatz und Datenwörterbuch](#1.3)\n",
    "* [2. Aufbereitung der Daten](#2)\n",
    "    * [2.1 Einlesen der Daten](#2.1)\n",
    "    * [2.2 Datenverständnis](#2.2)\n",
    "    * [2.3 Fehlende Werte und Duplikate](#2.3)"
   ]
  },
  {
   "cell_type": "code",
   "execution_count": 1,
   "id": "5740ea23-20d6-4b1d-af44-5c3dfdc096ed",
   "metadata": {},
   "outputs": [
    {
     "ename": "ModuleNotFoundError",
     "evalue": "No module named 'seaborn'",
     "output_type": "error",
     "traceback": [
      "\u001b[31m---------------------------------------------------------------------------\u001b[39m",
      "\u001b[31mModuleNotFoundError\u001b[39m                       Traceback (most recent call last)",
      "\u001b[36mCell\u001b[39m\u001b[36m \u001b[39m\u001b[32mIn[1]\u001b[39m\u001b[32m, line 3\u001b[39m\n\u001b[32m      1\u001b[39m \u001b[38;5;28;01mimport\u001b[39;00m\u001b[38;5;250m \u001b[39m\u001b[34;01mpandas\u001b[39;00m\u001b[38;5;250m \u001b[39m\u001b[38;5;28;01mas\u001b[39;00m\u001b[38;5;250m \u001b[39m\u001b[34;01mpd\u001b[39;00m\n\u001b[32m----> \u001b[39m\u001b[32m3\u001b[39m \u001b[38;5;28;01mimport\u001b[39;00m\u001b[38;5;250m \u001b[39m\u001b[34;01mseaborn\u001b[39;00m\u001b[38;5;250m \u001b[39m\u001b[38;5;28;01mas\u001b[39;00m\u001b[38;5;250m \u001b[39m\u001b[34;01msns\u001b[39;00m\n",
      "\u001b[31mModuleNotFoundError\u001b[39m: No module named 'seaborn'"
     ]
    }
   ],
   "source": [
    "import pandas as pd\n",
    "\n",
    "import seaborn as sns"
   ]
  },
  {
   "cell_type": "code",
   "execution_count": null,
   "id": "f1097728-079e-4a17-b6bb-bc32ad0dc4c4",
   "metadata": {},
   "outputs": [],
   "source": []
  }
 ],
 "metadata": {
  "kernelspec": {
   "display_name": "Python 3 (ipykernel)",
   "language": "python",
   "name": "python3"
  },
  "language_info": {
   "codemirror_mode": {
    "name": "ipython",
    "version": 3
   },
   "file_extension": ".py",
   "mimetype": "text/x-python",
   "name": "python",
   "nbconvert_exporter": "python",
   "pygments_lexer": "ipython3",
   "version": "3.12.10"
  }
 },
 "nbformat": 4,
 "nbformat_minor": 5
}
