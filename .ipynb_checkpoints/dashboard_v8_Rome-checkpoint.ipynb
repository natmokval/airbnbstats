{
 "cells": [
  {
   "cell_type": "code",
   "execution_count": null,
   "id": "cd858a57-9417-4d0b-a278-a81df9289720",
   "metadata": {},
   "outputs": [],
   "source": [
    "%pip install dash"
   ]
  },
  {
   "cell_type": "code",
   "execution_count": 1,
   "id": "194896e8-8de7-4a54-a4c5-e9165dd19968",
   "metadata": {},
   "outputs": [],
   "source": [
    "import plotly.express as px\n",
    "import pandas as pd"
   ]
  },
  {
   "cell_type": "code",
   "execution_count": 2,
   "id": "17134891-76cb-4050-9d7c-f3e8f2505352",
   "metadata": {},
   "outputs": [],
   "source": [
    "file = \"data/12/NewYorkCity/listings_big_clean.csv\" \n",
    "\n",
    "df = pd.read_csv(file, low_memory=False)"
   ]
  },
  {
   "cell_type": "code",
   "execution_count": 3,
   "id": "9a88bfb0-f5a3-48b1-a567-89ac3a61e8aa",
   "metadata": {},
   "outputs": [
    {
     "name": "stdout",
     "output_type": "stream",
     "text": [
      "<class 'pandas.core.frame.DataFrame'>\n",
      "RangeIndex: 36322 entries, 0 to 36321\n",
      "Data columns (total 49 columns):\n",
      " #   Column                        Non-Null Count  Dtype  \n",
      "---  ------                        --------------  -----  \n",
      " 0   Unnamed: 0                    36322 non-null  int64  \n",
      " 1   id                            36322 non-null  int64  \n",
      " 2   name                          36322 non-null  object \n",
      " 3   host_since                    36322 non-null  object \n",
      " 4   host_verifications            36322 non-null  object \n",
      " 5   host_identity_verified        36322 non-null  bool   \n",
      " 6   neighbourhood_cleansed        36322 non-null  object \n",
      " 7   neighbourhood_group_cleansed  36322 non-null  object \n",
      " 8   latitude                      36322 non-null  float64\n",
      " 9   longitude                     36322 non-null  float64\n",
      " 10  property_type                 36322 non-null  object \n",
      " 11  room_type                     36322 non-null  object \n",
      " 12  accommodates                  36322 non-null  int64  \n",
      " 13  bathrooms                     36322 non-null  float64\n",
      " 14  bedrooms                      36322 non-null  float64\n",
      " 15  amenities                     36322 non-null  object \n",
      " 16  price                         36322 non-null  float64\n",
      " 17  minimum_nights                36322 non-null  int64  \n",
      " 18  maximum_nights                36322 non-null  int64  \n",
      " 19  minimum_minimum_nights        36322 non-null  int64  \n",
      " 20  maximum_minimum_nights        36322 non-null  int64  \n",
      " 21  minimum_maximum_nights        36322 non-null  int64  \n",
      " 22  maximum_maximum_nights        36322 non-null  int64  \n",
      " 23  minimum_nights_avg_ntm        36322 non-null  float64\n",
      " 24  maximum_nights_avg_ntm        36322 non-null  float64\n",
      " 25  has_availability              36322 non-null  bool   \n",
      " 26  availability_30               36322 non-null  int64  \n",
      " 27  availability_60               36322 non-null  int64  \n",
      " 28  availability_90               36322 non-null  int64  \n",
      " 29  availability_365              36322 non-null  int64  \n",
      " 30  number_of_reviews             36322 non-null  int64  \n",
      " 31  number_of_reviews_ltm         36322 non-null  int64  \n",
      " 32  number_of_reviews_l30d        36322 non-null  int64  \n",
      " 33  availability_eoy              36322 non-null  int64  \n",
      " 34  number_of_reviews_ly          36322 non-null  int64  \n",
      " 35  estimated_occupancy_l365d     36322 non-null  int64  \n",
      " 36  first_review                  36322 non-null  object \n",
      " 37  last_review                   36322 non-null  object \n",
      " 38  review_scores_rating          36322 non-null  float64\n",
      " 39  review_scores_accuracy        36322 non-null  float64\n",
      " 40  review_scores_cleanliness     36322 non-null  float64\n",
      " 41  review_scores_checkin         36322 non-null  float64\n",
      " 42  review_scores_communication   36322 non-null  float64\n",
      " 43  review_scores_location        36322 non-null  float64\n",
      " 44  review_scores_value           36322 non-null  float64\n",
      " 45  license                       36322 non-null  object \n",
      " 46  instant_bookable              36322 non-null  bool   \n",
      " 47  reviews_per_month             36322 non-null  float64\n",
      " 48  host_since_year               36322 non-null  int64  \n",
      "dtypes: bool(3), float64(15), int64(20), object(11)\n",
      "memory usage: 12.9+ MB\n"
     ]
    }
   ],
   "source": [
    "df.info()"
   ]
  },
  {
   "cell_type": "code",
   "execution_count": 5,
   "id": "54e6bc1d-569e-4450-b74e-0feda1b5ac3e",
   "metadata": {},
   "outputs": [
    {
     "data": {
      "text/html": [
       "\n",
       "        <iframe\n",
       "            width=\"100%\"\n",
       "            height=\"650\"\n",
       "            src=\"http://127.0.0.1:8052/\"\n",
       "            frameborder=\"0\"\n",
       "            allowfullscreen\n",
       "            \n",
       "        ></iframe>\n",
       "        "
      ],
      "text/plain": [
       "<IPython.lib.display.IFrame at 0x159075c70>"
      ]
     },
     "metadata": {},
     "output_type": "display_data"
    }
   ],
   "source": [
    "from dash import Dash, dcc, html, Input, Output\n",
    "\n",
    "neigh_options = sorted(df[\"neighbourhood_cleansed\"].unique().tolist())\n",
    "years = sorted([int(y) for y in df[\"host_since_year\"].unique()])\n",
    "\n",
    "default_x = neigh_options[0]\n",
    "default_y = neigh_options[1] if len(neigh_options) > 1 else neigh_options[0]\n",
    "default_year = years[-1]\n",
    "\n",
    "app = Dash(__name__)\n",
    "\n",
    "app.layout = html.Div([\n",
    "    html.Div([\n",
    "        html.Div([\n",
    "            dcc.Dropdown(options=neigh_options, value=default_x, id=\"xaxis-column\"),\n",
    "            dcc.RadioItems([\"Linear\", \"Log\"], \"Linear\", id=\"xaxis-type\", inline=True),\n",
    "        ], style={\"width\": \"48%\", \"display\": \"inline-block\"}),\n",
    "\n",
    "        html.Div([\n",
    "            dcc.Dropdown(options=neigh_options, value=default_y, id=\"yaxis-column\"),\n",
    "            dcc.RadioItems([\"Linear\", \"Log\"], \"Linear\", id=\"yaxis-type\", inline=True),\n",
    "        ], style={\"width\": \"48%\", \"float\": \"right\", \"display\": \"inline-block\"}),\n",
    "    ]),\n",
    "\n",
    "    dcc.Graph(id=\"indicator-graphic\"),\n",
    "\n",
    "    dcc.Slider(\n",
    "        min=years[0], max=years[-1], step=None, value=default_year,\n",
    "        id=\"host_since_year--slider\",\n",
    "        marks={str(y): str(y) for y in years},\n",
    "    ),\n",
    "])\n",
    "\n",
    "@app.callback(\n",
    "    Output(\"indicator-graphic\", \"figure\"),\n",
    "    Input(\"xaxis-column\", \"value\"),\n",
    "    Input(\"yaxis-column\", \"value\"),\n",
    "    Input(\"xaxis-type\", \"value\"),\n",
    "    Input(\"yaxis-type\", \"value\"),\n",
    "    Input(\"host_since_year--slider\", \"value\"),\n",
    ")\n",
    "def update_graph(x_neigh, y_neigh, xaxis_type, yaxis_type, year):\n",
    "    dff = df[df[\"host_since_year\"] == year]\n",
    "    dff = dff[dff[\"neighbourhood_cleansed\"].isin([x_neigh, y_neigh])]\n",
    "\n",
    "    # scatter: price vs accommodates, colored by neighbourhood\n",
    "    fig = px.scatter(\n",
    "        dff,\n",
    "        x=\"accommodates\",\n",
    "        y=\"price\",\n",
    "        color=\"neighbourhood_cleansed\",\n",
    "        hover_name=\"name\",\n",
    "        labels={\n",
    "            \"accommodates\": \"Accommodates\",\n",
    "            \"price\": \"Price\",\n",
    "            \"neighbourhood_cleansed\": \"Neighbourhood\",\n",
    "        },\n",
    "    )\n",
    "\n",
    "    fig.update_layout(margin=dict(l=40, b=40, t=10, r=0), hovermode=\"closest\")\n",
    "    fig.update_xaxes(type=\"linear\" if xaxis_type == \"Linear\" else \"log\")\n",
    "    fig.update_yaxes(type=\"linear\" if yaxis_type == \"Linear\" else \"log\")\n",
    "    return fig\n",
    "\n",
    "if __name__ == \"__main__\":\n",
    "    app.run(debug=True, port=8052)\n"
   ]
  },
  {
   "cell_type": "code",
   "execution_count": null,
   "id": "f46ea11f-c550-44e4-a372-ef3031b22943",
   "metadata": {},
   "outputs": [],
   "source": []
  }
 ],
 "metadata": {
  "kernelspec": {
   "display_name": "Python 3 (ipykernel)",
   "language": "python",
   "name": "python3"
  },
  "language_info": {
   "codemirror_mode": {
    "name": "ipython",
    "version": 3
   },
   "file_extension": ".py",
   "mimetype": "text/x-python",
   "name": "python",
   "nbconvert_exporter": "python",
   "pygments_lexer": "ipython3",
   "version": "3.12.10"
  }
 },
 "nbformat": 4,
 "nbformat_minor": 5
}
