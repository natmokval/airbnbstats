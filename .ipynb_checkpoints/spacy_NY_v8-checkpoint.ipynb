{
 "cells": [
  {
   "cell_type": "code",
   "execution_count": null,
   "id": "65d0b0ff-42dd-4941-bbee-1c18345daaf6",
   "metadata": {},
   "outputs": [],
   "source": [
    "# %pip install spacy"
   ]
  },
  {
   "cell_type": "code",
   "execution_count": 1,
   "id": "d1907f5c-20ac-43b7-a8ce-f3e4415a4b6a",
   "metadata": {},
   "outputs": [],
   "source": [
    "import pandas as pd\n",
    "import numpy as np\n",
    "\n",
    "import spacy\n",
    "from spacy import displacy"
   ]
  },
  {
   "cell_type": "code",
   "execution_count": 2,
   "id": "eec0ddb4-fc9f-4fc9-93cf-392746bbb58c",
   "metadata": {},
   "outputs": [],
   "source": [
    "file = \"data/12/NewYorkCity/listings_big_clean.csv\" \n",
    "\n",
    "df = pd.read_csv(file, low_memory=False)"
   ]
  },
  {
   "cell_type": "code",
   "execution_count": 3,
   "id": "7b98b55b-de66-402a-b2fa-795993c1ae51",
   "metadata": {},
   "outputs": [
    {
     "name": "stdout",
     "output_type": "stream",
     "text": [
      "<class 'pandas.core.frame.DataFrame'>\n",
      "RangeIndex: 36322 entries, 0 to 36321\n",
      "Data columns (total 50 columns):\n",
      " #   Column                        Non-Null Count  Dtype  \n",
      "---  ------                        --------------  -----  \n",
      " 0   Unnamed: 0                    36322 non-null  int64  \n",
      " 1   id                            36322 non-null  int64  \n",
      " 2   name                          36322 non-null  object \n",
      " 3   host_id                       36322 non-null  int64  \n",
      " 4   host_since                    36322 non-null  object \n",
      " 5   host_verifications            36322 non-null  object \n",
      " 6   host_identity_verified        36322 non-null  bool   \n",
      " 7   neighbourhood_cleansed        36322 non-null  object \n",
      " 8   neighbourhood_group_cleansed  36322 non-null  object \n",
      " 9   latitude                      36322 non-null  float64\n",
      " 10  longitude                     36322 non-null  float64\n",
      " 11  property_type                 36322 non-null  object \n",
      " 12  room_type                     36322 non-null  object \n",
      " 13  accommodates                  36322 non-null  int64  \n",
      " 14  bathrooms                     36322 non-null  float64\n",
      " 15  bedrooms                      36322 non-null  float64\n",
      " 16  amenities                     36322 non-null  object \n",
      " 17  price                         36322 non-null  float64\n",
      " 18  minimum_nights                36322 non-null  int64  \n",
      " 19  maximum_nights                36322 non-null  int64  \n",
      " 20  minimum_minimum_nights        36322 non-null  int64  \n",
      " 21  maximum_minimum_nights        36322 non-null  int64  \n",
      " 22  minimum_maximum_nights        36322 non-null  int64  \n",
      " 23  maximum_maximum_nights        36322 non-null  int64  \n",
      " 24  minimum_nights_avg_ntm        36322 non-null  float64\n",
      " 25  maximum_nights_avg_ntm        36322 non-null  float64\n",
      " 26  has_availability              36322 non-null  bool   \n",
      " 27  availability_30               36322 non-null  int64  \n",
      " 28  availability_60               36322 non-null  int64  \n",
      " 29  availability_90               36322 non-null  int64  \n",
      " 30  availability_365              36322 non-null  int64  \n",
      " 31  number_of_reviews             36322 non-null  int64  \n",
      " 32  number_of_reviews_ltm         36322 non-null  int64  \n",
      " 33  number_of_reviews_l30d        36322 non-null  int64  \n",
      " 34  availability_eoy              36322 non-null  int64  \n",
      " 35  number_of_reviews_ly          36322 non-null  int64  \n",
      " 36  estimated_occupancy_l365d     36322 non-null  int64  \n",
      " 37  first_review                  36322 non-null  object \n",
      " 38  last_review                   36322 non-null  object \n",
      " 39  review_scores_rating          36322 non-null  float64\n",
      " 40  review_scores_accuracy        36322 non-null  float64\n",
      " 41  review_scores_cleanliness     36322 non-null  float64\n",
      " 42  review_scores_checkin         36322 non-null  float64\n",
      " 43  review_scores_communication   36322 non-null  float64\n",
      " 44  review_scores_location        36322 non-null  float64\n",
      " 45  review_scores_value           36322 non-null  float64\n",
      " 46  license                       36322 non-null  object \n",
      " 47  instant_bookable              36322 non-null  bool   \n",
      " 48  reviews_per_month             36322 non-null  float64\n",
      " 49  host_since_year               36322 non-null  int64  \n",
      "dtypes: bool(3), float64(15), int64(21), object(11)\n",
      "memory usage: 13.1+ MB\n"
     ]
    }
   ],
   "source": [
    "df.info()"
   ]
  },
  {
   "cell_type": "code",
   "execution_count": 4,
   "id": "d52a43ad-b015-4582-9f72-654bda77c55a",
   "metadata": {},
   "outputs": [],
   "source": [
    "# Unnamed: 0 als reine Index-Spalte aus EDA ausschließen\n",
    "df = df.drop(columns=\"Unnamed: 0\", axis=1, errors=\"ignore\")\n",
    "\n",
    "for c in [\"host_since\", \"first_review\", \"last_review\"]:\n",
    "    df[c] = pd.to_datetime(df[c], errors=\"coerce\")"
   ]
  },
  {
   "cell_type": "markdown",
   "id": "fe3e0f5d-dd11-472f-abf0-dda588975f70",
   "metadata": {},
   "source": [
    "Das Standardmodell ist en_core_web_sm (Englisch). \n",
    "Das Modell wird mit dem folgenden Befehl in der console heruntergeladen"
   ]
  },
  {
   "cell_type": "code",
   "execution_count": null,
   "id": "38070da8-03bb-450c-8708-6c71fccc4759",
   "metadata": {},
   "outputs": [],
   "source": [
    "# !python -m spacy download en_core_web_sm"
   ]
  },
  {
   "cell_type": "code",
   "execution_count": 5,
   "id": "6ed95397-eca1-47a2-829a-badf02265fc7",
   "metadata": {},
   "outputs": [],
   "source": [
    "nlp = spacy.load(\"en_core_web_sm\")"
   ]
  },
  {
   "cell_type": "code",
   "execution_count": 20,
   "id": "2fe1acb0-373c-4ad1-b863-28545c8b4bac",
   "metadata": {},
   "outputs": [
    {
     "data": {
      "text/plain": [
       "'\"Stove\", \"TV\", \"Hot water\", \"Kitchen\", \"Hangers\", \"Refrigerator\", \"Fire extinguisher\", \"Bed linens\", \"Smoke alarm\", \"Clothing storage\", \"Hair dryer\", \"Wifi\", \"Iron\", \"Carbon monoxide alarm\", \"Heating\", \"Air conditioning\", \"Coffee maker\", \"Paid parking off premises\", \"Extra pillows and blankets\", \"Room-darkening shades\", \"Free street parking\", \"Host greets you\"'"
      ]
     },
     "execution_count": 20,
     "metadata": {},
     "output_type": "execute_result"
    }
   ],
   "source": [
    "df[\"amenities\"].values[5].replace(\"[\", \"\").replace(\"]\", \"\")"
   ]
  },
  {
   "cell_type": "code",
   "execution_count": 38,
   "id": "c8c50b9b-179d-4c87-b4f7-093ecfa1393c",
   "metadata": {},
   "outputs": [
    {
     "data": {
      "text/plain": [
       "9080"
      ]
     },
     "execution_count": 38,
     "metadata": {},
     "output_type": "execute_result"
    }
   ],
   "source": [
    "len(df)//4"
   ]
  },
  {
   "cell_type": "code",
   "execution_count": 42,
   "id": "b5d57b8f-d815-4a0d-8d34-3f91ebfc96ab",
   "metadata": {},
   "outputs": [
    {
     "data": {
      "text/plain": [
       "3328489"
      ]
     },
     "execution_count": 42,
     "metadata": {},
     "output_type": "execute_result"
    }
   ],
   "source": [
    "text = \"\".join([i.replace(\"[\", \"\").replace(\"]\", \"\") for i in df[\"amenities\"].values[:10000]])\n",
    "len(text) # 3328489\n",
    "# Error: Text of length 3328489 exceeds maximum of 1000000"
   ]
  },
  {
   "cell_type": "code",
   "execution_count": 57,
   "id": "0574d493-9ddc-4537-b390-528e5e0235c2",
   "metadata": {},
   "outputs": [],
   "source": [
    "doc = nlp(text[:800000])"
   ]
  },
  {
   "cell_type": "code",
   "execution_count": 58,
   "id": "cb947c63-71b1-4e98-9c2f-90cbf567ef20",
   "metadata": {},
   "outputs": [
    {
     "name": "stdout",
     "output_type": "stream",
     "text": [
      "['\"', 'Dedicated', 'workspace', '\"', ',', '\"', 'Essentials', '\"', ',', '\"', 'Cooking', 'basics', '\"', ',', '\"', 'Stove', '\"', ',', '\"', 'Blender', '\"', ',', '\"', 'Dishes', 'and', 'silverware', '\"', ',', '\"', 'Hot', 'water', '\"', ',', '\"', 'Dining', 'table', '\"', ',', '\"', 'Dryer', '\"', ',', '\"', 'Washer', '\"', ',', '\"', 'Lock', 'on', 'bedroom', 'door', '\"', ',', '\"', 'Kitchen', '\"', ',', '\"', 'Bathtub', '\"', ',', '\"', 'Oven', '\"', ',', '\"', 'Refrigerator', '\"', ',', '\"', 'Wine', 'glasses', '\"', ',', '\"', 'Single', 'level', 'home', '\"', ',', '\"', 'Fire', 'extinguisher', '\"', ',', '\"', 'Fast', 'wifi', '\\\\u2013', '330', 'Mbps', '\"', ',', '\"', 'Luggage', 'dropoff', 'allowed', '\"', ',', '\"']\n"
     ]
    }
   ],
   "source": [
    "print([token.text for token in doc][:100])"
   ]
  },
  {
   "cell_type": "code",
   "execution_count": 59,
   "id": "ff0e7f9e-fbbe-4428-9014-74236276cb9a",
   "metadata": {},
   "outputs": [
    {
     "data": {
      "text/plain": [
       "87591"
      ]
     },
     "execution_count": 59,
     "metadata": {},
     "output_type": "execute_result"
    }
   ],
   "source": [
    "from collections import Counter\n",
    "\n",
    "words = [token.lemma_.lower() for token in doc if not token.is_stop and not token.is_punct and not token.is_space]\n",
    "len(words)"
   ]
  },
  {
   "cell_type": "code",
   "execution_count": 60,
   "id": "5a348cee-ea73-499f-8146-d3f54c4b7db6",
   "metadata": {},
   "outputs": [
    {
     "name": "stdout",
     "output_type": "stream",
     "text": [
      "('alarm', 2955)\n",
      "('wifi', 1961)\n",
      "('dryer', 1843)\n",
      "('kitchen', 1719)\n",
      "('hot', 1638)\n"
     ]
    }
   ],
   "source": [
    "# Häufigkeit für jedes Wort berechnen\n",
    "word_freq = Counter(words)\n",
    "# 10 häufigste Wörter auswählen\n",
    "most_freq_words = word_freq.most_common(5)\n",
    "\n",
    "for word in most_freq_words:\n",
    "    print(word)"
   ]
  },
  {
   "cell_type": "code",
   "execution_count": 61,
   "id": "74904cc6-ec32-4611-8a15-d1c4c2e3106c",
   "metadata": {},
   "outputs": [
    {
     "data": {
      "text/html": [
       "<div>\n",
       "<style scoped>\n",
       "    .dataframe tbody tr th:only-of-type {\n",
       "        vertical-align: middle;\n",
       "    }\n",
       "\n",
       "    .dataframe tbody tr th {\n",
       "        vertical-align: top;\n",
       "    }\n",
       "\n",
       "    .dataframe thead th {\n",
       "        text-align: right;\n",
       "    }\n",
       "</style>\n",
       "<table border=\"1\" class=\"dataframe\">\n",
       "  <thead>\n",
       "    <tr style=\"text-align: right;\">\n",
       "      <th></th>\n",
       "      <th>Token</th>\n",
       "      <th>Lemma</th>\n",
       "      <th>POS</th>\n",
       "      <th>Tag</th>\n",
       "      <th>Dep</th>\n",
       "    </tr>\n",
       "  </thead>\n",
       "  <tbody>\n",
       "    <tr>\n",
       "      <th>2</th>\n",
       "      <td>workspace</td>\n",
       "      <td>workspace</td>\n",
       "      <td>NOUN</td>\n",
       "      <td>NN</td>\n",
       "      <td>nmod</td>\n",
       "    </tr>\n",
       "    <tr>\n",
       "      <th>6</th>\n",
       "      <td>Essentials</td>\n",
       "      <td>essential</td>\n",
       "      <td>NOUN</td>\n",
       "      <td>NNS</td>\n",
       "      <td>nmod</td>\n",
       "    </tr>\n",
       "    <tr>\n",
       "      <th>11</th>\n",
       "      <td>basics</td>\n",
       "      <td>basic</td>\n",
       "      <td>NOUN</td>\n",
       "      <td>NNS</td>\n",
       "      <td>appos</td>\n",
       "    </tr>\n",
       "    <tr>\n",
       "      <th>23</th>\n",
       "      <td>Dishes</td>\n",
       "      <td>dish</td>\n",
       "      <td>NOUN</td>\n",
       "      <td>NNS</td>\n",
       "      <td>conj</td>\n",
       "    </tr>\n",
       "    <tr>\n",
       "      <th>25</th>\n",
       "      <td>silverware</td>\n",
       "      <td>silverware</td>\n",
       "      <td>NOUN</td>\n",
       "      <td>NN</td>\n",
       "      <td>conj</td>\n",
       "    </tr>\n",
       "    <tr>\n",
       "      <th>...</th>\n",
       "      <td>...</td>\n",
       "      <td>...</td>\n",
       "      <td>...</td>\n",
       "      <td>...</td>\n",
       "      <td>...</td>\n",
       "    </tr>\n",
       "    <tr>\n",
       "      <th>232724</th>\n",
       "      <td>maker</td>\n",
       "      <td>maker</td>\n",
       "      <td>NOUN</td>\n",
       "      <td>NN</td>\n",
       "      <td>appos</td>\n",
       "    </tr>\n",
       "    <tr>\n",
       "      <th>232729</th>\n",
       "      <td>parking</td>\n",
       "      <td>parking</td>\n",
       "      <td>NOUN</td>\n",
       "      <td>NN</td>\n",
       "      <td>compound</td>\n",
       "    </tr>\n",
       "    <tr>\n",
       "      <th>232731</th>\n",
       "      <td>premises</td>\n",
       "      <td>premise</td>\n",
       "      <td>NOUN</td>\n",
       "      <td>NNS</td>\n",
       "      <td>appos</td>\n",
       "    </tr>\n",
       "    <tr>\n",
       "      <th>232736</th>\n",
       "      <td>products</td>\n",
       "      <td>product</td>\n",
       "      <td>NOUN</td>\n",
       "      <td>NNS</td>\n",
       "      <td>appos</td>\n",
       "    </tr>\n",
       "    <tr>\n",
       "      <th>232742</th>\n",
       "      <td>unit</td>\n",
       "      <td>unit</td>\n",
       "      <td>NOUN</td>\n",
       "      <td>NN</td>\n",
       "      <td>appos</td>\n",
       "    </tr>\n",
       "  </tbody>\n",
       "</table>\n",
       "<p>56868 rows × 5 columns</p>\n",
       "</div>"
      ],
      "text/plain": [
       "             Token       Lemma   POS  Tag       Dep\n",
       "2        workspace   workspace  NOUN   NN      nmod\n",
       "6       Essentials   essential  NOUN  NNS      nmod\n",
       "11          basics       basic  NOUN  NNS     appos\n",
       "23          Dishes        dish  NOUN  NNS      conj\n",
       "25      silverware  silverware  NOUN   NN      conj\n",
       "...            ...         ...   ...  ...       ...\n",
       "232724       maker       maker  NOUN   NN     appos\n",
       "232729     parking     parking  NOUN   NN  compound\n",
       "232731    premises     premise  NOUN  NNS     appos\n",
       "232736    products     product  NOUN  NNS     appos\n",
       "232742        unit        unit  NOUN   NN     appos\n",
       "\n",
       "[56868 rows x 5 columns]"
      ]
     },
     "execution_count": 61,
     "metadata": {},
     "output_type": "execute_result"
    }
   ],
   "source": [
    "import pandas as pd\n",
    "tokens = pd.DataFrame({\"Token\": [token.text for token in doc],\n",
    "              \"Lemma\": [token.lemma_ for token in doc],\n",
    "              \"POS\": [token.pos_ for token in doc],\n",
    "              \"Tag\": [token.tag_ for token in doc],\n",
    "              \"Dep\": [token.dep_ for token in doc]})\n",
    "tokens[tokens.POS == \"NOUN\"]"
   ]
  },
  {
   "cell_type": "code",
   "execution_count": 62,
   "id": "d4f87c45-6f77-42bd-8c20-35b6cb7ab18d",
   "metadata": {},
   "outputs": [
    {
     "name": "stdout",
     "output_type": "stream",
     "text": [
      "('alarm', 2955)\n",
      "('Wifi', 1836)\n",
      "('Smoke', 1597)\n",
      "('water', 1562)\n",
      "('parking', 1383)\n",
      "('Heating', 1378)\n",
      "('dryer', 1367)\n",
      "('monoxide', 1359)\n",
      "('TV', 1289)\n",
      "('Air', 1256)\n"
     ]
    }
   ],
   "source": [
    "# Häufigkeit für jedes Noun berechnen\n",
    "nouns = tokens[tokens.POS == \"NOUN\"].Token\n",
    "word_freq = Counter(nouns)\n",
    "# 10 häufigste Wörter auswählen\n",
    "most_freq_nouns = word_freq.most_common(10)\n",
    "\n",
    "for word in most_freq_nouns:\n",
    "    print(word)"
   ]
  },
  {
   "cell_type": "code",
   "execution_count": null,
   "id": "7e8cff6e-ba15-46b9-9642-211555eb0c0d",
   "metadata": {},
   "outputs": [],
   "source": []
  },
  {
   "cell_type": "code",
   "execution_count": null,
   "id": "dda5bb7f-0489-4b65-b02b-018aea08656d",
   "metadata": {},
   "outputs": [],
   "source": []
  }
 ],
 "metadata": {
  "kernelspec": {
   "display_name": "Python 3 (ipykernel)",
   "language": "python",
   "name": "python3"
  },
  "language_info": {
   "codemirror_mode": {
    "name": "ipython",
    "version": 3
   },
   "file_extension": ".py",
   "mimetype": "text/x-python",
   "name": "python",
   "nbconvert_exporter": "python",
   "pygments_lexer": "ipython3",
   "version": "3.12.10"
  }
 },
 "nbformat": 4,
 "nbformat_minor": 5
}
