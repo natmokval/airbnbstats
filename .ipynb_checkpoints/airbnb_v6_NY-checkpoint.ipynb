{
 "cells": [
  {
   "cell_type": "markdown",
   "id": "d40685ac-088e-467e-931a-b128564e8c17",
   "metadata": {},
   "source": [
    "<a id=\"0.1\"></a>\n",
    "<h1 style=\"background-color:#38ACEC;font-family:newtimeroman;font-size:350%;text-align:center;border-radius: 15px 50px;\">Inhaltsverzeichnis</h1>\n",
    "\n",
    "* [1. Einführung](#1)\n",
    "    * [1.1 Datenquelle](#1.1)\n",
    "    * [1.2 Anforderungen](#1.2)\n",
    "    * [1.3 Datensatz und Datenwörterbuch](#1.3)\n",
    "    * [1.4 Einlesen der Daten](#1.4)\n",
    "* [2. Exploratory Data Analysis](#2)\n",
    "    * [2.2 Datenüberblick: Einheiten, Missing-Rate, Anzahl eindeutiger Werte](#2.2)\n",
    "    * [2.3 Deskriptive statistik: Min/Max/Median/Mean, Ausreißer](#2.3)\n",
    "    * [2.4 Drop-Kandidaten Analyse](#2.4)\n",
    "    * [2.5 Numerische Spalten](#2.5)\n",
    "    * [2.6 Kategoriale Spalten](#2.6)\n",
    "    * [2.7 Boolesche Spalten](#2.7)\n",
    "    * [2.8 Datums-Spalten](#2.8)  \n",
    "* [3. Bereinigen Der Daten](#3)\n",
    "    * [3.1 Fehlende Werte füllen](#3.1)\n",
    "    * [3.2 Drop-Kandidaten löschen](#3.2)\n",
    "* [4. Daten zusammenfassen und speichern](#4)\n",
    "    * [4.1 Daten zusammenfassen](#4.1)\n",
    "    * [4.2 Daten speichern](#4.2)"
   ]
  },
  {
   "cell_type": "markdown",
   "id": "921ffb2b-99a0-4faa-8e4c-14b238adc1bf",
   "metadata": {},
   "source": [
    "<a class=\"anchor\" id=\"1.1\"></a>\n",
    "<h3 style=\"background-color:#38ACEC;font-family:newtimeroman;font-size:180%;text-align:center;border-radius: 15px 50px;\">1.1 Datenquelle</h3>\n",
    "\n",
    "**Inside Airbnb** ist ein gemeinwohlorientiertes Projekt. Es sammelt Daten zu Airbnb zur Analyse der Wirkung auf *Wohngebiete*.\n",
    "*[_About – Inside Airbnb_](https://insideairbnb.com/about/)*\n",
    "\n",
    "Daten Details:\n",
    "- Die Daten nutzen öffentlich zugängliche Informationen, die von der Airbnb-Website zusammengetragen wurden, einschließlich des Verfügbarkeitskalenders\n",
    "für 365 Tage in der Zukunft sowie der Bewertungen zu jedem Inserat.\n",
    "- Es werden keine „privaten“ Informationen verwendet. Namen, Fotos, Inserate und Bewertungsdetails werden sämtlich öffentlich auf der Airbnb-Website\n",
    "angezeigt.\n",
    "- Standortinformationen zu Inseraten werden von Airbnb anonymisiert. In der Praxis bedeutet das, dass der in der Karte bzw. in den Daten\n",
    "angegebene Standort eines Inserats bis zu 150 Meter vom tatsächlichen Adresspunkt verschoben ist.\n",
    "- Die hier präsentierten Daten sind eine Momentaufnahme der zu einem bestimmten Zeitpunkt verfügbaren Inserate.\n",
    "Der Airbnb-Kalender für ein Inserat unterscheidet nicht zwischen einer gebuchten Nacht und einer aus anderen Gründen nicht verfügbaren Nacht; daher werden solche Nächte als „nicht verfügbar“ gezählt. Das führt dazu, dass die Kennzahl zur Verfügbarkeit tendenziell unterschätzt wird, weil beliebte Inserate eher „gebucht“ sind, als dass sie vom Host „gesperrt“ werden.\n",
    "Einige Hosts pflegen ihren Kalender möglicherweise nicht aktuell oder halten ihn sehr weitgehend offen, obwohl sie die gesamte Wohnung bzw. das gesamte Haus selbst bewohnen.\n",
    "- Die Viertelnamen für jedes Inserat werden ermittelt, indem die geografischen Koordinaten des Inserats mit der städtischen Definition\n",
    "der Viertel abgeglichen werden. Die von Airbnb vergebenen Viertelnamen werden aufgrund ihrer Ungenauigkeiten nicht verwendet.\n",
    "    \n",
    "[**Inhaltsverzeichnis**](#0.1)"
   ]
  },
  {
   "cell_type": "markdown",
   "id": "f0c9a167-53ee-4af6-84ed-ccafd5e9d6e3",
   "metadata": {},
   "source": [
    "<a class=\"anchor\" id=\"1.2\"></a>\n",
    "<h3 style=\"background-color:#38ACEC;font-family:newtimeroman;font-size:180%;text-align:center;border-radius: 15px 50px;\">1.2 Anforderungen</h3>\n",
    "\n",
    "\n",
    "**Liste der erforderlichen Bibliotheken:**\n",
    "- *`pandas`* — Daten laden, aufbereiten, zusammenfassen\n",
    "- *`numpy`* — Numerische Daten aufbereiten\n",
    "- *`re`* — Funktionen zur Arbeit mit regulären Ausdrücken\n",
    "\n",
    "\n",
    "[**Inhaltsverzeichnis**](#0.1)"
   ]
  },
  {
   "cell_type": "code",
   "execution_count": 1,
   "id": "845bd3ac-9d34-4c7b-a27b-a4db51beff9c",
   "metadata": {},
   "outputs": [],
   "source": [
    "import re\n",
    "\n",
    "import numpy as np\n",
    "import pandas as pd"
   ]
  },
  {
   "cell_type": "markdown",
   "id": "f1d9fe76-dfd8-4ed5-8d87-4847d17a69ab",
   "metadata": {},
   "source": [
    "<a class=\"anchor\" id=\"1.3\"></a>\n",
    "<h3 style=\"background-color:#38ACEC;font-family:newtimeroman;font-size:180%;text-align:center;border-radius: 15px 50px;\">1.3 Datensatz & Datenwörterbuch</h3>\n",
    "\n",
    "\n",
    "- **Stadt:** New York City, New York, USA  \n",
    "- **Datei:** `listings_big.csv.gz` — *Detailed Listings*  \n",
    "- **Daten-Seite:** *[_Get the Data_](https://insideairbnb.com/get-the-data/)*  \n",
    "- **Datenwörterbuch:** *[Inside Airbnb Data Dictionary (Google Sheet)](https://docs.google.com/spreadsheets/d/1iWCNJcSutYqpULSQHlNyGInUvHg2BoUGoNRIGa6Szc4/edit?gid=1322284596#gid=1322284596)*\n",
    "\n",
    "[**Inhaltsverzeichnis**](#0.1)"
   ]
  },
  {
   "cell_type": "markdown",
   "id": "14b78e91-9ced-45d5-a862-f317cc24f581",
   "metadata": {},
   "source": [
    "<a class=\"anchor\" id=\"2.1\"></a>\n",
    "<h3 style=\"background-color:#38ACEC;font-family:newtimeroman;font-size:180%;text-align:center;border-radius: 15px 50px;\">2.1 Einlesen der Daten</h3>\n",
    "\n",
    "                           \n",
    "[**Inhaltsverzeichnis**](#0.1)"
   ]
  },
  {
   "cell_type": "code",
   "execution_count": 2,
   "id": "887c1437-fdb7-4354-899f-b0eacb2081d5",
   "metadata": {},
   "outputs": [
    {
     "name": "stdout",
     "output_type": "stream",
     "text": [
      "<class 'pandas.core.frame.DataFrame'>\n",
      "RangeIndex: 36322 entries, 0 to 36321\n",
      "Data columns (total 79 columns):\n",
      " #   Column                                        Non-Null Count  Dtype  \n",
      "---  ------                                        --------------  -----  \n",
      " 0   id                                            36322 non-null  int64  \n",
      " 1   listing_url                                   36322 non-null  object \n",
      " 2   scrape_id                                     36322 non-null  int64  \n",
      " 3   last_scraped                                  36322 non-null  object \n",
      " 4   source                                        36322 non-null  object \n",
      " 5   name                                          36320 non-null  object \n",
      " 6   description                                   35374 non-null  object \n",
      " 7   neighborhood_overview                         19084 non-null  object \n",
      " 8   picture_url                                   36322 non-null  object \n",
      " 9   host_id                                       36322 non-null  int64  \n",
      " 10  host_url                                      36322 non-null  object \n",
      " 11  host_name                                     36307 non-null  object \n",
      " 12  host_since                                    36307 non-null  object \n",
      " 13  host_location                                 28913 non-null  object \n",
      " 14  host_about                                    20956 non-null  object \n",
      " 15  host_response_time                            21550 non-null  object \n",
      " 16  host_response_rate                            21550 non-null  object \n",
      " 17  host_acceptance_rate                          21720 non-null  object \n",
      " 18  host_is_superhost                             35830 non-null  object \n",
      " 19  host_thumbnail_url                            36307 non-null  object \n",
      " 20  host_picture_url                              36307 non-null  object \n",
      " 21  host_neighbourhood                            29034 non-null  object \n",
      " 22  host_listings_count                           36307 non-null  float64\n",
      " 23  host_total_listings_count                     36307 non-null  float64\n",
      " 24  host_verifications                            36307 non-null  object \n",
      " 25  host_has_profile_pic                          36307 non-null  object \n",
      " 26  host_identity_verified                        36307 non-null  object \n",
      " 27  neighbourhood                                 19085 non-null  object \n",
      " 28  neighbourhood_cleansed                        36322 non-null  object \n",
      " 29  neighbourhood_group_cleansed                  36322 non-null  object \n",
      " 30  latitude                                      36322 non-null  float64\n",
      " 31  longitude                                     36322 non-null  float64\n",
      " 32  property_type                                 36322 non-null  object \n",
      " 33  room_type                                     36322 non-null  object \n",
      " 34  accommodates                                  36322 non-null  int64  \n",
      " 35  bathrooms                                     21682 non-null  float64\n",
      " 36  bathrooms_text                                36286 non-null  object \n",
      " 37  bedrooms                                      30274 non-null  float64\n",
      " 38  beds                                          21620 non-null  float64\n",
      " 39  amenities                                     36322 non-null  object \n",
      " 40  price                                         21459 non-null  object \n",
      " 41  minimum_nights                                36322 non-null  int64  \n",
      " 42  maximum_nights                                36322 non-null  int64  \n",
      " 43  minimum_minimum_nights                        36322 non-null  int64  \n",
      " 44  maximum_minimum_nights                        36322 non-null  int64  \n",
      " 45  minimum_maximum_nights                        36322 non-null  int64  \n",
      " 46  maximum_maximum_nights                        36322 non-null  int64  \n",
      " 47  minimum_nights_avg_ntm                        36322 non-null  float64\n",
      " 48  maximum_nights_avg_ntm                        36322 non-null  float64\n",
      " 49  calendar_updated                              0 non-null      float64\n",
      " 50  has_availability                              30705 non-null  object \n",
      " 51  availability_30                               36322 non-null  int64  \n",
      " 52  availability_60                               36322 non-null  int64  \n",
      " 53  availability_90                               36322 non-null  int64  \n",
      " 54  availability_365                              36322 non-null  int64  \n",
      " 55  calendar_last_scraped                         36322 non-null  object \n",
      " 56  number_of_reviews                             36322 non-null  int64  \n",
      " 57  number_of_reviews_ltm                         36322 non-null  int64  \n",
      " 58  number_of_reviews_l30d                        36322 non-null  int64  \n",
      " 59  availability_eoy                              36322 non-null  int64  \n",
      " 60  number_of_reviews_ly                          36322 non-null  int64  \n",
      " 61  estimated_occupancy_l365d                     36322 non-null  int64  \n",
      " 62  estimated_revenue_l365d                       21459 non-null  float64\n",
      " 63  first_review                                  25171 non-null  object \n",
      " 64  last_review                                   25171 non-null  object \n",
      " 65  review_scores_rating                          25171 non-null  float64\n",
      " 66  review_scores_accuracy                        25161 non-null  float64\n",
      " 67  review_scores_cleanliness                     25170 non-null  float64\n",
      " 68  review_scores_checkin                         25157 non-null  float64\n",
      " 69  review_scores_communication                   25165 non-null  float64\n",
      " 70  review_scores_location                        25154 non-null  float64\n",
      " 71  review_scores_value                           25155 non-null  float64\n",
      " 72  license                                       5329 non-null   object \n",
      " 73  instant_bookable                              36322 non-null  object \n",
      " 74  calculated_host_listings_count                36322 non-null  int64  \n",
      " 75  calculated_host_listings_count_entire_homes   36322 non-null  int64  \n",
      " 76  calculated_host_listings_count_private_rooms  36322 non-null  int64  \n",
      " 77  calculated_host_listings_count_shared_rooms   36322 non-null  int64  \n",
      " 78  reviews_per_month                             25171 non-null  float64\n",
      "dtypes: float64(19), int64(24), object(36)\n",
      "memory usage: 21.9+ MB\n"
     ]
    }
   ],
   "source": [
    "file = \"data/12/NewYorkCity/listings_big.csv\" \n",
    "# file_reviewsb = \"data/12/NewYorkCity/reviews_big.csv\"\n",
    "\n",
    "df_orig = pd.read_csv(file, low_memory=False)\n",
    "# df_reviewsb = pd.read_csv(file_reviewsb, low_memory=False)\n",
    "\n",
    "# Anzahl Zeilen und Spalten\n",
    "df_orig.info()"
   ]
  },
  {
   "cell_type": "markdown",
   "id": "675323b6-872a-4956-a048-c462a07dfa6b",
   "metadata": {},
   "source": [
    "<a class=\"anchor\" id=\"2.2\"></a>\n",
    "<h3 style=\"background-color:blue;font-family:newtimeroman;font-size:180%;text-align:center;border-radius: 15px 50px;\">2. Exploratory Data Analysis</h3>"
   ]
  },
  {
   "cell_type": "code",
   "execution_count": null,
   "id": "5f5a3714-ea31-4dea-a5bf-1237f07e3d22",
   "metadata": {},
   "outputs": [],
   "source": [
    "# Anzahl Numerische Spalten\n",
    "df_orig.select_dtypes(include=\"number\").shape[1]"
   ]
  },
  {
   "cell_type": "code",
   "execution_count": null,
   "id": "41e1ac40-53a9-4bc7-b37f-72dbacd4433b",
   "metadata": {},
   "outputs": [],
   "source": [
    "# Anzahl Kategoriale Spalten\n",
    "df_orig.select_dtypes(include=[\"object\"]).shape[1]"
   ]
  },
  {
   "cell_type": "markdown",
   "id": "e3a9e60a-a4b8-459a-b7c0-a53c3456f623",
   "metadata": {},
   "source": [
    "<a class=\"anchor\" id=\"2.1\"></a>\n",
    "<h3 style=\"background-color:#38ACEC;font-family:newtimeroman;font-size:180%;text-align:center;border-radius: 15px 50px;\">2.1 Datenüberblick: Einheiten, Missing-Rate, Anzahl eindeutiger Werte</h3>\n",
    "\n",
    "                           \n",
    "[**Inhaltsverzeichnis**](#0.1)"
   ]
  },
  {
   "cell_type": "code",
   "execution_count": null,
   "id": "57274a9d-b813-4600-81c2-cedf1aa71f68",
   "metadata": {},
   "outputs": [],
   "source": [
    "print(\"Anzahl Zeilen, Anzahl Spalten: \", df_orig.shape)"
   ]
  },
  {
   "cell_type": "code",
   "execution_count": null,
   "id": "c88e193c-5a38-4068-8274-48c6297c8f76",
   "metadata": {},
   "outputs": [],
   "source": [
    "if len(df_orig[\"id\"].unique()) == df_orig.shape[0]:\n",
    "    print(\"Spalte \\\"id\\\" ist unique Idendifikator\")"
   ]
  },
  {
   "cell_type": "markdown",
   "id": "3d253a5e-3ac2-4c98-a4f1-e19d92d1c878",
   "metadata": {},
   "source": [
    "| **Abschnitt**                                         | **Beschreibung**                                                | **Spalten (Felder)**                                                                                                                                                                                                                                                                                                                                                                         | **Einheiten / Hinweise (laut Data Dictionary)**                                                                                                                                                                                                                                                                                                                                                                                                                                                                                                                                                                                                                                                                                                                     |\n",
    "| ----------------------------------------------------- | --------------------------------------------------------------- | -------------------------------------------------------------------------------------------------------------------------------------------------------------------------------------------------------------------------------------------------------------------------------------------------------------------------------------------------------------------------------------------- | ------------------------------------------------------------------------------------------------------------------------------------------------------------------------------------------------------------------------------------------------------------------------------------------------------------------------------------------------------------------------------------------------------------------------------------------------------------------------------------------------------------------------------------------------------------------------------------------------------------------------------------------------------------------------------------------------------------------------------------------------------------------- |\n",
    "| **Zeitebene**                                         | Momentaufnahme (Snapshot) des Bestands zum Erfassungszeitpunkt. | `last_scraped`                                                                                                                                                                                                                                                                                                                                                                               | **Datetime (UTC)** – Zeitpunkt, an dem das Listing „gescraped“ wurde.                                                                                                                                                                                                                                                                                                                                                                                                                                                                                                                                                                                                                                                                                               |\n",
    "| **Analyse-Einheiten (Granularität)**                  | Ebenen, auf denen ausgewertet/aggregiert wird.                  | Listing: `id` • Host: `host_id` • Nachbarschaft: `neighbourhood_cleansed`, `neighbourhood_group_cleansed` • Zeit: `host_since`, `first_review`, `last_review`                                                                                                                                                                                                                                | `id` (**integer**) = eindeutige Listing-ID • `host_id` (**integer**) = Host-ID • `host_since` (**date**) = Konto-Erstellungsdatum • `first_review`/`last_review` (**date**) = erste/letzte Rezension.                                                                                                                                                                                                                                                                                                                                                                                                                                                                                                                                                               |\n",
    "| **Wichtige Maßeinheiten (Markt/Qualität)**            | Zentrale Messgrößen je Listing.                                 | **Preis:** `price` • **Verfügbarkeit:** `availability_30`, `availability_60`, `availability_90`, `availability_365`, `has_availability` • **Bewertungen:** `number_of_reviews`, `reviews_per_month`, `review_scores_*` • **Kapazität/Ausstattung:** `accommodates`, `bedrooms`, `beds`, `bathrooms`, `bathrooms_text` • **Buchung:** `instant_bookable`                                      | `price` (**currency**) = täglicher Preis in **lokaler Währung**; **\\$** im Export ist ein technisches Artefakt (ignorieren). • `availability_x` (**integer**) = verfügbare Nächte in den nächsten **x** Tagen; „nicht verfügbar“ kann **gebucht** oder **geblockt** bedeuten. • `has_availability` (**boolean**) = **t/f**. • `number_of_reviews` (**integer**). • `reviews_per_month` = Durchschnitt **Rezensionen/Monat** über die Lebenszeit (vgl. Pseudocode im Dictionary). • `review_scores_*` (numerisch, Airbnb-Scores). • `accommodates` (**integer**) = Gäste. • `bathrooms` (**numeric**), `bathrooms_text` (**string**, textuelle Angabe, z. B. „1.5 shared baths“). • `instant_bookable` (**boolean**) = **t/f**, ob automatische Buchung möglich ist. |\n",
    "| **Listing-Ebene – Kernmetriken**                      | Attribute pro Inserat.                                          | `property_type`, `room_type`, `accommodates`, `bedrooms`, `beds`, `bathrooms`/`bathrooms_text`, `price`, `has_availability`, `availability_30/60/90/365`, `number_of_reviews`, `reviews_per_month`, `review_scores_*`, `instant_bookable`, `host_is_superhost`, `host_listings_count`, `host_since`, Lage: `neighbourhood_cleansed`, `neighbourhood_group_cleansed`, `latitude`, `longitude` | Typen laut Dictionary: `property_type`, `room_type`, `neighbourhood_*` (**text**); `latitude`/`longitude` (**numeric**); `host_is_superhost` (**boolean**, **t/f**); `host_listings_count` (**integer**).                                                                                                                                                                                                                                                                                                                                                                                                                                                                                                                                                           |\n",
    "| **Abgeleitete Kennzahlen (nützlich, nicht original)** | Aus Rohfeldern berechnet (für Analysen).                        | `occupied_nights_365`, `revpar_proxy`, `price_per_guest`, `host_tenure_days`                                                                                                                                                                                                                                                                                                                 | **Belegte Nächte (Proxy):** `occupied_nights_365 = 365 − availability_365` (Nächte/Jahr) • **RevPAR (Proxy):** `estimated_revenue_l365d / 365` • **Preis/Gast:** `price / accommodates` • **Host-Tenure (Tage):** `last_scraped − host_since`.                                                                                                                                                                                                                                                                                                                                                                                                                                                       |"
   ]
  },
  {
   "cell_type": "code",
   "execution_count": 3,
   "id": "2071432f-ccda-4f12-84c4-b44627a62509",
   "metadata": {},
   "outputs": [],
   "source": [
    "# Daten Verständnis\n",
    "\n",
    "# No description in the data Doctionary:\n",
    "# host_is_superhost \n",
    "# host_response_time\n",
    "# host_response_rate\n",
    "\n",
    "# Drop Spälte mit reine URLs, Bilder, Host Name, Host-ID, Host Location, Bescreibung\n",
    "\n",
    "# Spalte rehalten Info über lätzte Scrape\n",
    "# calculated_host_listings_count \n",
    "# calculated_host_listings_count_entire_homes \n",
    "# calculated_host_listings_count_private_rooms \n",
    "# calculated_host_listings_count_shared_rooms \n",
    "\n",
    "# Spalte \"host_name\" - Name of the host. Usually just the first name(s).\n",
    "\n",
    "# Spalten \"host_listings_count\", \"host_total_listings_count\": The number of listings the host has (per Airbnb unknown calculations)\n",
    "\n",
    "# Spalte brauche für Analyse nicht:\n",
    "drop_columns = [\"listing_url\", \n",
    "                \"scrape_id\", \n",
    "                \"last_scraped\", \n",
    "                \"source\",\n",
    "                \"description\",\n",
    "                \"neighborhood_overview\", \n",
    "                \"picture_url\",\n",
    "                \"host_url\",\n",
    "                \"host_name\",\n",
    "                \"host_about\",\n",
    "                \"host_response_time\",\n",
    "                \"host_response_rate\",\n",
    "                \"host_is_superhost\",\n",
    "                \"host_thumbnail_url\",\n",
    "                \"host_picture_url\",\n",
    "                \"host_listings_count\",\n",
    "                \"host_total_listings_count\",\n",
    "                \"calendar_last_scraped\",\n",
    "                \"calculated_host_listings_count\",\n",
    "                \"calculated_host_listings_count_entire_homes\",\n",
    "                \"calculated_host_listings_count_private_rooms\",\n",
    "                \"calculated_host_listings_count_shared_rooms\"\n",
    "                ]\n",
    "\n",
    "df = df_orig.drop(columns=drop_columns, axis=1, errors=\"ignore\")\n"
   ]
  },
  {
   "cell_type": "code",
   "execution_count": 4,
   "id": "685e03b5-c3bb-4084-a171-ca4183864a32",
   "metadata": {},
   "outputs": [],
   "source": [
    "# Zusätchlive Funktionen\n",
    "\n",
    "# Missing Values\n",
    "missing = df.isnull().sum().to_frame()\n",
    "\n",
    "def missing_values(df):\n",
    "    missing[\"Missing_values\"] = df.isnull().sum().to_frame()\n",
    "    missing[\"Total_perc\"] = (missing[\"Missing_values\"] / len(df)) * 100\n",
    "    return missing\n",
    "    "
   ]
  },
  {
   "cell_type": "code",
   "execution_count": 5,
   "id": "1b9a54a8-45f7-4ed9-a664-43b418a6de2a",
   "metadata": {},
   "outputs": [
    {
     "data": {
      "text/plain": [
       "name                             0.005506\n",
       "host_since                       0.041297\n",
       "host_location                   20.398106\n",
       "host_acceptance_rate            40.201531\n",
       "host_neighbourhood              20.064974\n",
       "host_verifications               0.041297\n",
       "host_has_profile_pic             0.041297\n",
       "host_identity_verified           0.041297\n",
       "neighbourhood                   47.456087\n",
       "bathrooms                       40.306151\n",
       "bathrooms_text                   0.099113\n",
       "bedrooms                        16.651065\n",
       "beds                            40.476846\n",
       "price                           40.920104\n",
       "calendar_updated               100.000000\n",
       "has_availability                15.464457\n",
       "estimated_revenue_l365d         40.920104\n",
       "first_review                    30.700402\n",
       "last_review                     30.700402\n",
       "review_scores_rating            30.700402\n",
       "review_scores_accuracy          30.727933\n",
       "review_scores_cleanliness       30.703155\n",
       "review_scores_checkin           30.738946\n",
       "review_scores_communication     30.716921\n",
       "review_scores_location          30.747206\n",
       "review_scores_value             30.744452\n",
       "license                         85.328451\n",
       "reviews_per_month               30.700402\n",
       "Name: Total_perc, dtype: float64"
      ]
     },
     "execution_count": 5,
     "metadata": {},
     "output_type": "execute_result"
    }
   ],
   "source": [
    "missing_values(df)[missing[\"Total_perc\"] > 0].Total_perc"
   ]
  },
  {
   "cell_type": "code",
   "execution_count": 6,
   "id": "134bc814-5fdf-40d5-b0f6-cf08c281f0ed",
   "metadata": {},
   "outputs": [
    {
     "data": {
      "text/plain": [
       "array(['Neighborhood highlights', nan], dtype=object)"
      ]
     },
     "execution_count": 6,
     "metadata": {},
     "output_type": "execute_result"
    }
   ],
   "source": [
    "# Spalte: \"calendar_updated\" Missing-Rate 100%\n",
    "df[\"calendar_updated\"].unique()\n",
    "\n",
    "# Spalte \"neighbourhood\" has nur zwei Werte: ['Neighborhood highlights', nan]\n",
    "df[\"neighbourhood\"].unique()\n",
    "\n",
    "# Spalte \"host_id\" - Airbnb's unique identifier for the host/user"
   ]
  },
  {
   "cell_type": "code",
   "execution_count": 7,
   "id": "d1ed6183-5e5c-4e4c-a85a-8ad9a98acb44",
   "metadata": {},
   "outputs": [
    {
     "name": "stdout",
     "output_type": "stream",
     "text": [
      "<class 'pandas.core.frame.DataFrame'>\n",
      "RangeIndex: 36322 entries, 0 to 36321\n",
      "Data columns (total 54 columns):\n",
      " #   Column                        Non-Null Count  Dtype  \n",
      "---  ------                        --------------  -----  \n",
      " 0   id                            36322 non-null  int64  \n",
      " 1   name                          36320 non-null  object \n",
      " 2   host_since                    36307 non-null  object \n",
      " 3   host_location                 28913 non-null  object \n",
      " 4   host_acceptance_rate          21720 non-null  object \n",
      " 5   host_neighbourhood            29034 non-null  object \n",
      " 6   host_verifications            36307 non-null  object \n",
      " 7   host_has_profile_pic          36307 non-null  object \n",
      " 8   host_identity_verified        36307 non-null  object \n",
      " 9   neighbourhood_cleansed        36322 non-null  object \n",
      " 10  neighbourhood_group_cleansed  36322 non-null  object \n",
      " 11  latitude                      36322 non-null  float64\n",
      " 12  longitude                     36322 non-null  float64\n",
      " 13  property_type                 36322 non-null  object \n",
      " 14  room_type                     36322 non-null  object \n",
      " 15  accommodates                  36322 non-null  int64  \n",
      " 16  bathrooms                     21682 non-null  float64\n",
      " 17  bathrooms_text                36286 non-null  object \n",
      " 18  bedrooms                      30274 non-null  float64\n",
      " 19  beds                          21620 non-null  float64\n",
      " 20  amenities                     36322 non-null  object \n",
      " 21  price                         21459 non-null  object \n",
      " 22  minimum_nights                36322 non-null  int64  \n",
      " 23  maximum_nights                36322 non-null  int64  \n",
      " 24  minimum_minimum_nights        36322 non-null  int64  \n",
      " 25  maximum_minimum_nights        36322 non-null  int64  \n",
      " 26  minimum_maximum_nights        36322 non-null  int64  \n",
      " 27  maximum_maximum_nights        36322 non-null  int64  \n",
      " 28  minimum_nights_avg_ntm        36322 non-null  float64\n",
      " 29  maximum_nights_avg_ntm        36322 non-null  float64\n",
      " 30  has_availability              30705 non-null  object \n",
      " 31  availability_30               36322 non-null  int64  \n",
      " 32  availability_60               36322 non-null  int64  \n",
      " 33  availability_90               36322 non-null  int64  \n",
      " 34  availability_365              36322 non-null  int64  \n",
      " 35  number_of_reviews             36322 non-null  int64  \n",
      " 36  number_of_reviews_ltm         36322 non-null  int64  \n",
      " 37  number_of_reviews_l30d        36322 non-null  int64  \n",
      " 38  availability_eoy              36322 non-null  int64  \n",
      " 39  number_of_reviews_ly          36322 non-null  int64  \n",
      " 40  estimated_occupancy_l365d     36322 non-null  int64  \n",
      " 41  estimated_revenue_l365d       21459 non-null  float64\n",
      " 42  first_review                  25171 non-null  object \n",
      " 43  last_review                   25171 non-null  object \n",
      " 44  review_scores_rating          25171 non-null  float64\n",
      " 45  review_scores_accuracy        25161 non-null  float64\n",
      " 46  review_scores_cleanliness     25170 non-null  float64\n",
      " 47  review_scores_checkin         25157 non-null  float64\n",
      " 48  review_scores_communication   25165 non-null  float64\n",
      " 49  review_scores_location        25154 non-null  float64\n",
      " 50  review_scores_value           25155 non-null  float64\n",
      " 51  license                       5329 non-null   object \n",
      " 52  instant_bookable              36322 non-null  object \n",
      " 53  reviews_per_month             25171 non-null  float64\n",
      "dtypes: float64(16), int64(18), object(20)\n",
      "memory usage: 15.0+ MB\n",
      "None\n"
     ]
    }
   ],
   "source": [
    "drop_columns = [\"host_id\",\n",
    "                \"neighbourhood\",\n",
    "                \"calendar_updated\",\n",
    "                ]\n",
    "\n",
    "df = df.drop(columns=drop_columns, axis=1, errors=\"ignore\")\n",
    "print(df.info())"
   ]
  },
  {
   "cell_type": "code",
   "execution_count": 8,
   "id": "2b7a0760-d8f1-4e9f-acc1-382d7489db29",
   "metadata": {},
   "outputs": [
    {
     "data": {
      "text/plain": [
       "[nan, 'Exempt']"
      ]
     },
     "execution_count": 8,
     "metadata": {},
     "output_type": "execute_result"
    }
   ],
   "source": [
    "# Spalte \"license\" - Werte [nan, 'Exempt', \"OSE-*\"]\n",
    "# Spalte \"license\" nicht droppen\n",
    "[i for i in df_orig[\"license\"].unique() if str(i)[:4].upper() != \"OSE-\"]"
   ]
  },
  {
   "cell_type": "code",
   "execution_count": null,
   "id": "b32e39a3-e8e5-41db-94f1-b6d1a2a904af",
   "metadata": {
    "jupyter": {
     "source_hidden": true
    }
   },
   "outputs": [],
   "source": [
    "# ??? Investigate reviews:\n",
    "# df_reviewsb.info()\n",
    "# df_reviewsb[\"listing_id\"].unique()\n",
    "# df_reviewsb[\"id\"].unique()\n",
    "\n",
    "# Check if df_reviewsb[\"listing_id\"] is a part of the df[\"id\"]\n",
    "\n",
    "# import numpy as np\n",
    "# from numpy.lib.stride_tricks import sliding_window_view\n",
    "\n",
    "# def contains_subarray_1d(big: np.ndarray, small: np.ndarray):\n",
    "#     big = np.asarray(big).ravel()\n",
    "#     small = np.asarray(small).ravel()\n",
    "#     if small.size == 0 or small.size > big.size:\n",
    "#         return None  # not found\n",
    "#     win = sliding_window_view(big, small.size)            # shape: (N-m+1, m)\n",
    "#     hits = np.where(np.all(win == small, axis=1))[0]\n",
    "#     return int(hits[0]) if hits.size else None            # start index or None\n",
    "\n",
    "\n",
    "# idx = contains_subarray_1d(df[\"id\"], df_reviewsb[\"listing_id\"])\n",
    "# idx"
   ]
  },
  {
   "cell_type": "markdown",
   "id": "ff2d7421-d081-4842-aa9a-0744e2e2519c",
   "metadata": {},
   "source": [
    "<a class=\"anchor\" id=\"2.2\"></a>\n",
    "<h3 style=\"background-color:#38ACEC;font-family:newtimeroman;font-size:180%;text-align:center;border-radius: 15px 50px;\">2.2 Deskriptive statistik: Min/Max/Median/Mean, Ausreißer</h3>\n",
    "\n",
    "[**Inhaltsverzeichnis**](#0.1)"
   ]
  },
  {
   "cell_type": "code",
   "execution_count": 22,
   "id": "84a6ee29-e2ed-4097-8602-037dcc1739f0",
   "metadata": {},
   "outputs": [
    {
     "name": "stdout",
     "output_type": "stream",
     "text": [
      "Total candidate columns: 38\n",
      "Group 0: 10 cols -> ['accommodates', 'availability_30', 'availability_365', 'availability_60', 'availability_90', 'availability_eoy', 'bathrooms', 'bedrooms', 'beds', 'estimated_occupancy_l365d']\n",
      "Group 1: 10 cols -> ['has_availability', 'host_has_profile_pic', 'host_identity_verified', 'host_verifications', 'instant_bookable', 'maximum_maximum_nights', 'maximum_minimum_nights', 'maximum_nights', 'maximum_nights_avg_ntm', 'minimum_maximum_nights']\n",
      "Group 2: 10 cols -> ['minimum_minimum_nights', 'minimum_nights', 'minimum_nights_avg_ntm', 'neighbourhood_group_cleansed', 'number_of_reviews', 'number_of_reviews_l30d', 'number_of_reviews_ltm', 'number_of_reviews_ly', 'price', 'review_scores_accuracy']\n",
      "Group 3: 8 cols -> ['review_scores_checkin', 'review_scores_cleanliness', 'review_scores_communication', 'review_scores_location', 'review_scores_rating', 'review_scores_value', 'reviews_per_month', 'room_type']\n"
     ]
    }
   ],
   "source": [
    "# ???\n",
    "def candidates_for_value_counts(df, max_uniques=30, max_ratio=0.05):\n",
    "    \"\"\"\n",
    "    Pick columns where value_counts(dropna=False) makes sense:\n",
    "    - Categorical / low-cardinality\n",
    "    - Discrete numeric with small value range\n",
    "    Excludes obvious non-candidates (IDs, names).\n",
    "    \"\"\"\n",
    "    cands = set()\n",
    "\n",
    "    # categorical-like\n",
    "    for c in df.select_dtypes(include=[\"object\",\"category\",\"boolean\"]):\n",
    "        if df[c].nunique(dropna=True) <= max_uniques:\n",
    "            cands.add(c)\n",
    "\n",
    "    # discrete numeric\n",
    "    for c in df.select_dtypes(include=[\"integer\",\"float\"]):\n",
    "        nunq = df[c].nunique(dropna=True)\n",
    "        if nunq and (nunq <= max_uniques or nunq/len(df) <= max_ratio):\n",
    "            cands.add(c)\n",
    "\n",
    "    # exclude obvious non-candidates\n",
    "    drop_like = {\"id\",\"host_id\",\"name\",\"host_name\",\"license\"}\n",
    "    return sorted([c for c in cands if c in df.columns and c not in drop_like])\n",
    "\n",
    "cols = candidates_for_value_counts(df)\n",
    "\n",
    "def chunk_list(lst, size=10):\n",
    "    return [lst[i:i+size] for i in range(0, len(lst), size)]\n",
    "\n",
    "groups = chunk_list(cols, size=10)   # ≈10 columns per output cell\n",
    "\n",
    "print(f\"Total candidate columns: {len(cols)}\")\n",
    "for i, g in enumerate(groups):\n",
    "    print(f\"Group {i}: {len(g)} cols -> {g}\")"
   ]
  },
  {
   "cell_type": "code",
   "execution_count": 23,
   "id": "f4e17180-3ba0-4bc0-bb12-0b38864815a5",
   "metadata": {},
   "outputs": [],
   "source": [
    "# ???\n",
    "def show_group(i: int, top_n: int = 10):\n",
    "    \"\"\"Print value_counts for group i, truncated to top_n per column.\"\"\"\n",
    "    if i < 0 or i >= len(groups):\n",
    "        print(f\"Group index {i} out of range (0..{len(groups)-1})\")\n",
    "        return\n",
    "    for c in groups[i]:\n",
    "        vc = df[c].value_counts(dropna=False)\n",
    "        print(f\"\\n=== {c} (unique={vc.shape[0]}) ===\")\n",
    "        print(vc.head(top_n))"
   ]
  },
  {
   "cell_type": "code",
   "execution_count": 25,
   "id": "701336d0-4dc5-49ae-a6fe-a809e7e6a9b0",
   "metadata": {},
   "outputs": [
    {
     "name": "stdout",
     "output_type": "stream",
     "text": [
      "\n",
      "=== accommodates (unique=16) ===\n",
      "accommodates\n",
      "2    17201\n",
      "1     6527\n",
      "4     5350\n",
      "3     3041\n",
      "Name: count, dtype: int64\n",
      "\n",
      "=== availability_30 (unique=31) ===\n",
      "availability_30\n",
      "0     19890\n",
      "30     3522\n",
      "29     1845\n",
      "28     1027\n",
      "Name: count, dtype: int64\n",
      "\n",
      "=== availability_365 (unique=366) ===\n",
      "availability_365\n",
      "0      12381\n",
      "365     2501\n",
      "364      841\n",
      "363      642\n",
      "Name: count, dtype: int64\n",
      "\n",
      "=== availability_60 (unique=61) ===\n",
      "availability_60\n",
      "0     16067\n",
      "60     3397\n",
      "59     1778\n",
      "58      974\n",
      "Name: count, dtype: int64\n",
      "\n",
      "=== availability_90 (unique=91) ===\n",
      "availability_90\n",
      "0     14204\n",
      "90     3344\n",
      "89     1753\n",
      "88      945\n",
      "Name: count, dtype: int64\n",
      "\n",
      "=== availability_eoy (unique=199) ===\n",
      "availability_eoy\n",
      "0      13102\n",
      "198     2932\n",
      "197     1339\n",
      "196      732\n",
      "Name: count, dtype: int64\n",
      "\n",
      "=== bathrooms (unique=20) ===\n",
      "bathrooms\n",
      "1.0    17044\n",
      "NaN    14640\n",
      "2.0     2496\n",
      "1.5      935\n",
      "Name: count, dtype: int64\n",
      "\n",
      "=== bedrooms (unique=15) ===\n",
      "bedrooms\n",
      "1.0    19451\n",
      "NaN     6048\n",
      "2.0     5697\n",
      "0.0     2041\n",
      "Name: count, dtype: int64\n",
      "\n",
      "=== beds (unique=19) ===\n",
      "beds\n",
      "NaN    14702\n",
      "1.0    12807\n",
      "2.0     4946\n",
      "3.0     1806\n",
      "Name: count, dtype: int64\n",
      "\n",
      "=== estimated_occupancy_l365d (unique=57) ===\n",
      "estimated_occupancy_l365d\n",
      "0      25153\n",
      "255     3203\n",
      "60      2711\n",
      "120     1670\n",
      "Name: count, dtype: int64\n"
     ]
    }
   ],
   "source": [
    "show_group(0, top_n=4)"
   ]
  },
  {
   "cell_type": "code",
   "execution_count": null,
   "id": "1636e68d-dcf6-4157-8de5-0827fcda3ca4",
   "metadata": {},
   "outputs": [],
   "source": [
    "#Check for the missing values\n",
    "\n",
    "df.isna().any()"
   ]
  },
  {
   "cell_type": "code",
   "execution_count": null,
   "id": "19d49d74-3600-44b8-9826-2ec045a0382f",
   "metadata": {},
   "outputs": [],
   "source": [
    "#Calculating the percentage of missing values\n",
    "\n",
    "missing_values(df_orig)[missing[\"Total_perc\"] > 0].Total_perc"
   ]
  },
  {
   "cell_type": "code",
   "execution_count": null,
   "id": "d06c65ee-6f6b-4a86-9f42-2b16c31738c6",
   "metadata": {},
   "outputs": [],
   "source": [
    "# Mean of the Columns \"accommodates\"\n",
    "\n",
    "df[\"accommodates\"].mean().round(2)"
   ]
  },
  {
   "cell_type": "code",
   "execution_count": null,
   "id": "09545396-1dea-4597-be3f-976569dba57d",
   "metadata": {},
   "outputs": [],
   "source": [
    "# Mean of the Columns \"minimum_nights\", \"maximum_nights\"\n",
    "\n",
    "df[\"minimum_nights\"].mean().round(2), df[\"maximum_nights\"].mean().round(2) "
   ]
  },
  {
   "cell_type": "code",
   "execution_count": null,
   "id": "1ebc05a8-a369-4c55-8352-673cbda3f5e0",
   "metadata": {},
   "outputs": [],
   "source": [
    "# Max value per column\n",
    "\n",
    "df.max(numeric_only=True)"
   ]
  },
  {
   "cell_type": "code",
   "execution_count": null,
   "id": "70b3b640-335e-4442-9c7f-6da3d96de687",
   "metadata": {},
   "outputs": [],
   "source": [
    "# Min value per column\n",
    "\n",
    "df.min(numeric_only=True)"
   ]
  },
  {
   "cell_type": "code",
   "execution_count": null,
   "id": "0c01a2d8-4aec-4e12-86e5-4638d6bedccb",
   "metadata": {
    "scrolled": true
   },
   "outputs": [],
   "source": [
    "# Median\n",
    "df.median(numeric_only=True)"
   ]
  },
  {
   "cell_type": "code",
   "execution_count": null,
   "id": "d387cf08-d9fc-4bf6-8e05-3217a0164e7a",
   "metadata": {},
   "outputs": [],
   "source": [
    "# Standard Deviation\n",
    "df.std(numeric_only=True)"
   ]
  },
  {
   "cell_type": "code",
   "execution_count": null,
   "id": "85f7d459-31ac-4f90-a7dd-12972d067a41",
   "metadata": {},
   "outputs": [],
   "source": [
    "# Variance\n",
    "df.var(numeric_only=True)"
   ]
  },
  {
   "cell_type": "code",
   "execution_count": null,
   "id": "abc5bd01-673b-4e3b-b2ac-82c6b569cf41",
   "metadata": {},
   "outputs": [],
   "source": [
    "#Lower Quartile / First Quartile\n",
    "df.quantile(0.25, numeric_only=True)"
   ]
  },
  {
   "cell_type": "code",
   "execution_count": null,
   "id": "0ee51e9b-d235-4115-8c8f-0632b9cf803e",
   "metadata": {},
   "outputs": [],
   "source": [
    "#Second Quartile / Median\n",
    "df.quantile(0.50, numeric_only=True)"
   ]
  },
  {
   "cell_type": "code",
   "execution_count": null,
   "id": "a8c8e120-cf69-429d-93ef-5f854addd907",
   "metadata": {},
   "outputs": [],
   "source": [
    "#IQR (Interquartile Range)\n",
    "df.quantile(0.75, numeric_only=True) - df.quantile(0.25, numeric_only=True)"
   ]
  },
  {
   "cell_type": "code",
   "execution_count": null,
   "id": "324d55e3-c208-4882-8f73-0dbbd5b45976",
   "metadata": {},
   "outputs": [],
   "source": [
    "# Generate Descriptive statistic\n",
    "\n",
    "df.describe(include=['int64', 'float64'])"
   ]
  },
  {
   "cell_type": "code",
   "execution_count": null,
   "id": "ea335ef6-a3ee-4a8d-921f-9bfb91768658",
   "metadata": {},
   "outputs": [],
   "source": [
    "df.describe(include=['object', 'category'])"
   ]
  },
  {
   "cell_type": "code",
   "execution_count": null,
   "id": "18cf3c58-f9cb-46f2-b917-b3f33facc80b",
   "metadata": {},
   "outputs": [],
   "source": [
    "# Return unbiased kurtosis using Fisher’s definition of kurtosis\n",
    "\n",
    "df.kurt(numeric_only=True)"
   ]
  },
  {
   "cell_type": "code",
   "execution_count": null,
   "id": "ddafde12-dd0a-4acf-b23e-1c59fa491115",
   "metadata": {},
   "outputs": [],
   "source": [
    "#Correlation\n",
    "\n",
    "df.corr(numeric_only=True)"
   ]
  },
  {
   "cell_type": "code",
   "execution_count": null,
   "id": "326e702e-b6e7-4c3b-bafe-578f06848615",
   "metadata": {},
   "outputs": [],
   "source": [
    "#Covariance\n",
    "\n",
    "df.cov(numeric_only=True)"
   ]
  },
  {
   "cell_type": "code",
   "execution_count": null,
   "id": "74610011-4fd6-4493-96d8-b51f0e1bae75",
   "metadata": {
    "jupyter": {
     "source_hidden": true
    }
   },
   "outputs": [],
   "source": [
    "# ??? statistics modul\n",
    "# pip install statistics\n",
    "# import statistics as st\n",
    "\n",
    "# Hormonic Mean\n",
    "#st.harmonic_mean(df['price'])\n",
    "\n",
    "# low median of the data with EVEN length\n",
    "#st.median_low(df['price'])\n",
    "\n",
    "# Mode of Dataset\n",
    "#st.mode(unv_df[''])\n",
    "\n",
    "#Sample Standard Deviation\n",
    "#st.stdev(unv_df['price'])\n",
    "\n",
    "#Population Standard Deviation\n",
    "#st.pstdev(unv_df['price'])"
   ]
  },
  {
   "cell_type": "markdown",
   "id": "c4c49264-27cc-41d4-bf45-b8cc27973eb2",
   "metadata": {},
   "source": [
    "<a class=\"anchor\" id=\"2.3\"></a>\n",
    "<h3 style=\"background-color:#38ACEC;font-family:newtimeroman;font-size:180%;text-align:center;border-radius: 15px 50px;\">2.3 Fehlende Werte und Duplikate</h3>\n",
    "\n",
    "[**Inhaltsverzeichnis**](#0.1)"
   ]
  },
  {
   "cell_type": "code",
   "execution_count": null,
   "id": "f08f2ec0-be9b-4e8c-b127-a2e097362048",
   "metadata": {},
   "outputs": [],
   "source": [
    "# Anzahl unterschiedlicher Zeilen: 36322\n",
    "# Keine Duplikate\n",
    "\n",
    "df.drop_duplicates().shape[0]"
   ]
  },
  {
   "cell_type": "markdown",
   "id": "a7a95af8-d365-45a9-88b3-198596b29e69",
   "metadata": {
    "jupyter": {
     "source_hidden": true
    }
   },
   "source": [
    "TODOs:\n",
    "- all column containing Datum convert to datetime type\n",
    "- all columns containing \"boolean\" 't' and 'f' values convert to True/False boolean type\n",
    "- check type for numeruc columns and convert object type to flot/int (\"price\" col)\n",
    "- all columns object type containing strings convert to type string\n",
    "- investigate columns with a lot of missing values to decide which we can drop\n",
    "\n",
    "host_name                       0.041297 \\\n",
    "host_since                      0.041297 \\\n",
    "host_location                  20.398106 ==> drop \\\n",
    "host_response_time             40.669567 \\ \n",
    "host_response_rate             40.669567\\\n",
    "host_acceptance_rate           40.201531\\\n",
    "host_is_superhost               1.354551\\\n",
    "host_neighbourhood             20.064974\\\n",
    "host_listings_count             0.041297\\\n",
    "host_total_listings_count       0.041297\\\n",
    "host_verifications              0.041297\\\n",
    "host_has_profile_pic            0.041297\\\n",
    "host_identity_verified          0.041297\\\n",
    "neighbourhood                  47.456087 ==> drop\\\n",
    "bathrooms                       0.068829\\\n",
    "bathrooms_text                  0.099113 ==> drop\\\n",
    "bedrooms                       16.651065\\\n",
    "beds                           40.476846 ==> drop\\\n",
    "price                          40.920104 currency '$' \\\n",
    "has_availability               15.464457\\\n",
    "estimated_revenue_l365d        40.920104\\\n",
    "first_review                   30.700402\\\n",
    "last_review                    30.700402\\\n",
    "review_scores_rating           30.700402\\\n",
    "review_scores_accuracy         30.727933\\\n",
    "review_scores_cleanliness      30.703155\\\n",
    "review_scores_checkin          30.738946\\\n",
    "review_scores_communication    30.716921\\\n",
    "review_scores_location         30.747206\\\n",
    "review_scores_value            30.744452\\\n",
    "reviews_per_month              30.700402\n",
    "\n",
    "\n",
    "- drop the column \"bathrooms_text\": columns \"bathrooms\" and \"bathrooms_text\" contain similar info, \n",
    "so we can fill missing values in \"bathrooms\" with the corresponding values from \"bathrooms_text\" (it has 0.1% missing values)\n",
    "- fill missing values in columns with numeric type which we do not want to drop with mean value   \n",
    "- fill missing values in columns with dtype 'object' which we do not want to drop with \"unknown\" value\n",
    "- do not drop columns:\n",
    "- drop columns:\n",
    "- convert columns with dtype 'object' to the type 'category'\n",
    "- save the final dataframe to file\n",
    "\n",
    "\n",
    "STATISTIC:\n",
    "- Room type: Airbnb hosts can list entire homes/apartments, private, shared rooms, and more recently hotel rooms.\n",
    "   room_type:  ['Private room', 'Entire home/apt', 'Hotel room', 'Shared room']\n"
   ]
  },
  {
   "cell_type": "code",
   "execution_count": 9,
   "id": "94764c9e-755e-4671-afcd-1feadead36c8",
   "metadata": {},
   "outputs": [],
   "source": [
    "# 1) Datums-Typen bearbeiten\n",
    "if \"host_since\" in df.columns:\n",
    "    df[\"host_since\"] = pd.to_datetime(df[\"host_since\"], errors=\"coerce\")"
   ]
  },
  {
   "cell_type": "code",
   "execution_count": 10,
   "id": "d6b80254-7497-44d6-8650-077a594185a5",
   "metadata": {},
   "outputs": [],
   "source": [
    "# 1) Bool-Typen bearbeiten\n",
    "def to_bool(x):\n",
    "    if pd.isna(x):\n",
    "        return pd.NA\n",
    "    s = str(x).strip().lower()\n",
    "    if s == \"t\" or x == True: return True\n",
    "    if s == \"f\" or x == False:  return False\n",
    "    return pd.NA\n",
    "\n",
    "col_bool = [\"host_identity_verified\",\"instant_bookable\",\"has_availability\"]\n",
    "    \n",
    "for c in [\"host_identity_verified\", \"instant_bookable\",\"has_availability\"]:\n",
    "    if c in df.columns:\n",
    "        df[c] = df[c].map(to_bool).astype(\"boolean\")"
   ]
  },
  {
   "cell_type": "code",
   "execution_count": 11,
   "id": "66a00a26-0f61-4b76-bafc-6bc9cbaf0eb4",
   "metadata": {},
   "outputs": [
    {
     "data": {
      "text/plain": [
       "array(['Private room', 'Entire home/apt', 'Hotel room', 'Shared room'],\n",
       "      dtype=object)"
      ]
     },
     "execution_count": 11,
     "metadata": {},
     "output_type": "execute_result"
    }
   ],
   "source": [
    "# Investigate Room Type\n",
    "df[\"room_type\"].unique()"
   ]
  },
  {
   "cell_type": "code",
   "execution_count": 12,
   "id": "cbf66c37-2bcd-4fc0-950d-a804ef12fe44",
   "metadata": {},
   "outputs": [
    {
     "data": {
      "text/plain": [
       "array([ 1. ,  1.5,  nan,  2. ,  2.5,  3. ,  5. ,  0. ,  0.5,  3.5, 15.5,\n",
       "       10.5,  4. ,  4.5,  5.5,  6. ,  7. ,  7.5,  9. ,  6.5])"
      ]
     },
     "execution_count": 12,
     "metadata": {},
     "output_type": "execute_result"
    }
   ],
   "source": [
    "# Investigate\n",
    "df[\"bathrooms\"].unique()\n",
    "# array([ 1. ,  1.5,  nan,  2. ,  2.5,  3. ,  5. ,  0. ,  0.5,  3.5, 15.5,\n",
    "#        10.5,  4. ,  4.5,  5.5,  6. ,  7. ,  7.5,  9. ,  6.5])"
   ]
  },
  {
   "cell_type": "code",
   "execution_count": 13,
   "id": "ac5baa26-e42b-4452-b07d-625851e5fc60",
   "metadata": {},
   "outputs": [
    {
     "data": {
      "text/plain": [
       "array(['1 private bath', '1 bath', '1.5 baths', '1 shared bath',\n",
       "       '1.5 shared baths', '2 baths', '2.5 baths', nan, '3 baths',\n",
       "       '5 baths', '0 shared baths', '2 shared baths', 'Shared half-bath',\n",
       "       '3.5 baths', '2.5 shared baths', 'Half-bath', 'Private half-bath',\n",
       "       '0 baths', '15.5 baths', '3 shared baths', '10.5 baths', '4 baths',\n",
       "       '4.5 baths', '3.5 shared baths', '4 shared baths',\n",
       "       '4.5 shared baths', '5.5 baths', '6 baths', '7 baths',\n",
       "       '6 shared baths', '7.5 baths', '9 baths', '5 shared baths',\n",
       "       '6.5 baths'], dtype=object)"
      ]
     },
     "execution_count": 13,
     "metadata": {},
     "output_type": "execute_result"
    }
   ],
   "source": [
    "# Investigate\n",
    "df[\"bathrooms_text\"].unique()"
   ]
  },
  {
   "cell_type": "code",
   "execution_count": 14,
   "id": "69f3b077-11fc-4500-a06d-14f0f3aaaa2a",
   "metadata": {},
   "outputs": [
    {
     "data": {
      "text/html": [
       "<div>\n",
       "<style scoped>\n",
       "    .dataframe tbody tr th:only-of-type {\n",
       "        vertical-align: middle;\n",
       "    }\n",
       "\n",
       "    .dataframe tbody tr th {\n",
       "        vertical-align: top;\n",
       "    }\n",
       "\n",
       "    .dataframe thead th {\n",
       "        text-align: right;\n",
       "    }\n",
       "</style>\n",
       "<table border=\"1\" class=\"dataframe\">\n",
       "  <thead>\n",
       "    <tr style=\"text-align: right;\">\n",
       "      <th></th>\n",
       "      <th>bathrooms</th>\n",
       "      <th>bathrooms_text</th>\n",
       "    </tr>\n",
       "  </thead>\n",
       "  <tbody>\n",
       "    <tr>\n",
       "      <th>4</th>\n",
       "      <td>NaN</td>\n",
       "      <td>1 shared bath</td>\n",
       "    </tr>\n",
       "    <tr>\n",
       "      <th>6</th>\n",
       "      <td>NaN</td>\n",
       "      <td>1 shared bath</td>\n",
       "    </tr>\n",
       "    <tr>\n",
       "      <th>9</th>\n",
       "      <td>NaN</td>\n",
       "      <td>1 bath</td>\n",
       "    </tr>\n",
       "    <tr>\n",
       "      <th>10</th>\n",
       "      <td>NaN</td>\n",
       "      <td>1 bath</td>\n",
       "    </tr>\n",
       "    <tr>\n",
       "      <th>12</th>\n",
       "      <td>NaN</td>\n",
       "      <td>1.5 baths</td>\n",
       "    </tr>\n",
       "    <tr>\n",
       "      <th>13</th>\n",
       "      <td>NaN</td>\n",
       "      <td>1 bath</td>\n",
       "    </tr>\n",
       "    <tr>\n",
       "      <th>15</th>\n",
       "      <td>NaN</td>\n",
       "      <td>1 bath</td>\n",
       "    </tr>\n",
       "    <tr>\n",
       "      <th>18</th>\n",
       "      <td>NaN</td>\n",
       "      <td>2 baths</td>\n",
       "    </tr>\n",
       "    <tr>\n",
       "      <th>22</th>\n",
       "      <td>NaN</td>\n",
       "      <td>2.5 baths</td>\n",
       "    </tr>\n",
       "    <tr>\n",
       "      <th>24</th>\n",
       "      <td>NaN</td>\n",
       "      <td>1 shared bath</td>\n",
       "    </tr>\n",
       "  </tbody>\n",
       "</table>\n",
       "</div>"
      ],
      "text/plain": [
       "    bathrooms bathrooms_text\n",
       "4         NaN  1 shared bath\n",
       "6         NaN  1 shared bath\n",
       "9         NaN         1 bath\n",
       "10        NaN         1 bath\n",
       "12        NaN      1.5 baths\n",
       "13        NaN         1 bath\n",
       "15        NaN         1 bath\n",
       "18        NaN        2 baths\n",
       "22        NaN      2.5 baths\n",
       "24        NaN  1 shared bath"
      ]
     },
     "execution_count": 14,
     "metadata": {},
     "output_type": "execute_result"
    }
   ],
   "source": [
    "# Investigate: \"bathrooms\", \"bathrooms_text\"\n",
    "df_bathrooms_null_bathrooms_text = df[df[\"bathrooms\"].isnull()][[\"bathrooms\", \"bathrooms_text\"]]\n",
    "\n",
    "df_bathrooms_null_bathrooms_text.head(10)\n",
    "# df_bathrooms_null_bathrooms_text.index.values"
   ]
  },
  {
   "cell_type": "code",
   "execution_count": 15,
   "id": "1c57d9e5-0571-4c55-9fe6-ebc74fbf69fe",
   "metadata": {},
   "outputs": [
    {
     "data": {
      "text/plain": [
       "{'$'}"
      ]
     },
     "execution_count": 15,
     "metadata": {},
     "output_type": "execute_result"
    }
   ],
   "source": [
    "# Definition\n",
    "# Investigate \"price\" column\n",
    "\n",
    "def find_currency(df):\n",
    "    currency = []\n",
    "    for i in df[\"price\"].unique():\n",
    "        currency.append(str(i)[0])\n",
    "    currency.remove('n')\n",
    "    return set(currency)\n",
    "\n",
    "find_currency(df) # {'$'}"
   ]
  },
  {
   "cell_type": "code",
   "execution_count": 16,
   "id": "eee3ad3c-9df1-4dcb-96e3-1747a87d43b6",
   "metadata": {},
   "outputs": [
    {
     "data": {
      "text/plain": [
       "20    $162.00\n",
       "21    $173.00\n",
       "22        NaN\n",
       "23    $310.00\n",
       "24        NaN\n",
       "25        NaN\n",
       "26    $175.00\n",
       "Name: price, dtype: object"
      ]
     },
     "execution_count": 16,
     "metadata": {},
     "output_type": "execute_result"
    }
   ],
   "source": [
    "# df[df[\"price\"].isna() == True].loc[24]\n",
    "df[\"price\"].loc[20:26]"
   ]
  },
  {
   "cell_type": "code",
   "execution_count": 17,
   "id": "dafabaa2-e265-4efb-8b03-abcd2b65f7bb",
   "metadata": {},
   "outputs": [
    {
     "name": "stdout",
     "output_type": "stream",
     "text": [
      "Missing-Rate gesamt: 0.409\n",
      "\n",
      "room_type – Missing-Rate:\n",
      "room_type\n",
      "Private room       0.460602\n",
      "Entire home/apt    0.367790\n",
      "Hotel room         0.358209\n",
      "Shared room        0.320388\n",
      "Name: price, dtype: float64\n",
      "\n",
      "neighbourhood_group_cleansed – Missing-Rate:\n",
      "neighbourhood_group_cleansed\n",
      "Brooklyn         0.449921\n",
      "Manhattan        0.406567\n",
      "Queens           0.372736\n",
      "Bronx            0.239094\n",
      "Staten Island    0.128767\n",
      "Name: price, dtype: float64\n",
      "\n",
      "accommodates – Missing-Rate:\n",
      "accommodates\n",
      "3     0.451167\n",
      "1     0.438180\n",
      "2     0.426719\n",
      "4     0.387290\n",
      "12    0.352273\n",
      "5     0.336921\n",
      "15    0.333333\n",
      "7     0.326087\n",
      "6     0.286585\n",
      "14    0.238095\n",
      "Name: price, dtype: float64\n",
      "\n",
      "accommodates Median (price vorhanden vs. fehlend): 2.0 vs 2.0\n"
     ]
    }
   ],
   "source": [
    "# Fill missing price\n",
    "miss = df[\"price\"].isna()\n",
    "\n",
    "print(\"Missing-Rate gesamt:\", miss.mean().round(3))\n",
    "\n",
    "# Missing-Rate nach Segmenten\n",
    "for col in [\"room_type\",\"neighbourhood_group_cleansed\",\"accommodates\"]:\n",
    "    if col in df.columns:\n",
    "        print(f\"\\n{col} – Missing-Rate:\")\n",
    "        print(df.groupby(col)[\"price\"].apply(lambda s: s.isna().mean()).sort_values(ascending=False).head(10))\n",
    "\n",
    "# Vergleich zentraler Maße (nur grob)\n",
    "print(\"\\naccommodates Median (price vorhanden vs. fehlend):\",\n",
    "      df.loc[~miss,\"accommodates\"].median(), \"vs\", df.loc[miss,\"accommodates\"].median())\n"
   ]
  },
  {
   "cell_type": "code",
   "execution_count": 18,
   "id": "15badb8e-2436-47aa-b86c-024e42099480",
   "metadata": {},
   "outputs": [
    {
     "name": "stdout",
     "output_type": "stream",
     "text": [
      "\n",
      "room_type – Anteil je Kategorie (price vorhanden vs. fehlend)\n",
      "                 present  missing\n",
      "room_type                        \n",
      "Entire home/apt    0.573    0.481\n",
      "Private room       0.411    0.507\n",
      "Hotel room         0.010    0.008\n",
      "Shared room        0.007    0.004\n",
      "\n",
      "neighbourhood_group_cleansed – Anteil je Kategorie (price vorhanden vs. fehlend)\n",
      "                              present  missing\n",
      "neighbourhood_group_cleansed                  \n",
      "Manhattan                       0.445    0.440\n",
      "Brooklyn                        0.342    0.403\n",
      "Queens                          0.157    0.134\n",
      "Bronx                           0.042    0.019\n",
      "Staten Island                   0.015    0.003\n",
      "\n",
      "accommodates – Anteil je Kategorie (price vorhanden vs. fehlend)\n",
      "              present  missing\n",
      "accommodates                  \n",
      "2               0.460    0.494\n",
      "1               0.171    0.192\n",
      "4               0.153    0.139\n",
      "3               0.078    0.092\n",
      "6               0.055    0.032\n",
      "5               0.037    0.027\n",
      "8               0.021    0.009\n",
      "7               0.009    0.006\n",
      "10              0.005    0.002\n",
      "16              0.005    0.002\n",
      "9               0.003    0.001\n",
      "12              0.003    0.002\n",
      "11              0.001    0.000\n",
      "14              0.001    0.000\n",
      "15              0.000    0.000\n",
      "13              0.000    0.000\n"
     ]
    }
   ],
   "source": [
    "# Vergleich der Verteilungen: vorhandener Preis vs. fehlender Preis\n",
    "miss = df[\"price\"].isna()\n",
    "\n",
    "for col in [\"room_type\",\"neighbourhood_group_cleansed\",\"accommodates\"]:\n",
    "    if col in df.columns:\n",
    "        print(f\"\\n{col} – Anteil je Kategorie (price vorhanden vs. fehlend)\")\n",
    "        print(pd.concat({\n",
    "            \"present\": df.loc[~miss, col].value_counts(normalize=True),\n",
    "            \"missing\": df.loc[ miss, col].value_counts(normalize=True)\n",
    "        }, axis=1).fillna(0).round(3))\n"
   ]
  },
  {
   "cell_type": "code",
   "execution_count": 20,
   "id": "ac684425-7b9c-4c8d-a3df-b30fbbc7f58c",
   "metadata": {},
   "outputs": [
    {
     "data": {
      "text/plain": [
       "20    162.0\n",
       "21    173.0\n",
       "22      NaN\n",
       "23    310.0\n",
       "24      NaN\n",
       "25      NaN\n",
       "26    175.0\n",
       "Name: price, dtype: float64"
      ]
     },
     "execution_count": 20,
     "metadata": {},
     "output_type": "execute_result"
    }
   ],
   "source": [
    "# price säubern und zum Zahl convertieren\n",
    "\n",
    "df[\"price\"] = (df[\"price\"].astype(str)\n",
    "                .str.replace(r\"[^\\d.\\-]\", \"\", regex=True)\n",
    "                .replace({\"\": np.nan}).astype(float))\n",
    "\n",
    "\n",
    "df[\"price\"].loc[20:26]"
   ]
  },
  {
   "cell_type": "code",
   "execution_count": 21,
   "id": "7f1752b9-ef61-4fb5-8997-40df0472f400",
   "metadata": {},
   "outputs": [],
   "source": [
    "# Fill missing price: hierarchische Median-Imputation\n",
    "groupings = [\n",
    "    [\"neighbourhood_group_cleansed\",\"room_type\",\"accommodates\"],\n",
    "    [\"neighbourhood_group_cleansed\",\"room_type\"],\n",
    "    [\"room_type\",\"accommodates\"],\n",
    "    [\"room_type\"],\n",
    "]\n",
    "\n",
    "mask = df[\"price\"].isna()\n",
    "for cols in groupings:\n",
    "    cols = [c for c in cols if c in df.columns]\n",
    "    if not cols: \n",
    "        continue\n",
    "    med = df.groupby(cols)[\"price\"].transform(\"median\")\n",
    "    fill = df[\"price\"].isna() & med.notna()\n",
    "    df.loc[fill, \"price\"] = med[fill]\n",
    "\n",
    "# Fallback: globaler Median\n",
    "# if df[\"price\"].isna().any():\n",
    "#     df[\"price\"] = df[\"price\"].fillna(df[\"price\"].median())"
   ]
  },
  {
   "cell_type": "code",
   "execution_count": null,
   "id": "f099609f-cbc6-4a2f-aa57-b414eb6be402",
   "metadata": {},
   "outputs": [],
   "source": [
    "print(\"Fehlende Preise nach Imputation:\", df[\"price\"].isna().sum())"
   ]
  },
  {
   "cell_type": "code",
   "execution_count": null,
   "id": "2b45d194-e04a-4f5a-a830-a15d3dfded78",
   "metadata": {},
   "outputs": [],
   "source": [
    "# fill df[\"bathrooms\"] from df[\"bathrooms_text\"] only where it’s missing \n",
    "# (handles “1 bath”, “1.5 baths”, “Half-bath”, “shared half-bath”, “2 bathrooms”, etc.):\n",
    "\n",
    "# \n",
    "pattern = re.compile(r\"\"\"(?ix)\n",
    "    ^\\s*                                                          # allow leading spaces\n",
    "    (?:                                                           # start alternation\n",
    "        (?P<num>\\d+(?:\\.\\d+)?)\\s*                                 # 1, 1.5, 0, 15.5\n",
    "        (?: (?:private|shared)\\s+ )?                              # optional qualifier after number\n",
    "        bath(?:room)?s?                                           # bath / bathroom(s)\n",
    "      |\n",
    "        (?: (?:private|shared)\\s+ )?                              # optional qualifier before 'half'\n",
    "        half[-\\s]?bath(?:room)?s?                                 # half-bath / half bathroom(s)\n",
    "    )\n",
    "    \\s*$                                                          # allow trailing spaces\n",
    "\"\"\")\n",
    "\n",
    "def parse_bath(text: str):\n",
    "    \"\"\"Parse bath count from bathrooms_text (your listed formats).\"\"\"\n",
    "    if not isinstance(text, str) or not text.strip():\n",
    "        return np.nan\n",
    "    m = pattern.match(text.strip())\n",
    "    if not m:\n",
    "        return np.nan\n",
    "    if m.group('num') is not None:        # numeric forms: '1 bath', '1.5 shared baths', '0 baths'\n",
    "        return float(m.group('num'))\n",
    "    else:                                  # 'half-bath', 'shared half-bath', 'private half-bath'\n",
    "        return 0.5\n",
    "\n",
    "# fill only missing bathrooms from parsed bathrooms_text\n",
    "df[\"bathrooms\"] = df[\"bathrooms\"].fillna(df[\"bathrooms_text\"].apply(parse_bath))\n"
   ]
  },
  {
   "cell_type": "code",
   "execution_count": null,
   "id": "e0f29ee1-1477-4c31-9bc7-a41e35f9f925",
   "metadata": {},
   "outputs": [],
   "source": [
    "df_bathrooms_null_bathrooms_text_filled = df[df[\"bathrooms\"].isnull()][[\"bathrooms\", \"bathrooms_text\"]]\n",
    "\n",
    "len(df_bathrooms_null_bathrooms_text_filled)"
   ]
  },
  {
   "cell_type": "code",
   "execution_count": null,
   "id": "f17741c2-0ab0-4914-b3f6-b1dfd4cb2ce0",
   "metadata": {},
   "outputs": [],
   "source": [
    "df_bathrooms_null_bathrooms_text_filled.index.values"
   ]
  },
  {
   "cell_type": "code",
   "execution_count": null,
   "id": "bc6975a3-d89b-4ab4-8e38-21d898a876a0",
   "metadata": {},
   "outputs": [],
   "source": [
    "# Check\n",
    "for i in df_bathrooms_null_bathrooms_text_filled.index.values:\n",
    "    if i not in df_bathrooms_null_bathrooms_text.index.values:\n",
    "        print(\"Error: \", i)"
   ]
  },
  {
   "cell_type": "code",
   "execution_count": null,
   "id": "71a8eb53-8188-4466-8f6f-f0f5092a1400",
   "metadata": {},
   "outputs": [],
   "source": [
    "# Check\n",
    "# df[[\"bathrooms\", \"bathrooms_text\"]].loc[idx[0:15]]\n",
    "\n",
    "# bathrooms\tbathrooms_text\n",
    "# 4\t1.0\t1 shared bath\n",
    "# 6\t1.0\t1 shared bath\n",
    "# 9\t1.0\t1 bath\n",
    "# 10\t1.0\t1 bath\n",
    "# 12\t1.5\t1.5 baths\n",
    "# 13\t1.0\t1 bath\n",
    "# 15\t1.0\t1 bath\n",
    "# 18\t2.0\t2 baths\n",
    "# 22\t2.5\t2.5 baths\n",
    "# 24\t1.0\t1 shared bath\n",
    "# 25\t2.0\t2 baths\n",
    "# 34\t1.0\t1 bath\n",
    "# 35\t1.0\t1 bath\n",
    "# 38\t1.0\t1 bath\n",
    "# 39\t1.0\t1 bath"
   ]
  },
  {
   "cell_type": "code",
   "execution_count": null,
   "id": "c18adb8e-8efa-4052-b97a-fbe2c7b9cb83",
   "metadata": {},
   "outputs": [],
   "source": [
    "# Investigate: drop Yes\n",
    "df[\"neighbourhood\"].unique()\n",
    "\n",
    "# array(['Neighborhood highlights', nan], dtype=object)"
   ]
  },
  {
   "cell_type": "code",
   "execution_count": null,
   "id": "cd0e48c7-46ea-4237-91e4-46741f5f6ef3",
   "metadata": {},
   "outputs": [],
   "source": [
    "# Drop \"neighbourhood\". The reason: we have a column \"neighbourhood_cleansed\" with corrct location (district in NY)\n",
    "df = df.drop(\"neighbourhood\", axis=1)"
   ]
  },
  {
   "cell_type": "code",
   "execution_count": null,
   "id": "de914204-201e-4abd-84b3-3de78b49ff0b",
   "metadata": {},
   "outputs": [],
   "source": [
    "# Investigate: drop No\n",
    "len(df[\"host_neighbourhood\"].unique())\n",
    "\n",
    "# array(['Gravesend', 'Midtown', 'Greenwood Heights', 'Williamsburg',\n",
    "#        'East Harlem', 'Fort Greene', 'Ridgewood', 'Alphabet City',\n",
    "#        'Greenwich Village', 'Harlem', ...], dtype=object)"
   ]
  },
  {
   "cell_type": "code",
   "execution_count": null,
   "id": "59d45233-f7b1-400f-9a1c-6c8dddf1cb70",
   "metadata": {},
   "outputs": [],
   "source": [
    "# Investigate: drop No\n",
    "# df[\"host_location\"].unique()\n",
    "\n",
    "# array(['New York, NY', 'Woodstock, NY', ...])"
   ]
  },
  {
   "cell_type": "code",
   "execution_count": null,
   "id": "b70f5e3d-615b-4879-891e-f23315e3b7c4",
   "metadata": {},
   "outputs": [],
   "source": [
    "# bathrooms aus Text -> Zahl\n",
    "\n",
    "def parse_bath(text: str):\n",
    "    if not isinstance(text, str):\n",
    "        return None\n",
    "    total = 0.0\n",
    "    found = False\n",
    "    for m in pattern.finditer(text):\n",
    "        s = m.group(0).lower()\n",
    "        if \"half\" in s:         \n",
    "            total += 0.5\n",
    "            found = True\n",
    "        else:\n",
    "            num = re.search(r'\\d+(?:\\.\\d+)?|\\d+\\s*/\\s*\\d+|½', s).group(0)\n",
    "            if '/' in num:\n",
    "                a, b = num.split('/')\n",
    "                total += float(a) / float(b)\n",
    "            elif num == '½':\n",
    "                total += 0.5\n",
    "            else:\n",
    "                total += float(num)\n",
    "            found = True\n",
    "    return total if found else None\n",
    "\n",
    "df[\"bathrooms_from_text\"] = df[\"bathrooms_text\"].apply(parse_bath)\n",
    "\n",
    "# bedrooms mit Mittelwert füllen\n"
   ]
  },
  {
   "cell_type": "code",
   "execution_count": null,
   "id": "aef5d72f-b1f3-46f4-aefa-fc7f0ea87856",
   "metadata": {},
   "outputs": [],
   "source": [
    "df[\"bathrooms_from_text\"].unique()"
   ]
  },
  {
   "cell_type": "code",
   "execution_count": null,
   "id": "88f160db-3d59-42b4-b2dc-935f5825f6bc",
   "metadata": {},
   "outputs": [],
   "source": [
    "df[\"bathrooms\"].unique()"
   ]
  },
  {
   "cell_type": "code",
   "execution_count": null,
   "id": "69a2f79f-9621-4941-abde-590e127f9cf5",
   "metadata": {},
   "outputs": [],
   "source": [
    "# Investigate: \n",
    "df[df[\"host_location\"].notnull()][[\"host_location\", \"latitude\", \"longitude\"]].head(10)"
   ]
  },
  {
   "cell_type": "code",
   "execution_count": null,
   "id": "1443658e-41d3-4b20-8b23-d1e50e805656",
   "metadata": {},
   "outputs": [],
   "source": [
    "# df[\"host_location\"].unique()\n",
    "# array(['New York, NY', 'Woodstock, NY', 'Las Vegas, NV',\n",
    "       # 'New York, United States', 'Great Neck, NY', dtype=object...])"
   ]
  },
  {
   "cell_type": "code",
   "execution_count": null,
   "id": "bc92a9bc-8931-4463-ab49-9b593098fe1d",
   "metadata": {},
   "outputs": [],
   "source": [
    "# Investigate df[\"host_location\"]\n",
    "# Convert type df[\"host_location\"] to string\n",
    "df[\"host_location\"] = df[\"host_location\"].astype(\"string\") \n",
    "\n",
    "df[df[\"host_location\"] == \"Calgary, Canada\"][[\"host_location\", \"latitude\", \"longitude\"]]\n",
    "#         host_location\tlatitude\tlongitude\n",
    "# 34152\tCalgary, Canada\t40.678622\t-73.946671\n",
    "# BUT IT\"S NY !!!!\n",
    "\n",
    "df[df[\"host_location\"] == \"Vila Velha, Brazil\"][[\"host_location\", \"latitude\", \"longitude\"]]\n",
    "#         host_location\tlatitude\tlongitude\n",
    "# 35999\tVila Velha, Brazil\t40.730115\t-73.982319\n",
    "# BUT IT\"S NY !!!!\n",
    "# DROP df[\"host_location\"] - a lot of "
   ]
  },
  {
   "cell_type": "code",
   "execution_count": null,
   "id": "ab58d029-f16e-46e7-8c50-feea00d1b9f8",
   "metadata": {},
   "outputs": [],
   "source": [
    "# Drop \"host_location\"\n",
    "df = df.drop(\"host_location\", axis=1)"
   ]
  },
  {
   "cell_type": "code",
   "execution_count": null,
   "id": "73ee64e0-28e9-4959-8ab0-8e14bd7661b5",
   "metadata": {},
   "outputs": [],
   "source": [
    "# Investigate: drop Yes - not in the dictionary !!!!!\n",
    "df[\"estimated_revenue_l365d\"].unique()"
   ]
  },
  {
   "cell_type": "code",
   "execution_count": null,
   "id": "af83c088-38c0-47cb-9960-6a376160b13a",
   "metadata": {},
   "outputs": [],
   "source": [
    "# Drop \"estimated_revenue_l365d\" missing values > 40%\n",
    "df = df.drop(\"estimated_revenue_l365d\", axis=1)"
   ]
  },
  {
   "cell_type": "code",
   "execution_count": null,
   "id": "4d2b3665-ddb0-41f7-9795-f8e326a93717",
   "metadata": {},
   "outputs": [],
   "source": [
    "missing = missing_values(df)\n",
    "cols_to_drop = missing[missing[\"Total_perc\"] > 0].Total_perc\n",
    "cols_to_drop"
   ]
  },
  {
   "cell_type": "code",
   "execution_count": null,
   "id": "efb3aaed-f3ec-4a5b-9e0a-0f457551daf1",
   "metadata": {},
   "outputs": [],
   "source": [
    "# Investigate \"has_availability \"\n",
    "df[\"has_availability\"].unique()\n",
    "# >>>\n",
    "# <BooleanArray>\n",
    "# [True, <NA>]\n",
    "# Length: 2, dtype: boolean\n",
    "\n",
    "df[df[\"has_availability\"].isnull()][[\"has_availability\", \"availability_30\", \"availability_60\", \"availability_90\", \"availability_365\"]]\n",
    "# >>>\n",
    "#        has_availability\tavailability_30\tavailability_60\tavailability_90\tavailability_365\n",
    "# 13\t<NA>\t0\t0\t0\t0\n",
    "# 35\t<NA>\t0\t0\t0\t0\n",
    "# 42\t<NA>\t0\t0\t0\t0\n",
    "# 59\t<NA>\t0\t0\t0\t0\n",
    "# 71\t<NA>\t0\t0\t0\t0\n",
    "# ...\t...\t...\t...\t...\t...\n",
    "# 36268\t<NA>\t28\t58\t88\t88\n",
    "# 36273\t<NA>\t6\t21\t51\t141\n",
    "# 36276\t<NA>\t30\t60\t90\t365\n",
    "# 36306\t<NA>\t16\t46\t66\t66\n",
    "# 36311\t<NA>\t10\t31\t31\t31\n",
    "\n",
    "# len(df[df[\"availability_30\"] == 0][df[\"availability_60\"] == 0][df[\"availability_90\"] == 0][df[\"availability_365\"] == 0][[\"has_availability\"]])\n",
    "\n",
    "mask = (\n",
    "    df[\"availability_30\"].eq(0) &\n",
    "    df[\"availability_60\"].eq(0) &\n",
    "    df[\"availability_90\"].eq(0) &\n",
    "    df[\"availability_365\"].eq(0) &\n",
    "    df[\"has_availability\"].isna()\n",
    ")\n",
    "\n",
    "count = mask.sum()          # number of rows\n",
    "rows  = df.loc[mask]        # the matching rows (if you need them)\n",
    "count\n",
    "rows[[\"has_availability\",\"availability_30\",\"availability_60\",\"availability_90\",\"availability_365\"]]"
   ]
  },
  {
   "cell_type": "code",
   "execution_count": null,
   "id": "25f010e1-7ff0-478d-983f-f3288a85eeff",
   "metadata": {},
   "outputs": [],
   "source": [
    "mask = (\n",
    "    df[\"has_availability\"].isna() |\n",
    "    df[\"availability_30\"].eq(0) &\n",
    "    df[\"availability_60\"].eq(0) &\n",
    "    df[\"availability_90\"].eq(0) &\n",
    "    df[\"availability_365\"].eq(0)\n",
    ")\n",
    "\n",
    "count = mask.sum()          # number of rows\n",
    "rows  = df.loc[mask]        # the matching rows (if you need them)\n",
    "count\n",
    "rows[[\"has_availability\",\"availability_30\",\"availability_60\",\"availability_90\",\"availability_365\"]]"
   ]
  },
  {
   "cell_type": "code",
   "execution_count": null,
   "id": "5b05730d-e7c5-4adf-bf33-b1a8dc31595e",
   "metadata": {},
   "outputs": [],
   "source": [
    "# Clean df[\"has_availability\"]\n",
    "# fill the 15% missing in has_availability using the calendar windows (no NAs left):\n",
    "\n",
    "# Minimal (use 365 days only)\n",
    "# True if there is at least 1 available day in the next 365, else False\n",
    "df[\"has_availability\"] = (\n",
    "    df[\"has_availability\"]\n",
    "      .fillna(df[\"availability_365\"].gt(0))\n",
    "      .astype(\"boolean\")\n",
    ")"
   ]
  },
  {
   "cell_type": "code",
   "execution_count": null,
   "id": "8e4b8f09-26d8-4b57-9d59-2dbf218dff8a",
   "metadata": {},
   "outputs": [],
   "source": [
    "missing = missing_values(df)\n",
    "cols_to_drop = missing[missing[\"Total_perc\"] > 10].Total_perc\n",
    "cols_to_drop"
   ]
  },
  {
   "cell_type": "code",
   "execution_count": null,
   "id": "f165dcca-620b-448b-a66f-1cbe819b8517",
   "metadata": {},
   "outputs": [],
   "source": [
    "# Investigate \n",
    "# bedrooms\" missing values 16.651065\n",
    "# beds: missing values 40.476846\n",
    "# mask = (\n",
    "#     df[\"beds\"].eq(0) &\n",
    "#     df[\"bedrooms\"].eq(0)\n",
    "# )\n",
    "\n",
    "# count = mask.sum()  \n",
    "# count\n",
    "# rows  = df.loc[mask] \n",
    "# rows[[\"beds\", \"bedrooms\"]]\n",
    "# 60\n",
    "\n",
    "# mask = (\n",
    "#     df[\"beds\"].isnull() &\n",
    "#     df[\"bedrooms\"].notnull()\n",
    "# )\n",
    "# mask = (\n",
    "#     df[\"beds\"].notnull() &\n",
    "#     df[\"bedrooms\"].notnull() &\n",
    "#     df[\"beds\"] > df[\"bedrooms\"]\n",
    "# )\n",
    "# rows  = df.loc[mask]\n",
    "# len(rows)*100/len(df) # 24 %\n",
    "\n",
    "# Let's drop [\"beds\", \"bedrooms\"] - viel missing data\n",
    "\n",
    "# mask = (\n",
    "#     df[\"bathrooms\"].notnull() &\n",
    "#     df[\"bathrooms_from_text\"] !=  df[\"bathrooms\"]\n",
    "# )\n",
    "\n",
    "# rows  = df.loc[mask]\n",
    "# len(rows)\n",
    "# # Let's drop \"bathrooms_from_text\" - it's redundent data"
   ]
  },
  {
   "cell_type": "code",
   "execution_count": null,
   "id": "864c8067-4171-4d9a-a2b7-f491dd747aad",
   "metadata": {},
   "outputs": [],
   "source": [
    "# Do not need for statistic:\n",
    "\n",
    "# Drop \"host_response_time\" missing values > 40%\n",
    "df = df.drop(\"host_response_time\", axis=1)\n",
    "\n",
    "# Drop \"host_response_rate\" missing values > 40%\n",
    "df = df.drop(\"host_response_rate\", axis=1)\n",
    "\n",
    "# Drop \"host_acceptance_rate\" missing values > 40%\n",
    "df = df.drop(\"host_acceptance_rate\", axis=1)\n",
    "\n",
    "\n",
    "# Drop \"host_neighbourhood\" missing values > 20%\n",
    "# The reason: we have a column \"neighbourhood_cleansed\" with correct location (district in NY) -symilar to \"host_neighbourhood\"\n",
    "df = df.drop(\"host_neighbourhood\", axis=1)\n",
    "\n",
    "\n",
    "# Drop. The reason: No discription in the Data Dictionary\n",
    "# Drop \"host_is_superhost\" \n",
    "df = df.drop(\"host_is_superhost\", axis=1)\n",
    "\n",
    "# Drop \"host_verifications\" \n",
    "df = df.drop(\"host_verifications\", axis=1)\n",
    "\n",
    "# Drop [\"beds\", \"bedrooms\"] - viel missing data\n",
    "df = df.drop(\"beds\", axis=1)\n",
    "df = df.drop(\"bedrooms\", axis=1)\n",
    "\n",
    "# Drop \"host_has_profile_pic\" \n",
    "df = df.drop(\"host_has_profile_pic\", axis=1)\n",
    "\n",
    "# Drop \"bathrooms_text\"\n",
    "df = df.drop(\"bathrooms_text\", axis=1)\n",
    "\n",
    "# Drop \"bathrooms_from_text\" \n",
    "df = df.drop(\"bathrooms_from_text\", axis=1)"
   ]
  },
  {
   "cell_type": "code",
   "execution_count": null,
   "id": "698fbaef-6fbb-44b2-b9e6-527ed604c456",
   "metadata": {},
   "outputs": [],
   "source": [
    "# Investigate reviews. The reasin: missing values > 30 %\n",
    "\n",
    "file_reviews_big =\"data/12/NewYorkCity/reviews_big.csv\"\n",
    "df_reviews_big = pd.read_csv(file_reviews_big, low_memory=False)\n",
    "\n",
    "# print(len(df_reviews_big[\"listing_id\"].unique()), len(df[\"id\"].unique())) # 25171 36322\n",
    "\n",
    "# set_reviewb = set(df_reviews_big[\"listing_id\"].unique())\n",
    "# set_listingsb = set(df[\"id\"].unique())\n",
    "# set_reviewb.difference(set_listingsb)\n",
    "# len([i for i in set_listingsb if i in set_reviewb]) # 25171\n",
    "# len([i for i in set_listingsb if i not in set_reviewb]) # 11151\n",
    "# len([i for i in set_reviewb if i in set_listingsb]) # 25171\n",
    "\n",
    "# # All \"listing_id\" from \"reviews_big.csv\" are presented also in \"listings_big.csv\" as \"id\"\n",
    "# len([i for i in set_reviewb if i not in set_listingsb]) # 0\n",
    "\n",
    "df_reviews_big.info()\n",
    "# Conclusion: the column: \"date\" of the review can be interesting!!!!!!!!!!!!!!!!!!!!!!"
   ]
  },
  {
   "cell_type": "code",
   "execution_count": null,
   "id": "90f528a1-f035-449c-bccc-42022a76b88e",
   "metadata": {},
   "outputs": [],
   "source": [
    "missing_values(df)[missing[\"Total_perc\"] >= 0].Total_perc"
   ]
  },
  {
   "cell_type": "code",
   "execution_count": null,
   "id": "4133b9f0-d7ef-4c8c-9e5a-a9afa3aebd55",
   "metadata": {},
   "outputs": [],
   "source": [
    "# Drop all columns regarding reviews. The reason: missing values > 30 %\n",
    "# Fehlende Werte: Spalten mit hoher als 20% Fehlrate droppen.\n",
    "cols = df.columns[df.isna().mean() > 0.30]\n",
    "df = df.drop(columns=cols, axis=1)\n",
    "df.info()"
   ]
  },
  {
   "cell_type": "code",
   "execution_count": null,
   "id": "1ccbc5a4-a8c2-4247-bd8e-56cf3763f349",
   "metadata": {},
   "outputs": [],
   "source": [
    "missing_values(df)[missing[\"Total_perc\"] > 0].Total_perc"
   ]
  },
  {
   "cell_type": "code",
   "execution_count": null,
   "id": "e1d44eeb-bed8-4eec-b9a3-e17cbbb07772",
   "metadata": {},
   "outputs": [],
   "source": [
    "df.info()"
   ]
  },
  {
   "cell_type": "code",
   "execution_count": null,
   "id": "aa29f65a-b9fc-402d-8d4e-3ca4b0605b03",
   "metadata": {},
   "outputs": [],
   "source": [
    "# Fullen Fehlende Wette\n",
    "num_cols  = df.select_dtypes(include=\"number\").columns\n",
    "cat_cols  = df.select_dtypes(include=[\"object\",\"category\"]).columns\n",
    "bool_cols = df.select_dtypes(include=\"boolean\").columns\n",
    "dt_cols   = df.select_dtypes(include=\"datetime\").columns"
   ]
  },
  {
   "cell_type": "code",
   "execution_count": null,
   "id": "f7629428-be93-424e-aff8-24693b9773f8",
   "metadata": {},
   "outputs": [],
   "source": [
    "# Numerische Werte\n",
    "df[num_cols] = df[num_cols].apply(lambda s: s.fillna(s.median()))\n",
    "\n",
    "# kategoriale Werte\n",
    "for c in cat_cols:\n",
    "    if df[c].isna().any():\n",
    "        mode = df[c].mode(dropna=True)\n",
    "        df[c] = df[c].fillna(mode.iloc[0] if not mode.empty else \"Unbekannt\")\n",
    "\n",
    "# boolesche Werte\n",
    "for c in bool_cols:\n",
    "    df[c] = df[c].fillna(False)\n",
    "\n",
    "\n",
    "for c in dt_cols:\n",
    "    if df[c].isna().any():\n",
    "        m = df[c].mode(dropna=True)\n",
    "        if not m.empty:\n",
    "            df[c] = df[c].fillna(m.iloc[0])\n",
    "            "
   ]
  },
  {
   "cell_type": "code",
   "execution_count": null,
   "id": "b1eceaf4-b673-4025-a75d-57716af806d2",
   "metadata": {},
   "outputs": [],
   "source": [
    "missing_values(df)[missing[\"Total_perc\"] >= 0].Total_perc"
   ]
  },
  {
   "cell_type": "code",
   "execution_count": null,
   "id": "5c34f07f-54b0-4afb-9c5a-481a8da43279",
   "metadata": {},
   "outputs": [],
   "source": [
    "# Save dataframe to csv file\n",
    "df.to_csv(f\"{file[:-4]}_clean.csv\")"
   ]
  },
  {
   "cell_type": "code",
   "execution_count": null,
   "id": "d6fbde8f-e97d-4c0b-b709-f8078c90cbcf",
   "metadata": {},
   "outputs": [],
   "source": [
    "df.info()"
   ]
  },
  {
   "cell_type": "code",
   "execution_count": null,
   "id": "f393520f-91fe-4842-9004-01aa1b943a6a",
   "metadata": {},
   "outputs": [],
   "source": []
  },
  {
   "cell_type": "code",
   "execution_count": null,
   "id": "84c2846f-afd4-460f-bd26-8ed749c57170",
   "metadata": {},
   "outputs": [],
   "source": []
  }
 ],
 "metadata": {
  "kernelspec": {
   "display_name": "Python 3 (ipykernel)",
   "language": "python",
   "name": "python3"
  },
  "language_info": {
   "codemirror_mode": {
    "name": "ipython",
    "version": 3
   },
   "file_extension": ".py",
   "mimetype": "text/x-python",
   "name": "python",
   "nbconvert_exporter": "python",
   "pygments_lexer": "ipython3",
   "version": "3.12.10"
  }
 },
 "nbformat": 4,
 "nbformat_minor": 5
}
